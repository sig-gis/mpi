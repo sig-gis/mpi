{
 "cells": [
  {
   "cell_type": "code",
   "execution_count": 1,
   "id": "57f22b6f-5b20-44d5-b8f7-320cba7b4ebd",
   "metadata": {},
   "outputs": [],
   "source": [
    "import rasterio\n",
    "from pathlib import Path\n",
    "# import matplotlib.pyplot as plt\n",
    "# from rasterio.plot import show\n",
    "# import numpy as np"
   ]
  },
  {
   "cell_type": "code",
   "execution_count": 3,
   "id": "700afc07-e4e0-4ea2-9cea-21b95b95bd75",
   "metadata": {},
   "outputs": [],
   "source": [
    "from rasterio.warp import calculate_default_transform, reproject, Resampling"
   ]
  },
  {
   "cell_type": "code",
   "execution_count": 2,
   "id": "3c0d79be-de05-4788-828b-e8c11ff4c060",
   "metadata": {},
   "outputs": [],
   "source": [
    "code_path = Path().absolute()\n",
    "datafd_path = code_path.parent.parent / 'data'\n",
    "outfd_path = code_path.parent.parent / 'output'"
   ]
  },
  {
   "cell_type": "markdown",
   "id": "dcf83603-6eac-4b77-a533-df70af27c44a",
   "metadata": {
    "tags": []
   },
   "source": [
    "#### reproject camb_tcc_2005_mean_300m.tif to ESRI:102016, a weird projection"
   ]
  },
  {
   "cell_type": "code",
   "execution_count": 4,
   "id": "9e1463de-659b-4297-bfa0-3a9bb6be1b19",
   "metadata": {},
   "outputs": [],
   "source": [
    "dst_crs = 'ESRI:102016'"
   ]
  },
  {
   "cell_type": "code",
   "execution_count": 5,
   "id": "f081705e-0715-4f63-a884-540db3752f03",
   "metadata": {},
   "outputs": [],
   "source": [
    "with rasterio.open(datafd_path / 'share_to_others' / 'camb_tcc_2005_mean_300m.tif', 'r') as src:\n",
    "    transform, width, height = calculate_default_transform(\n",
    "        src.crs, dst_crs, src.width, src.height, *src.bounds)\n",
    "    kwargs = src.meta.copy()\n",
    "    kwargs.update({\n",
    "        'crs': dst_crs,\n",
    "        'transform': transform,\n",
    "        'width': width,\n",
    "        'height': height\n",
    "    })\n",
    "\n",
    "    with rasterio.open(datafd_path / 'share_to_others' / 'camb_tcc_2005_mean_300m_102016.tif', 'w', **kwargs) as dst:\n",
    "        for i in range(1, src.count + 1):\n",
    "            reproject(\n",
    "                source=rasterio.band(src, i),\n",
    "                destination=rasterio.band(dst, i),\n",
    "                src_transform=src.transform,\n",
    "                src_crs=src.crs,\n",
    "                dst_transform=transform,\n",
    "                dst_crs=dst_crs,\n",
    "                resampling=Resampling.nearest)"
   ]
  }
 ],
 "metadata": {
  "kernelspec": {
   "display_name": "Python 3 (ipykernel)",
   "language": "python",
   "name": "python3"
  },
  "language_info": {
   "codemirror_mode": {
    "name": "ipython",
    "version": 3
   },
   "file_extension": ".py",
   "mimetype": "text/x-python",
   "name": "python",
   "nbconvert_exporter": "python",
   "pygments_lexer": "ipython3",
   "version": "3.10.11"
  }
 },
 "nbformat": 4,
 "nbformat_minor": 5
}
