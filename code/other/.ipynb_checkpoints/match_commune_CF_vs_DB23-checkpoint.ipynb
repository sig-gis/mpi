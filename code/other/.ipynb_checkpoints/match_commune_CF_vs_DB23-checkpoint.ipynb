{
 "cells": [
  {
   "cell_type": "markdown",
   "id": "8adfe7ea-c989-4b36-a8ee-3683c6b2aec1",
   "metadata": {},
   "source": [
    "This notebook tries to find commune codes and names of CFs as they are represented in DB23 (`ncdd_admin_database_25provinces__2023.xlsx` from Lok on 20231212)."
   ]
  },
  {
   "cell_type": "code",
   "execution_count": 1,
   "id": "2af51d1c-ec6c-4a87-8680-8314c4d927cd",
   "metadata": {},
   "outputs": [],
   "source": [
    "import pandas as pd\n",
    "import numpy as np\n",
    "from pathlib import Path\n",
    "from itables import show"
   ]
  },
  {
   "cell_type": "code",
   "execution_count": 2,
   "id": "58d0aa89-569b-4c60-bfe1-db720151e29b",
   "metadata": {},
   "outputs": [],
   "source": [
    "%load_ext autoreload\n",
    "%autoreload 2"
   ]
  },
  {
   "cell_type": "code",
   "execution_count": 4,
   "id": "4a90dd84-8ef5-48c2-b583-8f4293a5b282",
   "metadata": {},
   "outputs": [],
   "source": [
    "from utils.match_commune_CF_vs_DB23 import *"
   ]
  },
  {
   "cell_type": "code",
   "execution_count": 5,
   "id": "ef9c0942-dbc0-45b2-90af-54f7d8b248e3",
   "metadata": {},
   "outputs": [],
   "source": [
    "# paths\n",
    "code_path = Path().absolute()\n",
    "datafd_path = code_path.parent.parent / 'data'\n",
    "intmd_outfd_path = code_path.parent.parent / 'output_intmd' / 'match_CF_DB23'"
   ]
  },
  {
   "cell_type": "markdown",
   "id": "521edf7f-c83d-42f1-9902-23251a947b59",
   "metadata": {},
   "source": [
    "## Read in data"
   ]
  },
  {
   "cell_type": "markdown",
   "id": "05534acf-2dcd-4424-a1cb-8b57e2318650",
   "metadata": {},
   "source": [
    "### CF data: 74 CFs whose previously matched CDB communes (if any) fail to find it a DB23 commune\n",
    "CF communes and districts names matched to CDB ones\n",
    "\n",
    "a list of CDB villages in the commune each CF belongs to\n",
    "\n",
    "and more"
   ]
  },
  {
   "cell_type": "code",
   "execution_count": 6,
   "id": "8da1298a-0fe5-4327-a3d0-87eaea18bfea",
   "metadata": {},
   "outputs": [],
   "source": [
    "CF_vlst_df = pd.read_csv(intmd_outfd_path / 'CF_w_match_helper_vill_tomatch.csv')"
   ]
  },
  {
   "cell_type": "markdown",
   "id": "ee9b9a1a-618e-4b63-973d-b6c404399720",
   "metadata": {},
   "source": [
    "## Initial processing of DB23"
   ]
  },
  {
   "cell_type": "markdown",
   "id": "f811e241-4a2d-43ff-b803-1ec18c544efe",
   "metadata": {},
   "source": [
    "### Read in DB23 and stack all sheets vertically into `db_df`"
   ]
  },
  {
   "cell_type": "code",
   "execution_count": 7,
   "id": "b4b698c6-5726-4c04-8b56-0b33b84c876e",
   "metadata": {},
   "outputs": [],
   "source": [
    "DB23_path = datafd_path / 'other' / 'ncdd_admin_database_25provinces__2023.xlsx'\n",
    "DB23_df_dic = pd.read_excel(DB23_path, sheet_name=None, header=2)  \n",
    "# all sheets, key=sheet name, skip first 2 rows, make row 3 header"
   ]
  },
  {
   "cell_type": "code",
   "execution_count": 8,
   "id": "89adad42-ef8c-4728-9cbf-560b2342681c",
   "metadata": {},
   "outputs": [],
   "source": [
    "sht_name_lst = list(DB23_df_dic.keys())\n",
    "db_prov_df_lst = [DB23_df_dic[sht] for sht in sht_name_lst]"
   ]
  },
  {
   "cell_type": "code",
   "execution_count": 9,
   "id": "f784e7b1-97bd-4ee5-9c4a-6f26f0ad1908",
   "metadata": {},
   "outputs": [],
   "source": [
    "db_df = pd.concat(db_prov_df_lst)"
   ]
  },
  {
   "cell_type": "markdown",
   "id": "2a1c9698-f36d-40c2-8213-bf74fd052be0",
   "metadata": {
    "tags": []
   },
   "source": [
    "## ChatGPT"
   ]
  },
  {
   "cell_type": "markdown",
   "id": "eb56a9de-2142-4dbc-a3db-c93226ff8c70",
   "metadata": {},
   "source": [
    "#### Step 1: Attempting to match using Code_Srok and Code_Khum (of CF) against the commune codes in the reference dataset (DB23)\n"
   ]
  },
  {
   "cell_type": "code",
   "execution_count": 15,
   "id": "c4c79758-2913-444b-a420-0c975df6dda7",
   "metadata": {},
   "outputs": [],
   "source": [
    "db_comm_df = db_df[db_df.Type == 'ឃុំ']"
   ]
  },
  {
   "cell_type": "code",
   "execution_count": 16,
   "id": "5736af34-bceb-425e-b8d7-6c7eb9687232",
   "metadata": {},
   "outputs": [],
   "source": [
    "# Apply the matching function to the subset data\n",
    "CF_vlst_df['Matched_Commune_Name'], CF_vlst_df['Matched_Commune_Code'] = zip(\n",
    "    *CF_vlst_df.apply(\n",
    "        lambda row: match_commune_by_codes(row, ref_data=db_comm_df), axis=1\n",
    "    )\n",
    ")"
   ]
  },
  {
   "cell_type": "code",
   "execution_count": 19,
   "id": "401e767b-93ea-4bd3-a710-248d45f80bfb",
   "metadata": {},
   "outputs": [
    {
     "data": {
      "text/html": [
       "<style>.itables table td {\n",
       "    text-overflow: ellipsis;\n",
       "    overflow: hidden;\n",
       "}\n",
       "\n",
       ".itables table th {\n",
       "    text-overflow: ellipsis;\n",
       "    overflow: hidden;\n",
       "}\n",
       "\n",
       ".itables thead input {\n",
       "    width: 100%;\n",
       "    padding: 3px;\n",
       "    box-sizing: border-box;\n",
       "}\n",
       "\n",
       ".itables tfoot input {\n",
       "    width: 100%;\n",
       "    padding: 3px;\n",
       "    box-sizing: border-box;\n",
       "}\n",
       "</style>\n",
       "<div class=\"itables\">\n",
       "<table id=\"2cb7916e-cf82-43b4-b99c-58ddd6c2f412\" class=\"display nowrap\"style=\"table-layout:auto;width:auto;margin:auto;caption-side:bottom\"><thead>\n",
       "    <tr style=\"text-align: right;\">\n",
       "      \n",
       "      <th>Code_Srok</th>\n",
       "      <th>Code_Khum</th>\n",
       "      <th>Matched_Commune_Code</th>\n",
       "      <th>Commune</th>\n",
       "      <th>Matched_Commune_Name</th>\n",
       "      <th>UniqueID</th>\n",
       "    </tr>\n",
       "  </thead><tbody><tr><td>Loading... (need <a href=https://mwouts.github.io/itables/troubleshooting.html>help</a>?)</td></tr></tbody></table>\n",
       "<link rel=\"stylesheet\" type=\"text/css\" href=\"https://cdn.datatables.net/1.13.1/css/jquery.dataTables.min.css\">\n",
       "<script type=\"module\">\n",
       "    // Import jquery and DataTable\n",
       "    import 'https://code.jquery.com/jquery-3.6.0.min.js';\n",
       "    import dt from 'https://cdn.datatables.net/1.12.1/js/jquery.dataTables.mjs';\n",
       "    dt($);\n",
       "\n",
       "    // Define the table data\n",
       "    const data = [[201, 20107, 20107.0, \"Snoeng,Chaeng Meanchey\", \"Snoeng\", 14], [0, 0, NaN, \"Steung\", \"None\", 656], [209, 20905, 20905.0, \"Samlaut, Sung\", \"Samlout\", 31], [209, 20905, 20905.0, \"Samlaut, Sung\", \"Samlout\", 41], [0, 0, NaN, \"NaN\", \"None\", 652], [0, 0, NaN, \"Konsat\", \"None\", 376], [0, 0, NaN, \"Steung Keo\", \"None\", 374], [0, 0, NaN, \"Preak Thnaot\", \"None\", 389], [906, 90603, 90603.0, \"Chi Khor\", \"Chi kha Leu\", 170], [0, 0, NaN, \"Chang Krang\", \"None\", 484], [0, 0, NaN, \"Kan Tout\", \"None\", 482], [0, 0, NaN, \"Kbal Damrei\", \"None\", 498], [0, 0, NaN, \"Kbal Damrei\", \"None\", 496], [0, 0, NaN, \"Kbal Damrei\", \"None\", 519], [0, 0, NaN, \"O Kreing\", \"None\", 513], [0, 0, NaN, \"O Kreing\", \"None\", 514], [0, 0, NaN, \"Rolous\", \"None\", 525], [0, 0, NaN, \"Srea Chis\", \"None\", 477], [1004, 100405, 100401.0, \"O Kreang\", \"Boeng Char\", 179], [1004, 100405, 100401.0, \"O Kreang\", \"Boeng Char\", 182], [1004, 100405, 100401.0, \"O Kreang\", \"Boeng Char\", 183], [0, 0, NaN, \"O Kreang\", \"None\", 554], [1004, 100406, 100401.0, \"Roluos Meanchey\", \"Boeng Char\", 184], [1004, 100406, 100401.0, \"Roluos Meanchey\", \"Boeng Char\", 190], [1004, 100409, 100401.0, \"Srae Chis\", \"Boeng Char\", 189], [0, 0, NaN, \"Svay Chras\", \"None\", 492], [0, 0, NaN, \"Svay Chras\", \"None\", 493], [0, 0, NaN, \"NaN\", \"None\", 481], [0, 0, NaN, \"Chang Krang\", \"None\", 674], [0, 0, NaN, \"Kbal Damrey\", \"None\", 506], [0, 0, NaN, \"O Kreang\", \"None\", 526], [0, 0, NaN, \"O Kreang\", \"None\", 527], [0, 0, NaN, \"O Kreang\", \"None\", 528], [0, 0, NaN, \"NaN\", \"None\", 657], [0, 0, NaN, \"NaN\", \"None\", 658], [0, 0, NaN, \"NaN\", \"None\", 659], [0, 0, NaN, \"NaN\", \"None\", 661], [0, 0, NaN, \"NaN\", \"None\", 662], [0, 0, NaN, \"NaN\", \"None\", 663], [0, 0, NaN, \"NaN\", \"None\", 664], [0, 0, NaN, \"NaN\", \"None\", 665], [0, 0, NaN, \"NaN\", \"None\", 666], [0, 0, NaN, \"NaN\", \"None\", 667], [2402, 240203, 240203.0, \"Stung Kach, O Andoung\", \"Stueng Kach\", 295], [2402, 240203, 240203.0, \"Stung Kach, O Andoung\", \"Stueng Kach\", 300], [2402, 240203, 240203.0, \"Stung Kach, O Andoung\", \"Stueng Kach\", 301], [1501, 150109, 150101.0, \"Talo\", \"Boeng Bat Kandaol\", 234], [0, 0, NaN, \"Phteah Rong\", \"None\", 405], [0, 0, NaN, \"NaN\", \"None\", 411], [0, 0, NaN, \"NaN\", \"None\", 424], [0, 0, NaN, \"NaN\", \"None\", 426], [0, 0, NaN, \"Borkham\", \"None\", 631], [1606, 0, 160601.0, \"Yakapoy\", \"Cha Ung\", 262], [1606, 0, 160601.0, \"Yakapoy\", \"Cha Ung\", 269], [1905, 190504, 190501.0, \"Koah Sneaeng\", \"Anlong Phe\", 305], [1905, 190504, 190501.0, \"Koah Sneaeng\", \"Anlong Phe\", 307], [1905, 190507, 190501.0, \"O Svay\", \"Anlong Phe\", 304], [0, 0, NaN, \"Prehromkil\", \"None\", 538], [0, 0, NaN, \"Prehromkil\", \"None\", 547], [0, 0, NaN, \"Prehromkil\", \"None\", 548], [0, 0, NaN, \"Khset-Samley\", \"None\", 646], [2109, 210911, 210911.0, \"Srae Ronong and Leaybor\", \"Srae Ronoung\", 359], [0, 0, NaN, \"NaN\", \"None\", 393], [0, 0, NaN, \"NaN\", \"None\", 394], [0, 0, NaN, \"NaN\", \"None\", 395], [0, 0, NaN, \"NaN\", \"None\", 396], [0, 0, NaN, \"NaN\", \"None\", 397], [0, 0, NaN, \"NaN\", \"None\", 398], [0, 0, NaN, \"NaN\", \"None\", 399], [0, 0, NaN, \"NaN\", \"None\", 400], [0, 0, NaN, \"NaN\", \"None\", 401], [0, 0, NaN, \"NaN\", \"None\", 402], [0, 0, NaN, \"NaN\", \"None\", 403], [0, 0, NaN, \"NaN\", \"None\", 404]];\n",
       "\n",
       "    // Define the dt_args\n",
       "    let dt_args = {\"order\": []};\n",
       "    dt_args[\"data\"] = data;\n",
       "\n",
       "    $(document).ready(function () {\n",
       "        \n",
       "        $('#2cb7916e-cf82-43b4-b99c-58ddd6c2f412').DataTable(dt_args);\n",
       "    });\n",
       "</script>\n",
       "</div>\n"
      ],
      "text/plain": [
       "<IPython.core.display.HTML object>"
      ]
     },
     "metadata": {},
     "output_type": "display_data"
    }
   ],
   "source": [
    "# Display the results of the matching\n",
    "show(CF_vlst_df[\n",
    "    ['Code_Srok', 'Code_Khum', 'Matched_Commune_Code', 'Commune', 'Matched_Commune_Name', 'UniqueID']\n",
    "])"
   ]
  },
  {
   "cell_type": "markdown",
   "id": "10749638-a0c0-4047-96a2-ed33b449ccec",
   "metadata": {},
   "source": [
    "CF UniqueID 170 matched with uncertainty, CF 31, 41, 14, 359, 295, 300, 301 partially matched."
   ]
  }
 ],
 "metadata": {
  "kernelspec": {
   "display_name": "Python 3 (ipykernel)",
   "language": "python",
   "name": "python3"
  },
  "language_info": {
   "codemirror_mode": {
    "name": "ipython",
    "version": 3
   },
   "file_extension": ".py",
   "mimetype": "text/x-python",
   "name": "python",
   "nbconvert_exporter": "python",
   "pygments_lexer": "ipython3",
   "version": "3.10.11"
  }
 },
 "nbformat": 4,
 "nbformat_minor": 5
}
