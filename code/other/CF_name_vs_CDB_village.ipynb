{
 "cells": [
  {
   "cell_type": "markdown",
   "id": "fad6ea8a-c56a-4aba-b6b7-9e50073dabfb",
   "metadata": {},
   "source": [
    "Goal: try to match / cross-reference the CF names (`CF_Name_En`) in CF boundary data `All_CF_Cambodia_July_2016_DISES_v1.shp` and the village names in `CDB Nat Data 2016 En_Received Dec2017_230207_Reem.xlsx`."
   ]
  },
  {
   "cell_type": "markdown",
   "id": "cdbd4a0a-4203-4d97-9bd5-44bce5838487",
   "metadata": {},
   "source": [
    "## setup"
   ]
  },
  {
   "cell_type": "markdown",
   "id": "83a9667f-b6e9-4aa3-b588-2d2d1b98529a",
   "metadata": {},
   "source": [
    "## read in data"
   ]
  },
  {
   "cell_type": "markdown",
   "id": "617b9ee9-ee92-41ca-96ef-6667b3b1221d",
   "metadata": {},
   "source": [
    "## explore data"
   ]
  },
  {
   "cell_type": "markdown",
   "id": "3c5cfea5-44d8-445e-92ac-ffe119668ed7",
   "metadata": {},
   "source": [
    "## preprocess data"
   ]
  },
  {
   "cell_type": "markdown",
   "id": "51a2b0d7-4446-456b-8042-2a194a7d6564",
   "metadata": {},
   "source": [
    "## enrich the CF data with the CDB villages in the commune each CF belongs to"
   ]
  },
  {
   "cell_type": "markdown",
   "id": "abd3f97f-8f5e-4db8-9654-ed2aae664ad7",
   "metadata": {},
   "source": [
    "### join"
   ]
  },
  {
   "cell_type": "markdown",
   "id": "282e03a1-afe3-4cb9-9a97-674f7b731bff",
   "metadata": {},
   "source": [
    "### aggregate"
   ]
  },
  {
   "cell_type": "markdown",
   "id": "05fb4b43-32f3-4a46-8a59-b1da233a7bed",
   "metadata": {},
   "source": [
    "## export data"
   ]
  },
  {
   "cell_type": "code",
   "execution_count": null,
   "id": "4b92f4e3-d016-498e-b8cb-e061f2c193fb",
   "metadata": {},
   "outputs": [],
   "source": []
  }
 ],
 "metadata": {
  "kernelspec": {
   "display_name": "Python 3 (ipykernel)",
   "language": "python",
   "name": "python3"
  },
  "language_info": {
   "codemirror_mode": {
    "name": "ipython",
    "version": 3
   },
   "file_extension": ".py",
   "mimetype": "text/x-python",
   "name": "python",
   "nbconvert_exporter": "python",
   "pygments_lexer": "ipython3",
   "version": "3.10.6"
  }
 },
 "nbformat": 4,
 "nbformat_minor": 5
}
