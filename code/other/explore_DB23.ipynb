{
 "cells": [
  {
   "cell_type": "markdown",
   "id": "84e5365c-43aa-42cc-9955-816091f0170c",
   "metadata": {},
   "source": [
    "EDA of DB23 (`ncdd_admin_database_25provinces__2023.xlsx` from Lok on 20231212)"
   ]
  },
  {
   "cell_type": "code",
   "execution_count": 2,
   "id": "be3cca8c-9620-4c35-9674-a706b40390cf",
   "metadata": {},
   "outputs": [],
   "source": [
    "import pandas as pd\n",
    "import numpy as np\n",
    "from pathlib import Path"
   ]
  },
  {
   "cell_type": "code",
   "execution_count": 7,
   "id": "85efe72e-ac83-44e6-956e-2d5f6efaaba9",
   "metadata": {},
   "outputs": [],
   "source": [
    "%load_ext autoreload\n",
    "%autoreload 2"
   ]
  },
  {
   "cell_type": "code",
   "execution_count": 11,
   "id": "2f448408-8ca1-448b-b485-a524d98005d4",
   "metadata": {},
   "outputs": [],
   "source": [
    "from utils.explore_DB23 import *"
   ]
  },
  {
   "cell_type": "code",
   "execution_count": 3,
   "id": "69063305-b88a-40f3-adbe-3849406cee0d",
   "metadata": {},
   "outputs": [],
   "source": [
    "# paths\n",
    "code_path = Path().absolute()\n",
    "datafd_path = code_path.parent.parent / 'data'"
   ]
  },
  {
   "cell_type": "markdown",
   "id": "65ad4275-656b-403b-bc91-eee9bffe941e",
   "metadata": {},
   "source": [
    "## Initial EDA of DB23"
   ]
  },
  {
   "cell_type": "markdown",
   "id": "7956ffcb-7e2f-41cc-ab08-f852a6caea7b",
   "metadata": {},
   "source": [
    "### Read in DB23 and stack all sheets vertically into `db_df`"
   ]
  },
  {
   "cell_type": "code",
   "execution_count": 14,
   "id": "e48f2a59-c917-45bb-91db-f3a8289467af",
   "metadata": {},
   "outputs": [],
   "source": [
    "DB23_path = datafd_path / 'other' / 'ncdd_admin_database_25provinces__2023.xlsx'\n",
    "DB23_df_dic = pd.read_excel(DB23_path, sheet_name=None, header=2)  \n",
    "# all sheets, key=sheet name, skip first 2 rows, make row 3 header"
   ]
  },
  {
   "cell_type": "code",
   "execution_count": 15,
   "id": "80a11aa5-67d9-4200-91f7-71d2184e74cf",
   "metadata": {},
   "outputs": [
    {
     "data": {
      "text/plain": [
       "dict_keys(['01. Banteay Meanchey', '02. Battambang', '03. Kampong Cham', '04. Kampong Chhnang', '05. Kampong Speu', '06. Kampong Thom', '07. Kampot', '08. Kandal', '09. Koh Kong', '10. Kratie', '11. Mondul Kiri', '12. Phnom Penh', '13. Preah Vihear', '14. Prey Veng', '15. Pursat', '16. Ratanak Kiri', '17. Siemreap', '18. Preah Sihanouk', '19. Stung Treng', '20. Svay Rieng', '21. Takeo', '22. Oddar Meanchey', '23. Kep', '24. Pailin', '25. Tboung Khmum'])"
      ]
     },
     "execution_count": 15,
     "metadata": {},
     "output_type": "execute_result"
    }
   ],
   "source": [
    "DB23_df_dic.keys()"
   ]
  },
  {
   "cell_type": "code",
   "execution_count": 16,
   "id": "0349d498-8e7b-42cf-b153-cb634cb365f5",
   "metadata": {},
   "outputs": [],
   "source": [
    "sht_name_lst = list(DB23_df_dic.keys())\n",
    "db_prov_df_lst = [DB23_df_dic[sht] for sht in sht_name_lst]"
   ]
  },
  {
   "cell_type": "code",
   "execution_count": 23,
   "id": "12d7109c-573d-41ec-9b85-bd9030ea0657",
   "metadata": {
    "collapsed": true,
    "jupyter": {
     "outputs_hidden": true
    },
    "tags": []
   },
   "outputs": [
    {
     "name": "stdout",
     "output_type": "stream",
     "text": [
      "(958, 7)\n",
      "(1066, 7)\n",
      "(648, 7)\n",
      "(1461, 7)\n",
      "(855, 7)\n",
      "(593, 7)\n",
      "(1150, 7)\n",
      "(155, 7)\n",
      "(382, 7)\n",
      "(118, 7)\n",
      "(1072, 7)\n",
      "(291, 7)\n",
      "(1295, 7)\n",
      "(582, 7)\n",
      "(302, 7)\n",
      "(1021, 7)\n",
      "(145, 7)\n",
      "(177, 7)\n",
      "(778, 7)\n",
      "(1231, 7)\n",
      "(337, 7)\n",
      "(25, 7)\n",
      "(102, 7)\n",
      "(946, 7)\n"
     ]
    },
    {
     "data": {
      "text/plain": [
       "16424"
      ]
     },
     "execution_count": 23,
     "metadata": {},
     "output_type": "execute_result"
    }
   ],
   "source": [
    "# prov1_df = db_prov_df_lst[0]\n",
    "# prov1_columns = prov1_df.columns\n",
    "# nrow = prov1_df.shape[0]\n",
    "# for df in db_prov_df_lst[1:]:\n",
    "#     assert (df.columns == prov1_columns).all()\n",
    "#     print(df.shape)\n",
    "#     nrow = nrow + df.shape[0]\n",
    "# nrow"
   ]
  },
  {
   "cell_type": "code",
   "execution_count": 21,
   "id": "f09514fd-dc04-416f-8b9d-4d2a85597927",
   "metadata": {},
   "outputs": [
    {
     "data": {
      "text/html": [
       "<div>\n",
       "<style scoped>\n",
       "    .dataframe tbody tr th:only-of-type {\n",
       "        vertical-align: middle;\n",
       "    }\n",
       "\n",
       "    .dataframe tbody tr th {\n",
       "        vertical-align: top;\n",
       "    }\n",
       "\n",
       "    .dataframe thead th {\n",
       "        text-align: right;\n",
       "    }\n",
       "</style>\n",
       "<table border=\"1\" class=\"dataframe\">\n",
       "  <thead>\n",
       "    <tr style=\"text-align: right;\">\n",
       "      <th></th>\n",
       "      <th>Type</th>\n",
       "      <th>Code</th>\n",
       "      <th>Name (Khmer)</th>\n",
       "      <th>Name (Latin)</th>\n",
       "      <th>Reference</th>\n",
       "      <th>Official Note</th>\n",
       "      <th>Note (by Checker)</th>\n",
       "    </tr>\n",
       "  </thead>\n",
       "  <tbody>\n",
       "    <tr>\n",
       "      <th>0</th>\n",
       "      <td>ស្រុក</td>\n",
       "      <td>102</td>\n",
       "      <td>មង្គលបូរី</td>\n",
       "      <td>Mongkol Borei</td>\n",
       "      <td>ប្រកាសលេខ ៤៩៣ប្រ.ក</td>\n",
       "      <td>NaN</td>\n",
       "      <td>NaN</td>\n",
       "    </tr>\n",
       "    <tr>\n",
       "      <th>1</th>\n",
       "      <td>ឃុំ</td>\n",
       "      <td>10201</td>\n",
       "      <td>បន្ទាយនាង</td>\n",
       "      <td>Banteay Neang</td>\n",
       "      <td>ប្រកាសលេខ ៤៩៣ ប្រ.ក</td>\n",
       "      <td>NaN</td>\n",
       "      <td>NaN</td>\n",
       "    </tr>\n",
       "    <tr>\n",
       "      <th>2</th>\n",
       "      <td>ភូមិ</td>\n",
       "      <td>1020101</td>\n",
       "      <td>អូរធំ</td>\n",
       "      <td>Ou Thum</td>\n",
       "      <td>ប្រកាសលេខ ៤៩៣ ប្រ.ក</td>\n",
       "      <td>NaN</td>\n",
       "      <td>NaN</td>\n",
       "    </tr>\n",
       "    <tr>\n",
       "      <th>3</th>\n",
       "      <td>ភូមិ</td>\n",
       "      <td>1020102</td>\n",
       "      <td>ភ្នំ</td>\n",
       "      <td>Phnum</td>\n",
       "      <td>ប្រកាសលេខ ៤៩៣ ប្រ.ក</td>\n",
       "      <td>NaN</td>\n",
       "      <td>NaN</td>\n",
       "    </tr>\n",
       "    <tr>\n",
       "      <th>4</th>\n",
       "      <td>ភូមិ</td>\n",
       "      <td>1020103</td>\n",
       "      <td>បន្ទាយនាង</td>\n",
       "      <td>Banteay Neang</td>\n",
       "      <td>ប្រកាសលេខ ៤៩៣ ប្រ.ក</td>\n",
       "      <td>NaN</td>\n",
       "      <td>NaN</td>\n",
       "    </tr>\n",
       "    <tr>\n",
       "      <th>...</th>\n",
       "      <td>...</td>\n",
       "      <td>...</td>\n",
       "      <td>...</td>\n",
       "      <td>...</td>\n",
       "      <td>...</td>\n",
       "      <td>...</td>\n",
       "      <td>...</td>\n",
       "    </tr>\n",
       "    <tr>\n",
       "      <th>941</th>\n",
       "      <td>ភូមិ</td>\n",
       "      <td>25071411</td>\n",
       "      <td>ទន្លេបិទក្រោម</td>\n",
       "      <td>Tonle Bet Kraom</td>\n",
       "      <td>Royal Degree 1445 on 31 Dec 2013 Move to Tboun...</td>\n",
       "      <td>Royal Degree 1445 on 31 Dec 2013 Move to Tboun...</td>\n",
       "      <td>NaN</td>\n",
       "    </tr>\n",
       "    <tr>\n",
       "      <th>942</th>\n",
       "      <td>ភូមិ</td>\n",
       "      <td>25071412</td>\n",
       "      <td>ទន្លេបិទលើ</td>\n",
       "      <td>Tonle Bet Leu</td>\n",
       "      <td>Royal Degree 1445 on 31 Dec 2013 Move to Tboun...</td>\n",
       "      <td>Royal Degree 1445 on 31 Dec 2013 Move to Tboun...</td>\n",
       "      <td>NaN</td>\n",
       "    </tr>\n",
       "    <tr>\n",
       "      <th>943</th>\n",
       "      <td>ភូមិ</td>\n",
       "      <td>25071413</td>\n",
       "      <td>យាយស</td>\n",
       "      <td>Yeay Sar</td>\n",
       "      <td>Royal Degree 1445 on 31 Dec 2013 Move to Tboun...</td>\n",
       "      <td>Royal Degree 1445 on 31 Dec 2013 Move to Tboun...</td>\n",
       "      <td>NaN</td>\n",
       "    </tr>\n",
       "    <tr>\n",
       "      <th>944</th>\n",
       "      <td>ភូមិ</td>\n",
       "      <td>25071414</td>\n",
       "      <td>ទន្លេបិទ</td>\n",
       "      <td>Tonle Bet</td>\n",
       "      <td>Royal Degree 1445 on 31 Dec 2013 Move to Tboun...</td>\n",
       "      <td>Royal Degree 1445 on 31 Dec 2013 Move to Tboun...</td>\n",
       "      <td>NaN</td>\n",
       "    </tr>\n",
       "    <tr>\n",
       "      <th>945</th>\n",
       "      <td>ភូមិ</td>\n",
       "      <td>25071415</td>\n",
       "      <td>តាអ៊ុយ</td>\n",
       "      <td>Ta Uy</td>\n",
       "      <td>Royal Degree 1445 on 31 Dec 2013 Move to Tboun...</td>\n",
       "      <td>Royal Degree 1445 on 31 Dec 2013 Move to Tboun...</td>\n",
       "      <td>NaN</td>\n",
       "    </tr>\n",
       "  </tbody>\n",
       "</table>\n",
       "<p>16424 rows × 7 columns</p>\n",
       "</div>"
      ],
      "text/plain": [
       "      Type      Code   Name (Khmer)     Name (Latin)  \\\n",
       "0    ស្រុក       102      មង្គលបូរី    Mongkol Borei   \n",
       "1      ឃុំ     10201      បន្ទាយនាង    Banteay Neang   \n",
       "2     ភូមិ   1020101          អូរធំ          Ou Thum   \n",
       "3     ភូមិ   1020102           ភ្នំ            Phnum   \n",
       "4     ភូមិ   1020103      បន្ទាយនាង    Banteay Neang   \n",
       "..     ...       ...            ...              ...   \n",
       "941   ភូមិ  25071411  ទន្លេបិទក្រោម  Tonle Bet Kraom   \n",
       "942   ភូមិ  25071412     ទន្លេបិទលើ    Tonle Bet Leu   \n",
       "943   ភូមិ  25071413           យាយស         Yeay Sar   \n",
       "944   ភូមិ  25071414       ទន្លេបិទ        Tonle Bet   \n",
       "945   ភូមិ  25071415         តាអ៊ុយ            Ta Uy   \n",
       "\n",
       "                                             Reference  \\\n",
       "0                                   ប្រកាសលេខ ៤៩៣ប្រ.ក   \n",
       "1                                  ប្រកាសលេខ ៤៩៣ ប្រ.ក   \n",
       "2                                  ប្រកាសលេខ ៤៩៣ ប្រ.ក   \n",
       "3                                  ប្រកាសលេខ ៤៩៣ ប្រ.ក   \n",
       "4                                  ប្រកាសលេខ ៤៩៣ ប្រ.ក   \n",
       "..                                                 ...   \n",
       "941  Royal Degree 1445 on 31 Dec 2013 Move to Tboun...   \n",
       "942  Royal Degree 1445 on 31 Dec 2013 Move to Tboun...   \n",
       "943  Royal Degree 1445 on 31 Dec 2013 Move to Tboun...   \n",
       "944  Royal Degree 1445 on 31 Dec 2013 Move to Tboun...   \n",
       "945  Royal Degree 1445 on 31 Dec 2013 Move to Tboun...   \n",
       "\n",
       "                                         Official Note  Note (by Checker)  \n",
       "0                                                  NaN                NaN  \n",
       "1                                                  NaN                NaN  \n",
       "2                                                  NaN                NaN  \n",
       "3                                                  NaN                NaN  \n",
       "4                                                  NaN                NaN  \n",
       "..                                                 ...                ...  \n",
       "941  Royal Degree 1445 on 31 Dec 2013 Move to Tboun...                NaN  \n",
       "942  Royal Degree 1445 on 31 Dec 2013 Move to Tboun...                NaN  \n",
       "943  Royal Degree 1445 on 31 Dec 2013 Move to Tboun...                NaN  \n",
       "944  Royal Degree 1445 on 31 Dec 2013 Move to Tboun...                NaN  \n",
       "945  Royal Degree 1445 on 31 Dec 2013 Move to Tboun...                NaN  \n",
       "\n",
       "[16424 rows x 7 columns]"
      ]
     },
     "execution_count": 21,
     "metadata": {},
     "output_type": "execute_result"
    }
   ],
   "source": [
    "db_df = pd.concat(db_prov_df_lst)"
   ]
  },
  {
   "cell_type": "code",
   "execution_count": null,
   "id": "20186ef8-4cf1-47d3-bf06-081550ce66e3",
   "metadata": {},
   "outputs": [],
   "source": []
  }
 ],
 "metadata": {
  "kernelspec": {
   "display_name": "Python 3 (ipykernel)",
   "language": "python",
   "name": "python3"
  },
  "language_info": {
   "codemirror_mode": {
    "name": "ipython",
    "version": 3
   },
   "file_extension": ".py",
   "mimetype": "text/x-python",
   "name": "python",
   "nbconvert_exporter": "python",
   "pygments_lexer": "ipython3",
   "version": "3.10.11"
  }
 },
 "nbformat": 4,
 "nbformat_minor": 5
}
