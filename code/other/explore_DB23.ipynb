{
 "cells": [
  {
   "cell_type": "markdown",
   "id": "84e5365c-43aa-42cc-9955-816091f0170c",
   "metadata": {},
   "source": [
    "EDA of DB23 (`ncdd_admin_database_25provinces__2023.xlsx` from Lok on 20231212)"
   ]
  },
  {
   "cell_type": "code",
   "execution_count": 1,
   "id": "be3cca8c-9620-4c35-9674-a706b40390cf",
   "metadata": {},
   "outputs": [],
   "source": [
    "import pandas as pd\n",
    "import numpy as np\n",
    "from pathlib import Path"
   ]
  },
  {
   "cell_type": "code",
   "execution_count": 2,
   "id": "85efe72e-ac83-44e6-956e-2d5f6efaaba9",
   "metadata": {},
   "outputs": [],
   "source": [
    "%load_ext autoreload\n",
    "%autoreload 2"
   ]
  },
  {
   "cell_type": "code",
   "execution_count": 3,
   "id": "2f448408-8ca1-448b-b485-a524d98005d4",
   "metadata": {},
   "outputs": [],
   "source": [
    "from utils.explore_DB23 import *"
   ]
  },
  {
   "cell_type": "code",
   "execution_count": 4,
   "id": "69063305-b88a-40f3-adbe-3849406cee0d",
   "metadata": {},
   "outputs": [],
   "source": [
    "# paths\n",
    "code_path = Path().absolute()\n",
    "datafd_path = code_path.parent.parent / 'data'\n",
    "intmd_outfd_path = code_path.parent.parent / 'output_intmd' / 'match_CF_CDB'"
   ]
  },
  {
   "cell_type": "markdown",
   "id": "1d8b268f-36c7-416e-ae69-fae588c33817",
   "metadata": {},
   "source": [
    "## Read in data"
   ]
  },
  {
   "cell_type": "markdown",
   "id": "60f6dd35-46f2-4b9d-99fa-8355d9ee3b1a",
   "metadata": {},
   "source": [
    "### CDB socio-economic data, Reem updated 20230207"
   ]
  },
  {
   "cell_type": "code",
   "execution_count": null,
   "id": "c21bd4d4-ff3d-48d1-b62c-b70e6655feeb",
   "metadata": {},
   "outputs": [],
   "source": [
    "CDB_path = datafd_path / 'other' / 'CDB Nat Data 2016 En_Received Dec2017_230207_Reem.xlsx'\n",
    "# CDB_df_dic = pd.read_excel(CDB_path, sheet_name=None)  # all sheets, key=sheet name\n",
    "CDB_df_dic = pd.read_excel(CDB_path, sheet_name=['C_2016_E(1)', 'C_2016_E(2)'])\n",
    "sht_name_lst = list(CDB_df_dic.keys())\n",
    "# sheet names: ['Q_2016_E', 'V_2016_E(1)', 'V_2016_E(2)', 'V_2016_E(3)', 'C_2016_E(1)', 'C_2016_E(2)', 'D_2016_E(1)']"
   ]
  },
  {
   "cell_type": "markdown",
   "id": "0bd84d0e-65a4-4ff5-bf8d-a5c29a15d0f7",
   "metadata": {
    "tags": []
   },
   "source": [
    "#### commune-level CDB data"
   ]
  },
  {
   "cell_type": "code",
   "execution_count": null,
   "id": "b11d7e3e-9752-4685-aaad-7942d6aaf973",
   "metadata": {},
   "outputs": [],
   "source": [
    "comm_sht_name_lst = [sht for sht in sht_name_lst if sht.startswith('C') ]\n",
    "CDB_c_df_lst = [CDB_df_dic[sht] for sht in comm_sht_name_lst]\n",
    "# Fix headers\n",
    "CDB_c_df_lst = [df.rename(columns=df.iloc[3]).tail(-4) for df in CDB_c_df_lst]"
   ]
  },
  {
   "cell_type": "markdown",
   "id": "2ac7f03b-c568-4f8e-befb-6866b010302a",
   "metadata": {},
   "source": [
    "### CF data with match helper \n",
    "CF communes and districts names matched to CDB ones\n",
    "\n",
    "a list of CDB villages in the commune each CF belongs to\n",
    "\n",
    "and more"
   ]
  },
  {
   "cell_type": "code",
   "execution_count": 5,
   "id": "79a246c4-9951-4cf4-9274-2d704315851c",
   "metadata": {},
   "outputs": [],
   "source": [
    "CF_vlst_df = pd.read_csv(intmd_outfd_path / 'CF_w_match_helper_vill.csv')"
   ]
  },
  {
   "cell_type": "markdown",
   "id": "65ad4275-656b-403b-bc91-eee9bffe941e",
   "metadata": {},
   "source": [
    "## Initial processing of DB23"
   ]
  },
  {
   "cell_type": "markdown",
   "id": "7956ffcb-7e2f-41cc-ab08-f852a6caea7b",
   "metadata": {},
   "source": [
    "### Read in DB23 and stack all sheets vertically into `db_df`"
   ]
  },
  {
   "cell_type": "code",
   "execution_count": 6,
   "id": "e48f2a59-c917-45bb-91db-f3a8289467af",
   "metadata": {},
   "outputs": [],
   "source": [
    "DB23_path = datafd_path / 'other' / 'ncdd_admin_database_25provinces__2023.xlsx'\n",
    "DB23_df_dic = pd.read_excel(DB23_path, sheet_name=None, header=2)  \n",
    "# all sheets, key=sheet name, skip first 2 rows, make row 3 header"
   ]
  },
  {
   "cell_type": "code",
   "execution_count": 7,
   "id": "0349d498-8e7b-42cf-b153-cb634cb365f5",
   "metadata": {},
   "outputs": [],
   "source": [
    "sht_name_lst = list(DB23_df_dic.keys())\n",
    "db_prov_df_lst = [DB23_df_dic[sht] for sht in sht_name_lst]"
   ]
  },
  {
   "cell_type": "code",
   "execution_count": null,
   "id": "12d7109c-573d-41ec-9b85-bd9030ea0657",
   "metadata": {
    "tags": []
   },
   "outputs": [],
   "source": [
    "# prov1_df = db_prov_df_lst[0]\n",
    "# prov1_columns = prov1_df.columns\n",
    "# nrow = prov1_df.shape[0]\n",
    "# for df in db_prov_df_lst[1:]:\n",
    "#     assert (df.columns == prov1_columns).all()\n",
    "#     print(df.shape)\n",
    "#     nrow = nrow + df.shape[0]\n",
    "# nrow"
   ]
  },
  {
   "cell_type": "code",
   "execution_count": 8,
   "id": "f09514fd-dc04-416f-8b9d-4d2a85597927",
   "metadata": {},
   "outputs": [],
   "source": [
    "db_df = pd.concat(db_prov_df_lst)"
   ]
  },
  {
   "cell_type": "markdown",
   "id": "2048b3dc-162e-4c3f-88fa-bbef4d52af43",
   "metadata": {
    "tags": []
   },
   "source": [
    "## CDB communes matched to CF communes: are they in DB23? "
   ]
  },
  {
   "cell_type": "markdown",
   "id": "89b150fe-4aa7-4d70-b000-348432ca95a7",
   "metadata": {},
   "source": [
    "### Explore data"
   ]
  },
  {
   "cell_type": "markdown",
   "id": "1e057da2-ee6c-4e76-b064-a488e371e13f",
   "metadata": {
    "tags": []
   },
   "source": [
    "#### CF data with match helper"
   ]
  },
  {
   "cell_type": "code",
   "execution_count": 9,
   "id": "ff93755b-ea41-4c80-bbf1-08a72e109385",
   "metadata": {},
   "outputs": [
    {
     "data": {
      "text/html": [
       "<div>\n",
       "<style scoped>\n",
       "    .dataframe tbody tr th:only-of-type {\n",
       "        vertical-align: middle;\n",
       "    }\n",
       "\n",
       "    .dataframe tbody tr th {\n",
       "        vertical-align: top;\n",
       "    }\n",
       "\n",
       "    .dataframe thead th {\n",
       "        text-align: right;\n",
       "    }\n",
       "</style>\n",
       "<table border=\"1\" class=\"dataframe\">\n",
       "  <thead>\n",
       "    <tr style=\"text-align: right;\">\n",
       "      <th></th>\n",
       "      <th>CF_Code</th>\n",
       "      <th>Code_Srok</th>\n",
       "      <th>Code_Khum</th>\n",
       "      <th>No_Village</th>\n",
       "      <th>CF_Name_En</th>\n",
       "      <th>CF_Name_Kh</th>\n",
       "      <th>Villag_CDB</th>\n",
       "      <th>CF_Name_Note</th>\n",
       "      <th>Commune</th>\n",
       "      <th>Khum</th>\n",
       "      <th>...</th>\n",
       "      <th>Dist_Uniq_CF</th>\n",
       "      <th>CF_Match</th>\n",
       "      <th>CommORDist</th>\n",
       "      <th>CoORDiOR2</th>\n",
       "      <th>Commune_matched</th>\n",
       "      <th>District_matched</th>\n",
       "      <th>District_cln</th>\n",
       "      <th>Commune_cln</th>\n",
       "      <th>Village</th>\n",
       "      <th>VillGis</th>\n",
       "    </tr>\n",
       "  </thead>\n",
       "  <tbody>\n",
       "    <tr>\n",
       "      <th>270</th>\n",
       "      <td>0</td>\n",
       "      <td>0</td>\n",
       "      <td>0</td>\n",
       "      <td>0</td>\n",
       "      <td>Romeas Pun Mchul</td>\n",
       "      <td>rmasb:unmúl</td>\n",
       "      <td>NaN</td>\n",
       "      <td>NaN</td>\n",
       "      <td>Kan Tout</td>\n",
       "      <td>knÞÜt</td>\n",
       "      <td>...</td>\n",
       "      <td>0</td>\n",
       "      <td>False</td>\n",
       "      <td>False</td>\n",
       "      <td>False</td>\n",
       "      <td>Kantuot</td>\n",
       "      <td>Chetr Borei</td>\n",
       "      <td>chetr borei</td>\n",
       "      <td>kantuot</td>\n",
       "      <td>A Loch\\r\\nAntong Vien\\r\\nChrava\\r\\nKantuot\\r\\n...</td>\n",
       "      <td>10060705\\r\\n10060706\\r\\n10060707\\r\\n10060708\\r...</td>\n",
       "    </tr>\n",
       "    <tr>\n",
       "      <th>353</th>\n",
       "      <td>220412</td>\n",
       "      <td>2204</td>\n",
       "      <td>220404</td>\n",
       "      <td>16</td>\n",
       "      <td>Ratanak Rukha</td>\n",
       "      <td>rtn³rukça</td>\n",
       "      <td>NaN</td>\n",
       "      <td>NaN</td>\n",
       "      <td>Samrorng</td>\n",
       "      <td>sMerag</td>\n",
       "      <td>...</td>\n",
       "      <td>0</td>\n",
       "      <td>False</td>\n",
       "      <td>False</td>\n",
       "      <td>False</td>\n",
       "      <td>Samraong</td>\n",
       "      <td>Samraong</td>\n",
       "      <td>samraong</td>\n",
       "      <td>samraong</td>\n",
       "      <td>Kansaom Ak\\nDei Kraham\\nPrey Totueng\\nSamraong...</td>\n",
       "      <td>21070801\\n21070802\\n21070803\\n21070804\\n210708...</td>\n",
       "    </tr>\n",
       "  </tbody>\n",
       "</table>\n",
       "<p>2 rows × 49 columns</p>\n",
       "</div>"
      ],
      "text/plain": [
       "     CF_Code  Code_Srok  Code_Khum  No_Village        CF_Name_En   CF_Name_Kh  \\\n",
       "270        0          0          0           0  Romeas Pun Mchul  rmasb:unmúl   \n",
       "353   220412       2204     220404          16     Ratanak Rukha    rtn³rukça   \n",
       "\n",
       "    Villag_CDB CF_Name_Note   Commune    Khum  ... Dist_Uniq_CF CF_Match  \\\n",
       "270        NaN          NaN  Kan Tout   knÞÜt  ...            0    False   \n",
       "353        NaN          NaN  Samrorng  sMerag  ...            0    False   \n",
       "\n",
       "    CommORDist CoORDiOR2 Commune_matched District_matched District_cln  \\\n",
       "270      False     False         Kantuot      Chetr Borei  chetr borei   \n",
       "353      False     False        Samraong         Samraong     samraong   \n",
       "\n",
       "    Commune_cln                                            Village  \\\n",
       "270     kantuot  A Loch\\r\\nAntong Vien\\r\\nChrava\\r\\nKantuot\\r\\n...   \n",
       "353    samraong  Kansaom Ak\\nDei Kraham\\nPrey Totueng\\nSamraong...   \n",
       "\n",
       "                                               VillGis  \n",
       "270  10060705\\r\\n10060706\\r\\n10060707\\r\\n10060708\\r...  \n",
       "353  21070801\\n21070802\\n21070803\\n21070804\\n210708...  \n",
       "\n",
       "[2 rows x 49 columns]"
      ]
     },
     "execution_count": 9,
     "metadata": {},
     "output_type": "execute_result"
    }
   ],
   "source": [
    "CF_vlst_df.loc[\n",
    "    ~CF_vlst_df.VillGis.astype(str).apply(commun_code_is_unique),\n",
    "    # 'VillGis'\n",
    "]  # 2 CFs have multiple commune codes in the list of village codes (VillGis)"
   ]
  },
  {
   "cell_type": "markdown",
   "id": "cbb09b8a-610b-4fd8-bb93-faeec14168c2",
   "metadata": {},
   "source": [
    "### Preprocess data"
   ]
  },
  {
   "cell_type": "markdown",
   "id": "5e083227-7b25-4d47-b3ca-869ad2bcc676",
   "metadata": {},
   "source": [
    "#### commune-level CDB data"
   ]
  },
  {
   "cell_type": "markdown",
   "id": "8a9c10b3-9b24-4ab2-a59e-6895937e54ed",
   "metadata": {},
   "source": [
    "##### first sheet"
   ]
  },
  {
   "cell_type": "code",
   "execution_count": null,
   "id": "05550bf1-42b8-4f21-8568-613c951c1a1a",
   "metadata": {},
   "outputs": [],
   "source": [
    "CDB_c_df0 = CDB_c_df_lst[0]"
   ]
  },
  {
   "cell_type": "code",
   "execution_count": null,
   "id": "5db3bb21-3033-4d06-8e62-2af9314f9672",
   "metadata": {},
   "outputs": [],
   "source": [
    "# Convert commune code to int\n",
    "CDB_c_df0.CommGis = CDB_c_df0.CommGis.astype(int)"
   ]
  },
  {
   "cell_type": "markdown",
   "id": "af72f31f-8607-44ef-8246-946a860f66d4",
   "metadata": {},
   "source": [
    "#### CF data with match helper"
   ]
  },
  {
   "cell_type": "code",
   "execution_count": 10,
   "id": "250911d0-bee7-4970-bd1d-bb52118a1572",
   "metadata": {},
   "outputs": [],
   "source": [
    "# Extract commune code as int (-9999 if not possible)\n",
    "CF_vlst_df['CommGis'] = CF_vlst_df.VillGis.astype(str).apply(extract_first_commun_code)"
   ]
  },
  {
   "cell_type": "code",
   "execution_count": 11,
   "id": "5b3444bf-cd00-486f-a95f-941c844349a7",
   "metadata": {
    "collapsed": true,
    "jupyter": {
     "outputs_hidden": true
    },
    "tags": []
   },
   "outputs": [
    {
     "data": {
      "text/plain": [
       "array(['2 thnu', 'aekakpheap', 'amleang', 'ampil pram daeum',\n",
       "       'anhchanh rung', 'anlong chrey', 'anlong phe', 'anlong tnaot',\n",
       "       'anlong veaeng', 'anlong vil', 'ba tang', 'bak sna', 'bakong',\n",
       "       'ballangk', 'bansay reak', 'banteay preal', 'bar kham',\n",
       "       'bar yakha', 'bati', 'beng', 'boeng char', 'boeng kantuot',\n",
       "       'boeng mealea', 'bu sra', 'cha ung', 'chambak', 'chamkar leu',\n",
       "       'chamraeun phal', 'chan sa', 'cheung kreav', 'chey', 'chhaeb muoy',\n",
       "       'chhaeb pir', 'chhean mukh', 'chheu teal', 'chheu tom', 'chhuk',\n",
       "       'choam sangkae', 'chob veari', 'chranouk', 'chres', 'chroab',\n",
       "       'chrouy neang nguon', 'chumnoab', 'daeum doung', 'dak dam',\n",
       "       'dam daek', 'dambouk khpos', 'damrei phong', 'damrei slab',\n",
       "       'dang kambet', 'dang peaeng', 'dar', 'doun kaev', 'haong samnam',\n",
       "       'ka choun', 'ka laeng', 'kak', 'kakaoh', 'kalai', 'kamphun',\n",
       "       'kampong cham', 'kampong damrei', 'kampong kor', 'kampong pou',\n",
       "       'kampong seila', 'kampong sralau muoy', 'kampong sralau pir',\n",
       "       'kampong svay', 'kampong thma', 'kampong trach khang lech',\n",
       "       'kang cham', 'kantuot', 'kaoh khnhaer', 'kaoh snaeng',\n",
       "       'kaoh sralay', 'kbal damrei', 'kbal romeas', 'kbal trach',\n",
       "       'keh chong', 'khnar pou', 'khnar sanday', 'khsuem', 'khvav',\n",
       "       'khyang', 'kiri voan', 'klaeng', 'kou loab', 'kouk khpos',\n",
       "       'kouk srok', 'kouk thlok leu', 'koul', 'koun kriel',\n",
       "       'krang dei vay', 'krang skear', 'kraya', 'kuleaen cheung',\n",
       "       'kuleaen tboung', \"l'ak\", 'la minh', 'lbaeuk', 'lbang muoy',\n",
       "       'lbang pir', 'lolok sa', 'longveaek', 'lum choar', 'lumtong',\n",
       "       'lung khung', 'malik', 'mean chey', 'mean rith', 'moha sang',\n",
       "       'monourom', 'mroum', 'nipech', 'ou', 'ou andoung', 'ou chum',\n",
       "       'ou krieng', 'ou mreah', 'ou rai', 'ou ruessei kandal',\n",
       "       'ou samril', 'ou sandan', 'ou svay', 'ou ta vau', 'pa te',\n",
       "       'peak snaeng', \"ph'av\", 'phkoam', 'phluk', 'phnum kok',\n",
       "       'phnum penh', 'phnum proek', 'phnum tbaeng muoy',\n",
       "       'phnum tbaeng pir', 'phteah rung', 'pong tuek', 'pongro kraom',\n",
       "       'popel', 'popok', 'pou', 'poy char', 'pramaoy', 'prambei mum',\n",
       "       'prasnoeb', 'preaek meas', 'preaek tnoat', 'preah khleang',\n",
       "       'preah netr preah', 'preah rumkel', 'prey khmum', 'prey rumduol',\n",
       "       'prey thnang', 'prey thum', 'prey tralach', 'prongil', 'putrea',\n",
       "       'rieb roy', 'rik reay', \"ro'ang\", 'rohas', 'rokat', \"rolea b'ier\",\n",
       "       'roleab', 'roluos mean chey', 'romonea', 'romoneiy', 'romtum',\n",
       "       'rotanak', 'ruessei chrum', 'ruessei kaev', 'rumchek', 'rumdaoh',\n",
       "       'rumdaoh srae', 'rung roeang', 'saen sokh', 'saeung', 'sala krau',\n",
       "       'sala visai', 'sam ang', 'sambok', 'sambour', 'sameakki',\n",
       "       'samlout', 'samraong', 'sandan', 'sangkae muoy', 'sangkae satob',\n",
       "       'sangvaeuy', 'santreae', 'saob', 'saom thum', 'sdau',\n",
       "       'serei mongkol', 'siem bouk', 'slaeng spean', 'sna ansa',\n",
       "       'snam preah', 'snay anhchit', 'sochet', 'srae ampum',\n",
       "       'srae chaeng', 'srae char', 'srae chea khang tboung', 'srae chis',\n",
       "       'srae khvav', 'srae knong', 'srae kor', 'srae samraong', 'sraeung',\n",
       "       'srang', 'srayang', 'stueng kach', 'sung', 'svay chek',\n",
       "       'svay chreah', 'svay luong', 'svay rumpear', 'svay sa', 'ta ches',\n",
       "       'ta kream', 'ta krei', 'ta lat', 'ta lou', 'ta mau', 'ta sal',\n",
       "       'ta sanh', 'ta tai kraom', 'ta taok', 'takaen', 'tang krasau',\n",
       "       'tang samraong', 'tang sya', 'tbaeng', 'tboung krapeu',\n",
       "       'thma puok', 'thmei', 'ti pou', 'ting chak', 'tnaot chum',\n",
       "       'toap mean', 'tram sasar', 'trangel', 'trapeang chan',\n",
       "       'trapeang chres', 'trapeang phleang', 'trapeang pring',\n",
       "       'trapeang ruessei', 'trapeang rung', 'trapeang sala khang kaeut',\n",
       "       'trapeang sala khang lech', 'trapeang tav', 'trea', 'tum ring',\n",
       "       'tuol kreul', 'varin', 'veun sai', 'ya tung', 'yeak laom'],\n",
       "      dtype=object)"
      ]
     },
     "execution_count": 11,
     "metadata": {},
     "output_type": "execute_result"
    }
   ],
   "source": [
    "# All CFs with valid commune codes have commune names in `Commune_cln` column\n",
    "CF_vlst_df.loc[CF_vlst_df.CommGis != -9999, 'Commune_cln'].sort_values().unique()"
   ]
  },
  {
   "cell_type": "markdown",
   "id": "6a0da41d-4628-40df-bf4d-b59bfb922788",
   "metadata": {},
   "source": [
    "#### DB23"
   ]
  },
  {
   "cell_type": "code",
   "execution_count": 12,
   "id": "18ca690d-8366-40c1-a487-a4ef37e99ff3",
   "metadata": {
    "collapsed": true,
    "jupyter": {
     "outputs_hidden": true
    },
    "tags": []
   },
   "outputs": [
    {
     "data": {
      "text/html": [
       "<div>\n",
       "<style scoped>\n",
       "    .dataframe tbody tr th:only-of-type {\n",
       "        vertical-align: middle;\n",
       "    }\n",
       "\n",
       "    .dataframe tbody tr th {\n",
       "        vertical-align: top;\n",
       "    }\n",
       "\n",
       "    .dataframe thead th {\n",
       "        text-align: right;\n",
       "    }\n",
       "</style>\n",
       "<table border=\"1\" class=\"dataframe\">\n",
       "  <thead>\n",
       "    <tr style=\"text-align: right;\">\n",
       "      <th></th>\n",
       "      <th>Type</th>\n",
       "      <th>Code</th>\n",
       "      <th>Name (Khmer)</th>\n",
       "      <th>Name (Latin)</th>\n",
       "      <th>Reference</th>\n",
       "      <th>Official Note</th>\n",
       "      <th>Note (by Checker)</th>\n",
       "    </tr>\n",
       "  </thead>\n",
       "  <tbody>\n",
       "    <tr>\n",
       "      <th>0</th>\n",
       "      <td>ស្រុក</td>\n",
       "      <td>102</td>\n",
       "      <td>មង្គលបូរី</td>\n",
       "      <td>Mongkol Borei</td>\n",
       "      <td>ប្រកាសលេខ ៤៩៣ប្រ.ក</td>\n",
       "      <td>NaN</td>\n",
       "      <td>NaN</td>\n",
       "    </tr>\n",
       "    <tr>\n",
       "      <th>1</th>\n",
       "      <td>ឃុំ</td>\n",
       "      <td>10201</td>\n",
       "      <td>បន្ទាយនាង</td>\n",
       "      <td>Banteay Neang</td>\n",
       "      <td>ប្រកាសលេខ ៤៩៣ ប្រ.ក</td>\n",
       "      <td>NaN</td>\n",
       "      <td>NaN</td>\n",
       "    </tr>\n",
       "    <tr>\n",
       "      <th>2</th>\n",
       "      <td>ភូមិ</td>\n",
       "      <td>1020101</td>\n",
       "      <td>អូរធំ</td>\n",
       "      <td>Ou Thum</td>\n",
       "      <td>ប្រកាសលេខ ៤៩៣ ប្រ.ក</td>\n",
       "      <td>NaN</td>\n",
       "      <td>NaN</td>\n",
       "    </tr>\n",
       "    <tr>\n",
       "      <th>3</th>\n",
       "      <td>ភូមិ</td>\n",
       "      <td>1020102</td>\n",
       "      <td>ភ្នំ</td>\n",
       "      <td>Phnum</td>\n",
       "      <td>ប្រកាសលេខ ៤៩៣ ប្រ.ក</td>\n",
       "      <td>NaN</td>\n",
       "      <td>NaN</td>\n",
       "    </tr>\n",
       "    <tr>\n",
       "      <th>4</th>\n",
       "      <td>ភូមិ</td>\n",
       "      <td>1020103</td>\n",
       "      <td>បន្ទាយនាង</td>\n",
       "      <td>Banteay Neang</td>\n",
       "      <td>ប្រកាសលេខ ៤៩៣ ប្រ.ក</td>\n",
       "      <td>NaN</td>\n",
       "      <td>NaN</td>\n",
       "    </tr>\n",
       "    <tr>\n",
       "      <th>...</th>\n",
       "      <td>...</td>\n",
       "      <td>...</td>\n",
       "      <td>...</td>\n",
       "      <td>...</td>\n",
       "      <td>...</td>\n",
       "      <td>...</td>\n",
       "      <td>...</td>\n",
       "    </tr>\n",
       "    <tr>\n",
       "      <th>941</th>\n",
       "      <td>ភូមិ</td>\n",
       "      <td>25071411</td>\n",
       "      <td>ទន្លេបិទក្រោម</td>\n",
       "      <td>Tonle Bet Kraom</td>\n",
       "      <td>Royal Degree 1445 on 31 Dec 2013 Move to Tboun...</td>\n",
       "      <td>Royal Degree 1445 on 31 Dec 2013 Move to Tboun...</td>\n",
       "      <td>NaN</td>\n",
       "    </tr>\n",
       "    <tr>\n",
       "      <th>942</th>\n",
       "      <td>ភូមិ</td>\n",
       "      <td>25071412</td>\n",
       "      <td>ទន្លេបិទលើ</td>\n",
       "      <td>Tonle Bet Leu</td>\n",
       "      <td>Royal Degree 1445 on 31 Dec 2013 Move to Tboun...</td>\n",
       "      <td>Royal Degree 1445 on 31 Dec 2013 Move to Tboun...</td>\n",
       "      <td>NaN</td>\n",
       "    </tr>\n",
       "    <tr>\n",
       "      <th>943</th>\n",
       "      <td>ភូមិ</td>\n",
       "      <td>25071413</td>\n",
       "      <td>យាយស</td>\n",
       "      <td>Yeay Sar</td>\n",
       "      <td>Royal Degree 1445 on 31 Dec 2013 Move to Tboun...</td>\n",
       "      <td>Royal Degree 1445 on 31 Dec 2013 Move to Tboun...</td>\n",
       "      <td>NaN</td>\n",
       "    </tr>\n",
       "    <tr>\n",
       "      <th>944</th>\n",
       "      <td>ភូមិ</td>\n",
       "      <td>25071414</td>\n",
       "      <td>ទន្លេបិទ</td>\n",
       "      <td>Tonle Bet</td>\n",
       "      <td>Royal Degree 1445 on 31 Dec 2013 Move to Tboun...</td>\n",
       "      <td>Royal Degree 1445 on 31 Dec 2013 Move to Tboun...</td>\n",
       "      <td>NaN</td>\n",
       "    </tr>\n",
       "    <tr>\n",
       "      <th>945</th>\n",
       "      <td>ភូមិ</td>\n",
       "      <td>25071415</td>\n",
       "      <td>តាអ៊ុយ</td>\n",
       "      <td>Ta Uy</td>\n",
       "      <td>Royal Degree 1445 on 31 Dec 2013 Move to Tboun...</td>\n",
       "      <td>Royal Degree 1445 on 31 Dec 2013 Move to Tboun...</td>\n",
       "      <td>NaN</td>\n",
       "    </tr>\n",
       "  </tbody>\n",
       "</table>\n",
       "<p>16424 rows × 7 columns</p>\n",
       "</div>"
      ],
      "text/plain": [
       "      Type      Code   Name (Khmer)     Name (Latin)  \\\n",
       "0    ស្រុក       102      មង្គលបូរី    Mongkol Borei   \n",
       "1      ឃុំ     10201      បន្ទាយនាង    Banteay Neang   \n",
       "2     ភូមិ   1020101          អូរធំ          Ou Thum   \n",
       "3     ភូមិ   1020102           ភ្នំ            Phnum   \n",
       "4     ភូមិ   1020103      បន្ទាយនាង    Banteay Neang   \n",
       "..     ...       ...            ...              ...   \n",
       "941   ភូមិ  25071411  ទន្លេបិទក្រោម  Tonle Bet Kraom   \n",
       "942   ភូមិ  25071412     ទន្លេបិទលើ    Tonle Bet Leu   \n",
       "943   ភូមិ  25071413           យាយស         Yeay Sar   \n",
       "944   ភូមិ  25071414       ទន្លេបិទ        Tonle Bet   \n",
       "945   ភូមិ  25071415         តាអ៊ុយ            Ta Uy   \n",
       "\n",
       "                                             Reference  \\\n",
       "0                                   ប្រកាសលេខ ៤៩៣ប្រ.ក   \n",
       "1                                  ប្រកាសលេខ ៤៩៣ ប្រ.ក   \n",
       "2                                  ប្រកាសលេខ ៤៩៣ ប្រ.ក   \n",
       "3                                  ប្រកាសលេខ ៤៩៣ ប្រ.ក   \n",
       "4                                  ប្រកាសលេខ ៤៩៣ ប្រ.ក   \n",
       "..                                                 ...   \n",
       "941  Royal Degree 1445 on 31 Dec 2013 Move to Tboun...   \n",
       "942  Royal Degree 1445 on 31 Dec 2013 Move to Tboun...   \n",
       "943  Royal Degree 1445 on 31 Dec 2013 Move to Tboun...   \n",
       "944  Royal Degree 1445 on 31 Dec 2013 Move to Tboun...   \n",
       "945  Royal Degree 1445 on 31 Dec 2013 Move to Tboun...   \n",
       "\n",
       "                                         Official Note  Note (by Checker)  \n",
       "0                                                  NaN                NaN  \n",
       "1                                                  NaN                NaN  \n",
       "2                                                  NaN                NaN  \n",
       "3                                                  NaN                NaN  \n",
       "4                                                  NaN                NaN  \n",
       "..                                                 ...                ...  \n",
       "941  Royal Degree 1445 on 31 Dec 2013 Move to Tboun...                NaN  \n",
       "942  Royal Degree 1445 on 31 Dec 2013 Move to Tboun...                NaN  \n",
       "943  Royal Degree 1445 on 31 Dec 2013 Move to Tboun...                NaN  \n",
       "944  Royal Degree 1445 on 31 Dec 2013 Move to Tboun...                NaN  \n",
       "945  Royal Degree 1445 on 31 Dec 2013 Move to Tboun...                NaN  \n",
       "\n",
       "[16424 rows x 7 columns]"
      ]
     },
     "execution_count": 12,
     "metadata": {},
     "output_type": "execute_result"
    }
   ],
   "source": [
    "db_df  # from section \"Initial processing of DB23\""
   ]
  },
  {
   "cell_type": "markdown",
   "id": "ee60d99c-cb57-471f-87a0-38318c5ba8fa",
   "metadata": {},
   "source": [
    "### Join DB23 to CF based on code"
   ]
  },
  {
   "cell_type": "code",
   "execution_count": 13,
   "id": "b8237c6a-7aca-4993-b8f4-ce5d617ce007",
   "metadata": {},
   "outputs": [],
   "source": [
    "CF_w_DB23 = CF_vlst_df.merge(\n",
    "    db_df[['Code', 'Name (Latin)']],\n",
    "    how='left',\n",
    "    left_on='CommGis',\n",
    "    right_on='Code',\n",
    "    indicator=True,\n",
    "    validate='many_to_one'\n",
    ")    "
   ]
  },
  {
   "cell_type": "code",
   "execution_count": 14,
   "id": "d120ed1e-8b47-4077-995e-ad49a884eb18",
   "metadata": {},
   "outputs": [
    {
     "data": {
      "text/plain": [
       "both          565\n",
       "left_only      74\n",
       "right_only      0\n",
       "Name: _merge, dtype: int64"
      ]
     },
     "execution_count": 14,
     "metadata": {},
     "output_type": "execute_result"
    }
   ],
   "source": [
    "CF_w_DB23._merge.value_counts()"
   ]
  },
  {
   "cell_type": "markdown",
   "id": "0bd5e76a-0263-4e87-946c-59065fafa501",
   "metadata": {},
   "source": [
    "### Postprocess joined df"
   ]
  },
  {
   "cell_type": "code",
   "execution_count": 15,
   "id": "591dd1ed-f569-455e-8fd9-e4e5b25522a1",
   "metadata": {},
   "outputs": [],
   "source": [
    "CF_w_DB23['Name_cln'] = CF_w_DB23['Name (Latin)'].str.strip().str.lower()"
   ]
  },
  {
   "cell_type": "markdown",
   "id": "b6c9ea28-370c-4b15-a0ba-e23d49c305e4",
   "metadata": {},
   "source": [
    "### Successful joins: Are CDB communes matched to CF also found in DB23? Yes!"
   ]
  },
  {
   "cell_type": "code",
   "execution_count": 16,
   "id": "d55aeecc-fe9f-4001-a847-110c2848cf74",
   "metadata": {},
   "outputs": [],
   "source": [
    "CF_w_joined_DB23 = CF_w_DB23[CF_w_DB23._merge == 'both']"
   ]
  },
  {
   "cell_type": "code",
   "execution_count": 17,
   "id": "91f01be9-e9c2-414f-bc95-8c1516fa8eea",
   "metadata": {},
   "outputs": [
    {
     "data": {
      "text/plain": [
       "(565, 54)"
      ]
     },
     "execution_count": 17,
     "metadata": {},
     "output_type": "execute_result"
    }
   ],
   "source": [
    "CF_w_joined_DB23.shape"
   ]
  },
  {
   "cell_type": "code",
   "execution_count": 18,
   "id": "04d50143-b83c-4d66-bcb8-6a38e656dd47",
   "metadata": {},
   "outputs": [],
   "source": [
    "compare_df = CF_w_joined_DB23[['Commune_cln', 'Name_cln']]"
   ]
  },
  {
   "cell_type": "code",
   "execution_count": 19,
   "id": "658767a2-ae3a-417d-91dc-140f2d9c54fa",
   "metadata": {},
   "outputs": [
    {
     "data": {
      "text/plain": [
       "0.9805309734513274"
      ]
     },
     "execution_count": 19,
     "metadata": {},
     "output_type": "execute_result"
    }
   ],
   "source": [
    "(compare_df.iloc[:, 0] == compare_df.iloc[:, 1]).mean()  # almost all found"
   ]
  },
  {
   "cell_type": "code",
   "execution_count": 20,
   "id": "a90da4fa-26e4-40e7-8048-7e2895d53798",
   "metadata": {},
   "outputs": [
    {
     "data": {
      "text/html": [
       "<div>\n",
       "<style scoped>\n",
       "    .dataframe tbody tr th:only-of-type {\n",
       "        vertical-align: middle;\n",
       "    }\n",
       "\n",
       "    .dataframe tbody tr th {\n",
       "        vertical-align: top;\n",
       "    }\n",
       "\n",
       "    .dataframe thead th {\n",
       "        text-align: right;\n",
       "    }\n",
       "</style>\n",
       "<table border=\"1\" class=\"dataframe\">\n",
       "  <thead>\n",
       "    <tr style=\"text-align: right;\">\n",
       "      <th></th>\n",
       "      <th>Commune_cln</th>\n",
       "      <th>Name_cln</th>\n",
       "    </tr>\n",
       "  </thead>\n",
       "  <tbody>\n",
       "    <tr>\n",
       "      <th>1</th>\n",
       "      <td>chob veari</td>\n",
       "      <td>chob vari</td>\n",
       "    </tr>\n",
       "    <tr>\n",
       "      <th>2</th>\n",
       "      <td>chob veari</td>\n",
       "      <td>chob vari</td>\n",
       "    </tr>\n",
       "    <tr>\n",
       "      <th>3</th>\n",
       "      <td>chob veari</td>\n",
       "      <td>chob vari</td>\n",
       "    </tr>\n",
       "    <tr>\n",
       "      <th>4</th>\n",
       "      <td>chob veari</td>\n",
       "      <td>chob vari</td>\n",
       "    </tr>\n",
       "    <tr>\n",
       "      <th>5</th>\n",
       "      <td>preah netr preah</td>\n",
       "      <td>preak netr preah</td>\n",
       "    </tr>\n",
       "    <tr>\n",
       "      <th>275</th>\n",
       "      <td>ta mau</td>\n",
       "      <td>ta mao</td>\n",
       "    </tr>\n",
       "    <tr>\n",
       "      <th>276</th>\n",
       "      <td>chambak</td>\n",
       "      <td>chambâk</td>\n",
       "    </tr>\n",
       "    <tr>\n",
       "      <th>277</th>\n",
       "      <td>chambak</td>\n",
       "      <td>chambâk</td>\n",
       "    </tr>\n",
       "    <tr>\n",
       "      <th>278</th>\n",
       "      <td>ruessei kaev</td>\n",
       "      <td>russey keo</td>\n",
       "    </tr>\n",
       "    <tr>\n",
       "      <th>305</th>\n",
       "      <td>2 thnu</td>\n",
       "      <td>pir thnu</td>\n",
       "    </tr>\n",
       "    <tr>\n",
       "      <th>306</th>\n",
       "      <td>2 thnu</td>\n",
       "      <td>pir thnu</td>\n",
       "    </tr>\n",
       "  </tbody>\n",
       "</table>\n",
       "</div>"
      ],
      "text/plain": [
       "          Commune_cln          Name_cln\n",
       "1          chob veari         chob vari\n",
       "2          chob veari         chob vari\n",
       "3          chob veari         chob vari\n",
       "4          chob veari         chob vari\n",
       "5    preah netr preah  preak netr preah\n",
       "275            ta mau            ta mao\n",
       "276           chambak           chambâk\n",
       "277           chambak           chambâk\n",
       "278      ruessei kaev        russey keo\n",
       "305            2 thnu          pir thnu\n",
       "306            2 thnu          pir thnu"
      ]
     },
     "execution_count": 20,
     "metadata": {},
     "output_type": "execute_result"
    }
   ],
   "source": [
    "compare_df[compare_df.iloc[:, 0] != compare_df.iloc[:, 1]]  # ALL found \n",
    "# accounting for spelling variations (at least for joined records)"
   ]
  },
  {
   "cell_type": "markdown",
   "id": "93e9768e-a8a4-492e-a1c4-0372f7c2618b",
   "metadata": {},
   "source": [
    "### Failed joins"
   ]
  },
  {
   "cell_type": "code",
   "execution_count": 21,
   "id": "45dcd4a6-a211-4e5c-94ab-cae2ce6a2c8d",
   "metadata": {},
   "outputs": [],
   "source": [
    "CF_wo_DB23 = CF_w_DB23[CF_w_DB23._merge != 'both']"
   ]
  },
  {
   "cell_type": "code",
   "execution_count": 22,
   "id": "e621b443-d312-44c3-8388-cdd49897f6c4",
   "metadata": {},
   "outputs": [
    {
     "data": {
      "text/html": [
       "<div>\n",
       "<style scoped>\n",
       "    .dataframe tbody tr th:only-of-type {\n",
       "        vertical-align: middle;\n",
       "    }\n",
       "\n",
       "    .dataframe tbody tr th {\n",
       "        vertical-align: top;\n",
       "    }\n",
       "\n",
       "    .dataframe thead th {\n",
       "        text-align: right;\n",
       "    }\n",
       "</style>\n",
       "<table border=\"1\" class=\"dataframe\">\n",
       "  <thead>\n",
       "    <tr style=\"text-align: right;\">\n",
       "      <th></th>\n",
       "      <th>CF_Code</th>\n",
       "      <th>Code_Srok</th>\n",
       "      <th>Code_Khum</th>\n",
       "      <th>No_Village</th>\n",
       "      <th>CF_Name_En</th>\n",
       "      <th>CF_Name_Kh</th>\n",
       "      <th>Villag_CDB</th>\n",
       "      <th>CF_Name_Note</th>\n",
       "      <th>Commune</th>\n",
       "      <th>Khum</th>\n",
       "      <th>...</th>\n",
       "      <th>District_matched</th>\n",
       "      <th>District_cln</th>\n",
       "      <th>Commune_cln</th>\n",
       "      <th>Village</th>\n",
       "      <th>VillGis</th>\n",
       "      <th>CommGis</th>\n",
       "      <th>Code</th>\n",
       "      <th>Name (Latin)</th>\n",
       "      <th>_merge</th>\n",
       "      <th>Name_cln</th>\n",
       "    </tr>\n",
       "  </thead>\n",
       "  <tbody>\n",
       "    <tr>\n",
       "      <th>13</th>\n",
       "      <td>20117</td>\n",
       "      <td>201</td>\n",
       "      <td>20107</td>\n",
       "      <td>0</td>\n",
       "      <td>Potential Area 1</td>\n",
       "      <td>tMbn;skþanuBlTI1</td>\n",
       "      <td>NaN</td>\n",
       "      <td>NaN</td>\n",
       "      <td>Snoeng,Chaeng Meanchey</td>\n",
       "      <td>sñwg/ EcgmanC½y</td>\n",
       "      <td>...</td>\n",
       "      <td>Banan</td>\n",
       "      <td>banan</td>\n",
       "      <td>snoeng &amp; chaeng mean chey</td>\n",
       "      <td>NaN</td>\n",
       "      <td>NaN</td>\n",
       "      <td>-9999</td>\n",
       "      <td>NaN</td>\n",
       "      <td>NaN</td>\n",
       "      <td>left_only</td>\n",
       "      <td>NaN</td>\n",
       "    </tr>\n",
       "    <tr>\n",
       "      <th>14</th>\n",
       "      <td>0</td>\n",
       "      <td>0</td>\n",
       "      <td>0</td>\n",
       "      <td>0</td>\n",
       "      <td>Phnom Phneas</td>\n",
       "      <td>PñMPñas</td>\n",
       "      <td>NaN</td>\n",
       "      <td>NaN</td>\n",
       "      <td>Steung</td>\n",
       "      <td>sÞwg</td>\n",
       "      <td>...</td>\n",
       "      <td>Banan</td>\n",
       "      <td>banan</td>\n",
       "      <td>NaN</td>\n",
       "      <td>NaN</td>\n",
       "      <td>NaN</td>\n",
       "      <td>-9999</td>\n",
       "      <td>NaN</td>\n",
       "      <td>NaN</td>\n",
       "      <td>left_only</td>\n",
       "      <td>NaN</td>\n",
       "    </tr>\n",
       "    <tr>\n",
       "      <th>33</th>\n",
       "      <td>20934</td>\n",
       "      <td>209</td>\n",
       "      <td>20905</td>\n",
       "      <td>0</td>\n",
       "      <td>Potential Area 19</td>\n",
       "      <td>tMbn;skþanuBlTI19</td>\n",
       "      <td>NaN</td>\n",
       "      <td>NaN</td>\n",
       "      <td>Samlaut, Sung</td>\n",
       "      <td>sMLÚt/ s‘ug</td>\n",
       "      <td>...</td>\n",
       "      <td>Samlout</td>\n",
       "      <td>samlout</td>\n",
       "      <td>samlout &amp; sung</td>\n",
       "      <td>NaN</td>\n",
       "      <td>NaN</td>\n",
       "      <td>-9999</td>\n",
       "      <td>NaN</td>\n",
       "      <td>NaN</td>\n",
       "      <td>left_only</td>\n",
       "      <td>NaN</td>\n",
       "    </tr>\n",
       "    <tr>\n",
       "      <th>34</th>\n",
       "      <td>20935</td>\n",
       "      <td>209</td>\n",
       "      <td>20905</td>\n",
       "      <td>0</td>\n",
       "      <td>Potential Area 20</td>\n",
       "      <td>tMbn;skþanuBlTI20</td>\n",
       "      <td>NaN</td>\n",
       "      <td>NaN</td>\n",
       "      <td>Samlaut, Sung</td>\n",
       "      <td>sMLÚt/ s‘ug</td>\n",
       "      <td>...</td>\n",
       "      <td>Samlout</td>\n",
       "      <td>samlout</td>\n",
       "      <td>samlout &amp; sung</td>\n",
       "      <td>NaN</td>\n",
       "      <td>NaN</td>\n",
       "      <td>-9999</td>\n",
       "      <td>NaN</td>\n",
       "      <td>NaN</td>\n",
       "      <td>left_only</td>\n",
       "      <td>NaN</td>\n",
       "    </tr>\n",
       "    <tr>\n",
       "      <th>207</th>\n",
       "      <td>0</td>\n",
       "      <td>0</td>\n",
       "      <td>0</td>\n",
       "      <td>0</td>\n",
       "      <td>Phnom Reang</td>\n",
       "      <td>PñMraMg</td>\n",
       "      <td>NaN</td>\n",
       "      <td>NaN</td>\n",
       "      <td>NaN</td>\n",
       "      <td>NaN</td>\n",
       "      <td>...</td>\n",
       "      <td>Santuk</td>\n",
       "      <td>santuk</td>\n",
       "      <td>NaN</td>\n",
       "      <td>NaN</td>\n",
       "      <td>NaN</td>\n",
       "      <td>-9999</td>\n",
       "      <td>NaN</td>\n",
       "      <td>NaN</td>\n",
       "      <td>left_only</td>\n",
       "      <td>NaN</td>\n",
       "    </tr>\n",
       "    <tr>\n",
       "      <th>...</th>\n",
       "      <td>...</td>\n",
       "      <td>...</td>\n",
       "      <td>...</td>\n",
       "      <td>...</td>\n",
       "      <td>...</td>\n",
       "      <td>...</td>\n",
       "      <td>...</td>\n",
       "      <td>...</td>\n",
       "      <td>...</td>\n",
       "      <td>...</td>\n",
       "      <td>...</td>\n",
       "      <td>...</td>\n",
       "      <td>...</td>\n",
       "      <td>...</td>\n",
       "      <td>...</td>\n",
       "      <td>...</td>\n",
       "      <td>...</td>\n",
       "      <td>...</td>\n",
       "      <td>...</td>\n",
       "      <td>...</td>\n",
       "      <td>...</td>\n",
       "    </tr>\n",
       "    <tr>\n",
       "      <th>628</th>\n",
       "      <td>0</td>\n",
       "      <td>0</td>\n",
       "      <td>0</td>\n",
       "      <td>0</td>\n",
       "      <td>Chros Phaaok</td>\n",
       "      <td>eRCaHep¥ak</td>\n",
       "      <td>NaN</td>\n",
       "      <td>NaN</td>\n",
       "      <td>NaN</td>\n",
       "      <td>NaN</td>\n",
       "      <td>...</td>\n",
       "      <td>NaN</td>\n",
       "      <td>NaN</td>\n",
       "      <td>NaN</td>\n",
       "      <td>NaN</td>\n",
       "      <td>NaN</td>\n",
       "      <td>-9999</td>\n",
       "      <td>NaN</td>\n",
       "      <td>NaN</td>\n",
       "      <td>left_only</td>\n",
       "      <td>NaN</td>\n",
       "    </tr>\n",
       "    <tr>\n",
       "      <th>629</th>\n",
       "      <td>0</td>\n",
       "      <td>0</td>\n",
       "      <td>0</td>\n",
       "      <td>0</td>\n",
       "      <td>Payong Kao</td>\n",
       "      <td>)ay:g;ekar</td>\n",
       "      <td>NaN</td>\n",
       "      <td>NaN</td>\n",
       "      <td>NaN</td>\n",
       "      <td>NaN</td>\n",
       "      <td>...</td>\n",
       "      <td>NaN</td>\n",
       "      <td>NaN</td>\n",
       "      <td>NaN</td>\n",
       "      <td>NaN</td>\n",
       "      <td>NaN</td>\n",
       "      <td>-9999</td>\n",
       "      <td>NaN</td>\n",
       "      <td>NaN</td>\n",
       "      <td>left_only</td>\n",
       "      <td>NaN</td>\n",
       "    </tr>\n",
       "    <tr>\n",
       "      <th>630</th>\n",
       "      <td>0</td>\n",
       "      <td>0</td>\n",
       "      <td>0</td>\n",
       "      <td>0</td>\n",
       "      <td>Samraong</td>\n",
       "      <td>sMerag</td>\n",
       "      <td>NaN</td>\n",
       "      <td>NaN</td>\n",
       "      <td>NaN</td>\n",
       "      <td>NaN</td>\n",
       "      <td>...</td>\n",
       "      <td>NaN</td>\n",
       "      <td>NaN</td>\n",
       "      <td>NaN</td>\n",
       "      <td>NaN</td>\n",
       "      <td>NaN</td>\n",
       "      <td>-9999</td>\n",
       "      <td>NaN</td>\n",
       "      <td>NaN</td>\n",
       "      <td>left_only</td>\n",
       "      <td>NaN</td>\n",
       "    </tr>\n",
       "    <tr>\n",
       "      <th>631</th>\n",
       "      <td>0</td>\n",
       "      <td>0</td>\n",
       "      <td>0</td>\n",
       "      <td>0</td>\n",
       "      <td>Kous</td>\n",
       "      <td>KUs</td>\n",
       "      <td>NaN</td>\n",
       "      <td>NaN</td>\n",
       "      <td>NaN</td>\n",
       "      <td>NaN</td>\n",
       "      <td>...</td>\n",
       "      <td>NaN</td>\n",
       "      <td>NaN</td>\n",
       "      <td>NaN</td>\n",
       "      <td>NaN</td>\n",
       "      <td>NaN</td>\n",
       "      <td>-9999</td>\n",
       "      <td>NaN</td>\n",
       "      <td>NaN</td>\n",
       "      <td>left_only</td>\n",
       "      <td>NaN</td>\n",
       "    </tr>\n",
       "    <tr>\n",
       "      <th>632</th>\n",
       "      <td>0</td>\n",
       "      <td>0</td>\n",
       "      <td>0</td>\n",
       "      <td>0</td>\n",
       "      <td>Tramkok</td>\n",
       "      <td>RtaMkk;</td>\n",
       "      <td>NaN</td>\n",
       "      <td>NaN</td>\n",
       "      <td>NaN</td>\n",
       "      <td>NaN</td>\n",
       "      <td>...</td>\n",
       "      <td>NaN</td>\n",
       "      <td>NaN</td>\n",
       "      <td>NaN</td>\n",
       "      <td>NaN</td>\n",
       "      <td>NaN</td>\n",
       "      <td>-9999</td>\n",
       "      <td>NaN</td>\n",
       "      <td>NaN</td>\n",
       "      <td>left_only</td>\n",
       "      <td>NaN</td>\n",
       "    </tr>\n",
       "  </tbody>\n",
       "</table>\n",
       "<p>74 rows × 54 columns</p>\n",
       "</div>"
      ],
      "text/plain": [
       "     CF_Code  Code_Srok  Code_Khum  No_Village         CF_Name_En  \\\n",
       "13     20117        201      20107           0   Potential Area 1   \n",
       "14         0          0          0           0       Phnom Phneas   \n",
       "33     20934        209      20905           0  Potential Area 19   \n",
       "34     20935        209      20905           0  Potential Area 20   \n",
       "207        0          0          0           0        Phnom Reang   \n",
       "..       ...        ...        ...         ...                ...   \n",
       "628        0          0          0           0       Chros Phaaok   \n",
       "629        0          0          0           0         Payong Kao   \n",
       "630        0          0          0           0           Samraong   \n",
       "631        0          0          0           0               Kous   \n",
       "632        0          0          0           0            Tramkok   \n",
       "\n",
       "            CF_Name_Kh Villag_CDB CF_Name_Note                 Commune  \\\n",
       "13    tMbn;skþanuBlTI1        NaN          NaN  Snoeng,Chaeng Meanchey   \n",
       "14             PñMPñas        NaN          NaN                  Steung   \n",
       "33   tMbn;skþanuBlTI19        NaN          NaN           Samlaut, Sung   \n",
       "34   tMbn;skþanuBlTI20        NaN          NaN           Samlaut, Sung   \n",
       "207            PñMraMg        NaN          NaN                     NaN   \n",
       "..                 ...        ...          ...                     ...   \n",
       "628         eRCaHep¥ak        NaN          NaN                     NaN   \n",
       "629         )ay:g;ekar        NaN          NaN                     NaN   \n",
       "630             sMerag        NaN          NaN                     NaN   \n",
       "631                KUs        NaN          NaN                     NaN   \n",
       "632            RtaMkk;        NaN          NaN                     NaN   \n",
       "\n",
       "                Khum  ... District_matched District_cln  \\\n",
       "13   sñwg/ EcgmanC½y  ...            Banan        banan   \n",
       "14              sÞwg  ...            Banan        banan   \n",
       "33       sMLÚt/ s‘ug  ...          Samlout      samlout   \n",
       "34       sMLÚt/ s‘ug  ...          Samlout      samlout   \n",
       "207              NaN  ...           Santuk       santuk   \n",
       "..               ...  ...              ...          ...   \n",
       "628              NaN  ...              NaN          NaN   \n",
       "629              NaN  ...              NaN          NaN   \n",
       "630              NaN  ...              NaN          NaN   \n",
       "631              NaN  ...              NaN          NaN   \n",
       "632              NaN  ...              NaN          NaN   \n",
       "\n",
       "                   Commune_cln Village VillGis CommGis Code Name (Latin)  \\\n",
       "13   snoeng & chaeng mean chey     NaN     NaN   -9999  NaN          NaN   \n",
       "14                         NaN     NaN     NaN   -9999  NaN          NaN   \n",
       "33              samlout & sung     NaN     NaN   -9999  NaN          NaN   \n",
       "34              samlout & sung     NaN     NaN   -9999  NaN          NaN   \n",
       "207                        NaN     NaN     NaN   -9999  NaN          NaN   \n",
       "..                         ...     ...     ...     ...  ...          ...   \n",
       "628                        NaN     NaN     NaN   -9999  NaN          NaN   \n",
       "629                        NaN     NaN     NaN   -9999  NaN          NaN   \n",
       "630                        NaN     NaN     NaN   -9999  NaN          NaN   \n",
       "631                        NaN     NaN     NaN   -9999  NaN          NaN   \n",
       "632                        NaN     NaN     NaN   -9999  NaN          NaN   \n",
       "\n",
       "        _merge  Name_cln  \n",
       "13   left_only       NaN  \n",
       "14   left_only       NaN  \n",
       "33   left_only       NaN  \n",
       "34   left_only       NaN  \n",
       "207  left_only       NaN  \n",
       "..         ...       ...  \n",
       "628  left_only       NaN  \n",
       "629  left_only       NaN  \n",
       "630  left_only       NaN  \n",
       "631  left_only       NaN  \n",
       "632  left_only       NaN  \n",
       "\n",
       "[74 rows x 54 columns]"
      ]
     },
     "execution_count": 22,
     "metadata": {},
     "output_type": "execute_result"
    }
   ],
   "source": [
    "CF_wo_DB23"
   ]
  },
  {
   "cell_type": "code",
   "execution_count": null,
   "id": "2b83420f-2ce1-448c-989b-aaf545ad93e6",
   "metadata": {},
   "outputs": [],
   "source": [
    "CF_wo_DB23.Commune_cln.isna().mean()"
   ]
  },
  {
   "cell_type": "code",
   "execution_count": null,
   "id": "9df7619d-6978-4375-918c-232589135f09",
   "metadata": {},
   "outputs": [],
   "source": [
    "CF_wo_DB23.Commune_cln.value_counts()"
   ]
  },
  {
   "cell_type": "code",
   "execution_count": null,
   "id": "429a488b-fe89-4e7d-8847-e231b233d4bc",
   "metadata": {},
   "outputs": [],
   "source": [
    "CF_wo_DB23[CF_wo_DB23.Commune_cln == 'ou krieng']"
   ]
  },
  {
   "cell_type": "code",
   "execution_count": null,
   "id": "ae427aeb-6084-4fe9-a600-5770e05e0333",
   "metadata": {},
   "outputs": [],
   "source": []
  }
 ],
 "metadata": {
  "kernelspec": {
   "display_name": "Python 3 (ipykernel)",
   "language": "python",
   "name": "python3"
  },
  "language_info": {
   "codemirror_mode": {
    "name": "ipython",
    "version": 3
   },
   "file_extension": ".py",
   "mimetype": "text/x-python",
   "name": "python",
   "nbconvert_exporter": "python",
   "pygments_lexer": "ipython3",
   "version": "3.10.11"
  }
 },
 "nbformat": 4,
 "nbformat_minor": 5
}
