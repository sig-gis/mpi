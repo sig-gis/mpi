{
 "cells": [
  {
   "cell_type": "markdown",
   "id": "edc68c3c-c862-4200-8172-bfad3fe18d80",
   "metadata": {},
   "source": [
    "This notebook enriches each CF with a list of DB23 villages in the CF commune, and identifies the one that best matches with CF name (and CF village if village is known). \n",
    "\n",
    "The notebook exports a CSV including existing info in `CF_df`, lists of DB23 village names and codes (`Villages_DB23`, `Village_Codes_DB23`) enriched, CF village names known for the focal provinces from CBNRM (`Village_na_CBNRM`), CDB villages matched to those CF village names (`Village_na_CDB*`), and the best names identified (`Village_na_CBNRM_fuzz_DB23` and `CF_Name_En_fuzz_DB23`).\n",
    "Note a couple columns are renamed for clarity. \n",
    "\n",
    "DB23: `ncdd_admin_database_25provinces__2023.xlsx` from Lok on 20231212"
   ]
  },
  {
   "cell_type": "code",
   "execution_count": 1,
   "id": "b6e50746-88af-487b-a4b4-6da18269786e",
   "metadata": {},
   "outputs": [],
   "source": [
    "import pandas as pd\n",
    "import numpy as np\n",
    "from pathlib import Path\n",
    "from itables import show"
   ]
  },
  {
   "cell_type": "code",
   "execution_count": 2,
   "id": "d56d4bba-cc80-4772-acda-635d9405781f",
   "metadata": {},
   "outputs": [],
   "source": [
    "%load_ext autoreload\n",
    "%autoreload 2"
   ]
  },
  {
   "cell_type": "code",
   "execution_count": 3,
   "id": "a214ae77-86d1-4168-bd26-3b775860be4d",
   "metadata": {},
   "outputs": [],
   "source": [
    "from utils.fuzzy_match import *"
   ]
  },
  {
   "cell_type": "code",
   "execution_count": 4,
   "id": "2f56048d-c688-43fb-a5d3-aa71d6781b77",
   "metadata": {},
   "outputs": [],
   "source": [
    "# paths\n",
    "code_path = Path().absolute()\n",
    "datafd_path = code_path.parent.parent / 'data'\n",
    "intmd_outfd_path = code_path.parent.parent / 'output_intmd' / 'match_CF_DB23'"
   ]
  },
  {
   "cell_type": "markdown",
   "id": "38e9bbbf-6d3c-4f1b-9faf-5e54b502506a",
   "metadata": {},
   "source": [
    "## Read in data"
   ]
  },
  {
   "cell_type": "markdown",
   "id": "db45bda9-2e83-4b11-9afe-552d98442d58",
   "metadata": {},
   "source": [
    "### CF data\n",
    "\n",
    "with all ~~but 36 CF~~ communes matched to DB23 communes (see 'Code_Comm_DB23', 'Commun_DB23', 'Commun_DB23_Note')"
   ]
  },
  {
   "cell_type": "code",
   "execution_count": 5,
   "id": "e740edc6-1d6e-431c-8134-fc203a37577c",
   "metadata": {
    "tags": []
   },
   "outputs": [],
   "source": [
    "# CF_df = pd.read_csv(intmd_outfd_path / 'CF_w_match_helper_vill_DB23_comm_autoJoined_matched.csv')\n",
    "CF_df = pd.read_csv(intmd_outfd_path / 'CF_w_match_helper_vill_DB23_comm_autoJoined_matchedAll.csv')"
   ]
  },
  {
   "cell_type": "markdown",
   "id": "64931771-1107-4bea-af9e-29924c56585e",
   "metadata": {},
   "source": [
    "### CF data in focal provinces\n",
    "\n",
    "with some village names and a subset of them matched to CDB data"
   ]
  },
  {
   "cell_type": "code",
   "execution_count": 6,
   "id": "f215ea3f-5b96-432b-b3f6-0dc5000ceae5",
   "metadata": {},
   "outputs": [],
   "source": [
    "CF_4prov_df = pd.read_csv(\n",
    "    code_path.parent.parent / 'output_intmd' / 'match_CF_CDB' / 'CF230306_w_CDB_village.csv'\n",
    ")"
   ]
  },
  {
   "cell_type": "markdown",
   "id": "080c5815-d7ad-4e8d-be71-3055a63ccae8",
   "metadata": {},
   "source": [
    "### DB23\n",
    "\n",
    "cleaned"
   ]
  },
  {
   "cell_type": "code",
   "execution_count": 7,
   "id": "8106f2f7-6963-4f26-814e-a9daa750b188",
   "metadata": {},
   "outputs": [],
   "source": [
    "db_df = pd.read_csv(intmd_outfd_path / 'ncdd_admin_database_25provinces__2023_wide_en.csv')"
   ]
  },
  {
   "cell_type": "markdown",
   "id": "be9c5c93-c545-4acd-b880-c957d854e60a",
   "metadata": {
    "tags": []
   },
   "source": [
    "## Enrich CF data with a list of DB23 villages in the CF commune"
   ]
  },
  {
   "cell_type": "markdown",
   "id": "2f3a6dd9-6b6c-4f5f-8c57-29f42352e070",
   "metadata": {},
   "source": [
    "### Preprocess"
   ]
  },
  {
   "cell_type": "code",
   "execution_count": 8,
   "id": "9fe9e97d-42b0-40b9-a191-bef0179eab2a",
   "metadata": {},
   "outputs": [
    {
     "data": {
      "text/plain": [
       "13                               20105, 20107\n",
       "32                               20904, 20905\n",
       "33                               20904, 20906\n",
       "344                        240203, 240204\\r\\n\n",
       "345                        240203, 240204\\r\\n\n",
       "346                        240203, 240204\\r\\n\n",
       "594                            200203, 200207\n",
       "596                            210904, 210911\n",
       "603                              20107, 20701\n",
       "607                            100602, 100607\n",
       "609                            100104, 100505\n",
       "610                            100603, 100602\n",
       "611                            110104, 110105\n",
       "612                            110206, 110205\n",
       "617                    110206, 110205, 110201\n",
       "618                            110204, 110206\n",
       "620                            110503, 110403\n",
       "621                            150405, 150406\n",
       "624                            160701, 160704\n",
       "625            160607, 160602, 160104, 160801\n",
       "626    160605, 160604, 160602, 160904, 160906\n",
       "627            210411, 210405, 210408, 210402\n",
       "629                    210412, 210411, 210408\n",
       "630                            210409, 210410\n",
       "631            210409, 210404, 210410, 210406\n",
       "632                    210404, 210410, 210406\n",
       "633                            210910, 210915\n",
       "634                            210411, 210405\n",
       "635                    210405, 210408, 210402\n",
       "636                            210903, 210910\n",
       "637                            210913, 210903\n",
       "Name: Code_Comm_DB23, dtype: object"
      ]
     },
     "execution_count": 8,
     "metadata": {},
     "output_type": "execute_result"
    }
   ],
   "source": [
    "# Some CF have multiple commune codes\n",
    "multiple_communes = CF_df.Code_Comm_DB23.str.contains(',', na=False)\n",
    "CF_df.Code_Comm_DB23[multiple_communes]"
   ]
  },
  {
   "cell_type": "code",
   "execution_count": 9,
   "id": "54d52e3d-00c0-4570-975e-b4bc8e32dd76",
   "metadata": {
    "tags": []
   },
   "outputs": [
    {
     "data": {
      "text/plain": [
       "(683, 53)"
      ]
     },
     "execution_count": 9,
     "metadata": {},
     "output_type": "execute_result"
    }
   ],
   "source": [
    "# Create a separate row for each of those commune codes\n",
    "\n",
    "# df with only those CFs\n",
    "to_split_df = CF_df.loc[multiple_communes].copy()\n",
    "\n",
    "# Splitting the comma-separated codes and exploding them into separate rows\n",
    "to_split_df['Code_Comm_DB23'] = to_split_df['Code_Comm_DB23'].str.split(', ')\n",
    "splitted_df = to_split_df.explode('Code_Comm_DB23')\n",
    "splitted_df.reset_index(drop=True, inplace=True)\n",
    "\n",
    "# Removing those CFs from the main dataset\n",
    "clean_CF_df = CF_df[~multiple_communes]\n",
    "\n",
    "# Appending the exploded rows to the main dataset\n",
    "long_CF_df = pd.concat([clean_CF_df, splitted_df], ignore_index=True)\n",
    "long_CF_df.shape"
   ]
  },
  {
   "cell_type": "code",
   "execution_count": 10,
   "id": "ef36afbc-1f27-448a-92fb-f4cf69eeecd9",
   "metadata": {},
   "outputs": [],
   "source": [
    "# Clean codes\n",
    "long_CF_df.Code_Comm_DB23 = long_CF_df.Code_Comm_DB23.astype('Int64').astype(str)\n",
    "db_df['Commune Code'] = db_df['Commune Code'].astype(str)"
   ]
  },
  {
   "cell_type": "markdown",
   "id": "75aafeee-a22f-4e0e-98a3-74bb68acb953",
   "metadata": {},
   "source": [
    "### Join DB23 villages to CF based on commune code"
   ]
  },
  {
   "cell_type": "code",
   "execution_count": 11,
   "id": "7b5a71d1-7f26-456b-a813-b562e2b2f8ce",
   "metadata": {},
   "outputs": [],
   "source": [
    "CF_villInComm_df = long_CF_df.merge(\n",
    "    db_df,\n",
    "    how='left',\n",
    "    left_on='Code_Comm_DB23',\n",
    "    right_on='Commune Code',\n",
    "    suffixes=(None, '_DB23'),\n",
    "    indicator=True\n",
    ")"
   ]
  },
  {
   "cell_type": "code",
   "execution_count": 12,
   "id": "b70a59ba-05a7-4a92-8bf3-d4925b6dcc0c",
   "metadata": {},
   "outputs": [
    {
     "data": {
      "text/plain": [
       "both          6040\n",
       "left_only        0\n",
       "right_only       0\n",
       "Name: _merge, dtype: int64"
      ]
     },
     "execution_count": 12,
     "metadata": {},
     "output_type": "execute_result"
    }
   ],
   "source": [
    "CF_villInComm_df._merge.value_counts()"
   ]
  },
  {
   "cell_type": "markdown",
   "id": "b2abb10b-37b4-4ece-9d26-491134f3e3bb",
   "metadata": {},
   "source": [
    "### Aggregate villages to lists: one per CF"
   ]
  },
  {
   "cell_type": "code",
   "execution_count": 13,
   "id": "91d00a8f-1fab-41d6-b96a-ae2c935d0148",
   "metadata": {},
   "outputs": [],
   "source": [
    "# Clean village code\n",
    "CF_villInComm_df['Village Code'] = CF_villInComm_df['Village Code'].astype('Int64')"
   ]
  },
  {
   "cell_type": "code",
   "execution_count": 14,
   "id": "55025fff-e82b-42a6-8d4e-7e03d36ebebb",
   "metadata": {},
   "outputs": [
    {
     "data": {
      "text/html": [
       "<div>\n",
       "<style scoped>\n",
       "    .dataframe tbody tr th:only-of-type {\n",
       "        vertical-align: middle;\n",
       "    }\n",
       "\n",
       "    .dataframe tbody tr th {\n",
       "        vertical-align: top;\n",
       "    }\n",
       "\n",
       "    .dataframe thead th {\n",
       "        text-align: right;\n",
       "    }\n",
       "</style>\n",
       "<table border=\"1\" class=\"dataframe\">\n",
       "  <thead>\n",
       "    <tr style=\"text-align: right;\">\n",
       "      <th></th>\n",
       "      <th>Village Name</th>\n",
       "      <th>Village Code</th>\n",
       "    </tr>\n",
       "    <tr>\n",
       "      <th>UniqueID</th>\n",
       "      <th></th>\n",
       "      <th></th>\n",
       "    </tr>\n",
       "  </thead>\n",
       "  <tbody>\n",
       "    <tr>\n",
       "      <th>1</th>\n",
       "      <td>Paoy Kdoeang\\nCheung Voat\\nKandal\\nPost Chas\\n...</td>\n",
       "      <td>1040501\\n1040502\\n1040503\\n1040504\\n1040505\\n1...</td>\n",
       "    </tr>\n",
       "    <tr>\n",
       "      <th>2</th>\n",
       "      <td>Chob\\nRoul Chruk\\nPrasat\\nKrasang Thmei\\nPrada...</td>\n",
       "      <td>1040201\\n1040202\\n1040203\\n1040204\\n1040205\\n1...</td>\n",
       "    </tr>\n",
       "  </tbody>\n",
       "</table>\n",
       "</div>"
      ],
      "text/plain": [
       "                                               Village Name  \\\n",
       "UniqueID                                                      \n",
       "1         Paoy Kdoeang\\nCheung Voat\\nKandal\\nPost Chas\\n...   \n",
       "2         Chob\\nRoul Chruk\\nPrasat\\nKrasang Thmei\\nPrada...   \n",
       "\n",
       "                                               Village Code  \n",
       "UniqueID                                                     \n",
       "1         1040501\\n1040502\\n1040503\\n1040504\\n1040505\\n1...  \n",
       "2         1040201\\n1040202\\n1040203\\n1040204\\n1040205\\n1...  "
      ]
     },
     "execution_count": 14,
     "metadata": {},
     "output_type": "execute_result"
    }
   ],
   "source": [
    "# Aggregate villages per CF\n",
    "CFID_villInCommLst_df = CF_villInComm_df.groupby(['UniqueID']).agg(\n",
    "    {\n",
    "        var: lambda x: '\\n'.join(x.astype(str)) for var in ['Village Name', 'Village Code']\n",
    "    }  # concatenate all village names in the commune with \\n as delimiter, same for village IDs\n",
    ")\n",
    "CFID_villInCommLst_df.head(2)"
   ]
  },
  {
   "cell_type": "code",
   "execution_count": 15,
   "id": "491569ae-6b85-43ae-8a7d-635fbe3e6e7e",
   "metadata": {},
   "outputs": [],
   "source": [
    "# Enrich the CF data with the concatenated village names and codes\n",
    "CF_villInCommLst_df = CF_df.merge(\n",
    "    CFID_villInCommLst_df,\n",
    "    how='inner',\n",
    "    on='UniqueID',\n",
    "    validate='1:1'\n",
    ")"
   ]
  },
  {
   "cell_type": "code",
   "execution_count": 16,
   "id": "11c6c06b-c6c0-44cc-b6ca-7e7715f390e8",
   "metadata": {},
   "outputs": [
    {
     "data": {
      "text/html": [
       "<div>\n",
       "<style scoped>\n",
       "    .dataframe tbody tr th:only-of-type {\n",
       "        vertical-align: middle;\n",
       "    }\n",
       "\n",
       "    .dataframe tbody tr th {\n",
       "        vertical-align: top;\n",
       "    }\n",
       "\n",
       "    .dataframe thead th {\n",
       "        text-align: right;\n",
       "    }\n",
       "</style>\n",
       "<table border=\"1\" class=\"dataframe\">\n",
       "  <thead>\n",
       "    <tr style=\"text-align: right;\">\n",
       "      <th></th>\n",
       "      <th>CF_Code</th>\n",
       "      <th>Code_Srok</th>\n",
       "      <th>Code_Khum</th>\n",
       "      <th>No_Village</th>\n",
       "      <th>CF_Name_En</th>\n",
       "      <th>CF_Name_Kh</th>\n",
       "      <th>Villag_CDB</th>\n",
       "      <th>CF_Name_Note</th>\n",
       "      <th>Commune</th>\n",
       "      <th>Khum</th>\n",
       "      <th>...</th>\n",
       "      <th>District_cln</th>\n",
       "      <th>Commune_cln</th>\n",
       "      <th>Village</th>\n",
       "      <th>VillGis</th>\n",
       "      <th>CommGis</th>\n",
       "      <th>Code_Comm_DB23</th>\n",
       "      <th>Commun_DB23</th>\n",
       "      <th>Commun_DB23_Note</th>\n",
       "      <th>Village Name</th>\n",
       "      <th>Village Code</th>\n",
       "    </tr>\n",
       "  </thead>\n",
       "  <tbody>\n",
       "    <tr>\n",
       "      <th>0</th>\n",
       "      <td>10301</td>\n",
       "      <td>103</td>\n",
       "      <td>10302</td>\n",
       "      <td>3</td>\n",
       "      <td>Kon Khleaeng</td>\n",
       "      <td>kUnExøg</td>\n",
       "      <td>NaN</td>\n",
       "      <td>NaN</td>\n",
       "      <td>Poy Char</td>\n",
       "      <td>e)a:ycar</td>\n",
       "      <td>...</td>\n",
       "      <td>na</td>\n",
       "      <td>poy char</td>\n",
       "      <td>Paoy Snuol\\nPaoy Char\\nTrapeang Thma Tboung\\nT...</td>\n",
       "      <td>1030201\\n1030202\\n1030203\\n1030204\\n1030205\\n1...</td>\n",
       "      <td>10302</td>\n",
       "      <td>10302</td>\n",
       "      <td>Poy Char</td>\n",
       "      <td>matched based on CommGis</td>\n",
       "      <td>Paoy Snuol\\nPaoy Char\\nTrapeang Thma Tboung\\nT...</td>\n",
       "      <td>1030201\\n1030202\\n1030203\\n1030204\\n1030205\\n1...</td>\n",
       "    </tr>\n",
       "    <tr>\n",
       "      <th>1</th>\n",
       "      <td>10405</td>\n",
       "      <td>104</td>\n",
       "      <td>10402</td>\n",
       "      <td>2</td>\n",
       "      <td>Phnom Chuncheang</td>\n",
       "      <td>PMñCBa¢aMg</td>\n",
       "      <td>NaN</td>\n",
       "      <td>NaN</td>\n",
       "      <td>Chub Veary</td>\n",
       "      <td>Cb;varI</td>\n",
       "      <td>...</td>\n",
       "      <td>preah netr preah</td>\n",
       "      <td>chob veari</td>\n",
       "      <td>Chob\\nRoul Chruk\\nPrasat\\nKrasang Thmei\\nPrada...</td>\n",
       "      <td>1040201\\n1040202\\n1040203\\n1040204\\n1040205\\n1...</td>\n",
       "      <td>10402</td>\n",
       "      <td>10402</td>\n",
       "      <td>Chob Vari</td>\n",
       "      <td>matched based on CommGis</td>\n",
       "      <td>Chob\\nRoul Chruk\\nPrasat\\nKrasang Thmei\\nPrada...</td>\n",
       "      <td>1040201\\n1040202\\n1040203\\n1040204\\n1040205\\n1...</td>\n",
       "    </tr>\n",
       "  </tbody>\n",
       "</table>\n",
       "<p>2 rows × 55 columns</p>\n",
       "</div>"
      ],
      "text/plain": [
       "   CF_Code  Code_Srok  Code_Khum  No_Village        CF_Name_En  CF_Name_Kh  \\\n",
       "0    10301        103      10302           3      Kon Khleaeng     kUnExøg   \n",
       "1    10405        104      10402           2  Phnom Chuncheang  PMñCBa¢aMg   \n",
       "\n",
       "  Villag_CDB CF_Name_Note     Commune      Khum  ...      District_cln  \\\n",
       "0        NaN          NaN    Poy Char  e)a:ycar  ...                na   \n",
       "1        NaN          NaN  Chub Veary   Cb;varI  ...  preah netr preah   \n",
       "\n",
       "  Commune_cln                                            Village  \\\n",
       "0    poy char  Paoy Snuol\\nPaoy Char\\nTrapeang Thma Tboung\\nT...   \n",
       "1  chob veari  Chob\\nRoul Chruk\\nPrasat\\nKrasang Thmei\\nPrada...   \n",
       "\n",
       "                                             VillGis CommGis Code_Comm_DB23  \\\n",
       "0  1030201\\n1030202\\n1030203\\n1030204\\n1030205\\n1...   10302          10302   \n",
       "1  1040201\\n1040202\\n1040203\\n1040204\\n1040205\\n1...   10402          10402   \n",
       "\n",
       "  Commun_DB23          Commun_DB23_Note  \\\n",
       "0    Poy Char  matched based on CommGis   \n",
       "1   Chob Vari  matched based on CommGis   \n",
       "\n",
       "                                        Village Name  \\\n",
       "0  Paoy Snuol\\nPaoy Char\\nTrapeang Thma Tboung\\nT...   \n",
       "1  Chob\\nRoul Chruk\\nPrasat\\nKrasang Thmei\\nPrada...   \n",
       "\n",
       "                                        Village Code  \n",
       "0  1030201\\n1030202\\n1030203\\n1030204\\n1030205\\n1...  \n",
       "1  1040201\\n1040202\\n1040203\\n1040204\\n1040205\\n1...  \n",
       "\n",
       "[2 rows x 55 columns]"
      ]
     },
     "execution_count": 16,
     "metadata": {},
     "output_type": "execute_result"
    }
   ],
   "source": [
    "CF_villInCommLst_df.head(2)"
   ]
  },
  {
   "cell_type": "markdown",
   "id": "c30cd566-5bb6-4b50-8ec3-1e20a84b0850",
   "metadata": {},
   "source": [
    "## Identify the one that best matches with CF name \n",
    "\n",
    "(and the one that best matches with CF village if village is known)"
   ]
  },
  {
   "cell_type": "code",
   "execution_count": 17,
   "id": "e3ec4aac-efb3-4408-94ed-b1a7b707ad9a",
   "metadata": {
    "tags": []
   },
   "outputs": [],
   "source": [
    "# Enrich the CF data with known CF villages\n",
    "CF_vills_df = CF_villInCommLst_df.merge(\n",
    "    CF_4prov_df[['UniqueID', 'Village_na', 'Village_na_CDB', 'Village_na_CDB_note']],\n",
    "    how='left',\n",
    "    on='UniqueID',\n",
    "    validate='1:1'\n",
    ")"
   ]
  },
  {
   "cell_type": "code",
   "execution_count": 18,
   "id": "e05915dc-36c8-49e2-903f-83c6b1ad08cd",
   "metadata": {},
   "outputs": [],
   "source": [
    "# Rename columns\n",
    "CF_vills_df.rename(columns={\n",
    "    'Village': 'Villages_CDB',\n",
    "    'VillGis': 'Village_Codes_CDB',\n",
    "    'Village Name': 'Villages_DB23', \n",
    "    'Village Code': 'Village_Codes_DB23',\n",
    "    'Village_na': 'Village_na_CBNRM'\n",
    "}, inplace=True)"
   ]
  },
  {
   "cell_type": "code",
   "execution_count": 19,
   "id": "067cee30-fb21-4d03-a32f-852d0cbb6b1e",
   "metadata": {},
   "outputs": [
    {
     "data": {
      "text/html": [
       "<div>\n",
       "<style scoped>\n",
       "    .dataframe tbody tr th:only-of-type {\n",
       "        vertical-align: middle;\n",
       "    }\n",
       "\n",
       "    .dataframe tbody tr th {\n",
       "        vertical-align: top;\n",
       "    }\n",
       "\n",
       "    .dataframe thead th {\n",
       "        text-align: right;\n",
       "    }\n",
       "</style>\n",
       "<table border=\"1\" class=\"dataframe\">\n",
       "  <thead>\n",
       "    <tr style=\"text-align: right;\">\n",
       "      <th></th>\n",
       "      <th>CF_Code</th>\n",
       "      <th>Code_Srok</th>\n",
       "      <th>Code_Khum</th>\n",
       "      <th>No_Village</th>\n",
       "      <th>CF_Name_En</th>\n",
       "      <th>CF_Name_Kh</th>\n",
       "      <th>Villag_CDB</th>\n",
       "      <th>CF_Name_Note</th>\n",
       "      <th>Commune</th>\n",
       "      <th>Khum</th>\n",
       "      <th>...</th>\n",
       "      <th>Village_Codes_CDB</th>\n",
       "      <th>CommGis</th>\n",
       "      <th>Code_Comm_DB23</th>\n",
       "      <th>Commun_DB23</th>\n",
       "      <th>Commun_DB23_Note</th>\n",
       "      <th>Villages_DB23</th>\n",
       "      <th>Village_Codes_DB23</th>\n",
       "      <th>Village_na_CBNRM</th>\n",
       "      <th>Village_na_CDB</th>\n",
       "      <th>Village_na_CDB_note</th>\n",
       "    </tr>\n",
       "  </thead>\n",
       "  <tbody>\n",
       "    <tr>\n",
       "      <th>0</th>\n",
       "      <td>10301</td>\n",
       "      <td>103</td>\n",
       "      <td>10302</td>\n",
       "      <td>3</td>\n",
       "      <td>Kon Khleaeng</td>\n",
       "      <td>kUnExøg</td>\n",
       "      <td>NaN</td>\n",
       "      <td>NaN</td>\n",
       "      <td>Poy Char</td>\n",
       "      <td>e)a:ycar</td>\n",
       "      <td>...</td>\n",
       "      <td>1030201\\n1030202\\n1030203\\n1030204\\n1030205\\n1...</td>\n",
       "      <td>10302</td>\n",
       "      <td>10302</td>\n",
       "      <td>Poy Char</td>\n",
       "      <td>matched based on CommGis</td>\n",
       "      <td>Paoy Snuol\\nPaoy Char\\nTrapeang Thma Tboung\\nT...</td>\n",
       "      <td>1030201\\n1030202\\n1030203\\n1030204\\n1030205\\n1...</td>\n",
       "      <td>NaN</td>\n",
       "      <td>NaN</td>\n",
       "      <td>NaN</td>\n",
       "    </tr>\n",
       "    <tr>\n",
       "      <th>1</th>\n",
       "      <td>10405</td>\n",
       "      <td>104</td>\n",
       "      <td>10402</td>\n",
       "      <td>2</td>\n",
       "      <td>Phnom Chuncheang</td>\n",
       "      <td>PMñCBa¢aMg</td>\n",
       "      <td>NaN</td>\n",
       "      <td>NaN</td>\n",
       "      <td>Chub Veary</td>\n",
       "      <td>Cb;varI</td>\n",
       "      <td>...</td>\n",
       "      <td>1040201\\n1040202\\n1040203\\n1040204\\n1040205\\n1...</td>\n",
       "      <td>10402</td>\n",
       "      <td>10402</td>\n",
       "      <td>Chob Vari</td>\n",
       "      <td>matched based on CommGis</td>\n",
       "      <td>Chob\\nRoul Chruk\\nPrasat\\nKrasang Thmei\\nPrada...</td>\n",
       "      <td>1040201\\n1040202\\n1040203\\n1040204\\n1040205\\n1...</td>\n",
       "      <td>NaN</td>\n",
       "      <td>NaN</td>\n",
       "      <td>NaN</td>\n",
       "    </tr>\n",
       "  </tbody>\n",
       "</table>\n",
       "<p>2 rows × 58 columns</p>\n",
       "</div>"
      ],
      "text/plain": [
       "   CF_Code  Code_Srok  Code_Khum  No_Village        CF_Name_En  CF_Name_Kh  \\\n",
       "0    10301        103      10302           3      Kon Khleaeng     kUnExøg   \n",
       "1    10405        104      10402           2  Phnom Chuncheang  PMñCBa¢aMg   \n",
       "\n",
       "  Villag_CDB CF_Name_Note     Commune      Khum  ...  \\\n",
       "0        NaN          NaN    Poy Char  e)a:ycar  ...   \n",
       "1        NaN          NaN  Chub Veary   Cb;varI  ...   \n",
       "\n",
       "                                   Village_Codes_CDB CommGis Code_Comm_DB23  \\\n",
       "0  1030201\\n1030202\\n1030203\\n1030204\\n1030205\\n1...   10302          10302   \n",
       "1  1040201\\n1040202\\n1040203\\n1040204\\n1040205\\n1...   10402          10402   \n",
       "\n",
       "  Commun_DB23          Commun_DB23_Note  \\\n",
       "0    Poy Char  matched based on CommGis   \n",
       "1   Chob Vari  matched based on CommGis   \n",
       "\n",
       "                                       Villages_DB23  \\\n",
       "0  Paoy Snuol\\nPaoy Char\\nTrapeang Thma Tboung\\nT...   \n",
       "1  Chob\\nRoul Chruk\\nPrasat\\nKrasang Thmei\\nPrada...   \n",
       "\n",
       "                                  Village_Codes_DB23 Village_na_CBNRM  \\\n",
       "0  1030201\\n1030202\\n1030203\\n1030204\\n1030205\\n1...              NaN   \n",
       "1  1040201\\n1040202\\n1040203\\n1040204\\n1040205\\n1...              NaN   \n",
       "\n",
       "  Village_na_CDB  Village_na_CDB_note  \n",
       "0            NaN                  NaN  \n",
       "1            NaN                  NaN  \n",
       "\n",
       "[2 rows x 58 columns]"
      ]
     },
     "execution_count": 19,
     "metadata": {},
     "output_type": "execute_result"
    }
   ],
   "source": [
    "CF_vills_df.head(2)"
   ]
  },
  {
   "cell_type": "markdown",
   "id": "d050b9f2-8b1b-4bb4-b673-2fbad78b2e5f",
   "metadata": {},
   "source": [
    "### Find best match with CF village from DB23 village list\n"
   ]
  },
  {
   "cell_type": "code",
   "execution_count": 20,
   "id": "479f7b65-fd83-4bf9-bd59-4199f7769c58",
   "metadata": {
    "tags": []
   },
   "outputs": [],
   "source": [
    "CF_vills_df = CF_vills_df.apply(\n",
    "    append_fuzz_match_result,\n",
    "    axis=1,\n",
    "    result_col='Village_na_CBNRM_fuzz_DB23', \n",
    "    string='Village_na_CBNRM', \n",
    "    pool='Villages_DB23', \n",
    "    list_string=list_Village_na_CBNRM\n",
    ")"
   ]
  },
  {
   "cell_type": "markdown",
   "id": "6dea3638-7a3e-4cac-82d3-2283fd1caae7",
   "metadata": {},
   "source": [
    "### Find best match with CF name from DB23 village list"
   ]
  },
  {
   "cell_type": "code",
   "execution_count": 21,
   "id": "b0a3fb3e-a2f2-47b5-84c7-8e87b78d92b2",
   "metadata": {},
   "outputs": [],
   "source": [
    "CF_vills_df = CF_vills_df.apply(\n",
    "    append_fuzz_match_result,\n",
    "    axis=1,\n",
    "    result_col='CF_Name_En_fuzz_DB23', \n",
    "    string='CF_Name_En', \n",
    "    pool='Villages_DB23', \n",
    "    list_string=lambda x: [x]\n",
    ")"
   ]
  },
  {
   "cell_type": "markdown",
   "id": "4b6dd49a-3095-45e3-a88b-6cf3d633b245",
   "metadata": {},
   "source": [
    "### Consolidate both matches"
   ]
  },
  {
   "cell_type": "code",
   "execution_count": 22,
   "id": "169d3fc3-46cd-4de6-87b3-1c7cdb16a65a",
   "metadata": {},
   "outputs": [],
   "source": [
    "CF_vills_df['Village_DB23 (to update)'] = \\\n",
    "CF_vills_df['Village_na_CBNRM_fuzz_DB23'].combine_first(\n",
    "    CF_vills_df['CF_Name_En_fuzz_DB23']\n",
    ")\n",
    "# A column to be updated with visually checked village names\n",
    "# Matches with CF village take precedence over CF name"
   ]
  },
  {
   "cell_type": "markdown",
   "id": "7a51a304-1e91-4d07-acaf-fba77fff3207",
   "metadata": {
    "tags": []
   },
   "source": [
    "### export results"
   ]
  },
  {
   "cell_type": "code",
   "execution_count": 23,
   "id": "056860ba-1607-42b1-b7e0-c20972e62cde",
   "metadata": {},
   "outputs": [],
   "source": [
    "# CF_vills_df.to_csv(intmd_outfd_path / 'CF_w_match_helper_vill_DB23_comm_autoJoined_matchedAll_fuzz.csv', index=False)"
   ]
  },
  {
   "cell_type": "code",
   "execution_count": null,
   "id": "1b1390e1-6fab-4f34-bbfe-32e6d693f3d2",
   "metadata": {},
   "outputs": [],
   "source": []
  }
 ],
 "metadata": {
  "kernelspec": {
   "display_name": "Python 3 (ipykernel)",
   "language": "python",
   "name": "python3"
  },
  "language_info": {
   "codemirror_mode": {
    "name": "ipython",
    "version": 3
   },
   "file_extension": ".py",
   "mimetype": "text/x-python",
   "name": "python",
   "nbconvert_exporter": "python",
   "pygments_lexer": "ipython3",
   "version": "3.10.11"
  }
 },
 "nbformat": 4,
 "nbformat_minor": 5
}
