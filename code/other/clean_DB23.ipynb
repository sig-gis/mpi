{
 "cells": [
  {
   "cell_type": "markdown",
   "id": "416fc45f",
   "metadata": {},
   "source": [
    "This notebook cleans DB23 (`ncdd_admin_database_25provinces__2023.xlsx` from Lok on 20231212), processing it into a village-level CSV with commune, district, and province info."
   ]
  },
  {
   "cell_type": "code",
   "execution_count": 1,
   "id": "60ecda16-a91f-408f-8d2d-620bf53254e3",
   "metadata": {},
   "outputs": [],
   "source": [
    "import pandas as pd\n",
    "import numpy as np\n",
    "from pathlib import Path\n",
    "from itables import show"
   ]
  },
  {
   "cell_type": "code",
   "execution_count": 2,
   "id": "c341313c-17e0-4e11-ab11-252bcd5ca265",
   "metadata": {},
   "outputs": [],
   "source": [
    "%load_ext autoreload\n",
    "%autoreload 2"
   ]
  },
  {
   "cell_type": "code",
   "execution_count": 3,
   "id": "9640f6c7-443a-41f7-996a-b1d7849e4dc4",
   "metadata": {},
   "outputs": [],
   "source": [
    "from utils.clean_DB23 import *"
   ]
  },
  {
   "cell_type": "code",
   "execution_count": 4,
   "id": "d93e8b49-f08f-4feb-8e45-5f8872304f4d",
   "metadata": {},
   "outputs": [],
   "source": [
    "# paths\n",
    "code_path = Path().absolute()\n",
    "datafd_path = code_path.parent.parent / 'data'\n",
    "intmd_outfd_path = code_path.parent.parent / 'output_intmd' / 'match_CF_DB23'"
   ]
  },
  {
   "cell_type": "markdown",
   "id": "998075b8-7a9a-4178-bbd0-f2d619874d40",
   "metadata": {},
   "source": [
    "### Read in DB23 and stack all sheets vertically into `db_df`"
   ]
  },
  {
   "cell_type": "code",
   "execution_count": 5,
   "id": "125c48ba-7f42-4638-b476-062f16922dfc",
   "metadata": {},
   "outputs": [],
   "source": [
    "DB23_path = datafd_path / 'other' / 'ncdd_admin_database_25provinces__2023.xlsx'\n",
    "DB23_df_dic = pd.read_excel(DB23_path, sheet_name=None, header=2)  \n",
    "# all sheets, key=sheet name, skip first 2 rows, make row 3 header"
   ]
  },
  {
   "cell_type": "code",
   "execution_count": 6,
   "id": "9977bde3-402f-496c-ad44-bf23c9164680",
   "metadata": {},
   "outputs": [],
   "source": [
    "# List of sheet names\n",
    "sht_name_lst = list(DB23_df_dic.keys())\n",
    "# List of sheet df\n",
    "db_prov_df_lst = [DB23_df_dic[sht] for sht in sht_name_lst]"
   ]
  },
  {
   "cell_type": "code",
   "execution_count": 7,
   "id": "7bc70299-3f85-4c2c-adf0-74af221f491b",
   "metadata": {
    "jupyter": {
     "source_hidden": true
    },
    "tags": []
   },
   "outputs": [],
   "source": [
    "# Checks\n",
    "\n",
    "# prov1_df = db_prov_df_lst[0]\n",
    "# prov1_columns = prov1_df.columns\n",
    "# nrow = prov1_df.shape[0]\n",
    "# for df in db_prov_df_lst[1:]:\n",
    "#     assert (df.columns == prov1_columns).all()\n",
    "#     print(df.shape)\n",
    "#     nrow = nrow + df.shape[0]\n",
    "# nrow"
   ]
  },
  {
   "cell_type": "code",
   "execution_count": 8,
   "id": "4b6c3b22-5519-48ee-8285-ae219cabacaf",
   "metadata": {},
   "outputs": [
    {
     "data": {
      "text/html": [
       "<div>\n",
       "<style scoped>\n",
       "    .dataframe tbody tr th:only-of-type {\n",
       "        vertical-align: middle;\n",
       "    }\n",
       "\n",
       "    .dataframe tbody tr th {\n",
       "        vertical-align: top;\n",
       "    }\n",
       "\n",
       "    .dataframe thead th {\n",
       "        text-align: right;\n",
       "    }\n",
       "</style>\n",
       "<table border=\"1\" class=\"dataframe\">\n",
       "  <thead>\n",
       "    <tr style=\"text-align: right;\">\n",
       "      <th></th>\n",
       "      <th>Type</th>\n",
       "      <th>Code</th>\n",
       "      <th>Name (Khmer)</th>\n",
       "      <th>Name (Latin)</th>\n",
       "      <th>Reference</th>\n",
       "      <th>Official Note</th>\n",
       "      <th>Note (by Checker)</th>\n",
       "    </tr>\n",
       "  </thead>\n",
       "  <tbody>\n",
       "    <tr>\n",
       "      <th>0</th>\n",
       "      <td>Province</td>\n",
       "      <td>1</td>\n",
       "      <td>NaN</td>\n",
       "      <td>Banteay Meanchey</td>\n",
       "      <td>NaN</td>\n",
       "      <td>NaN</td>\n",
       "      <td>NaN</td>\n",
       "    </tr>\n",
       "    <tr>\n",
       "      <th>1</th>\n",
       "      <td>ស្រុក</td>\n",
       "      <td>102</td>\n",
       "      <td>មង្គលបូរី</td>\n",
       "      <td>Mongkol Borei</td>\n",
       "      <td>ប្រកាសលេខ ៤៩៣ប្រ.ក</td>\n",
       "      <td>NaN</td>\n",
       "      <td>NaN</td>\n",
       "    </tr>\n",
       "  </tbody>\n",
       "</table>\n",
       "</div>"
      ],
      "text/plain": [
       "       Type  Code Name (Khmer)      Name (Latin)           Reference  \\\n",
       "0  Province     1          NaN  Banteay Meanchey                 NaN   \n",
       "1     ស្រុក   102    មង្គលបូរី     Mongkol Borei  ប្រកាសលេខ ៤៩៣ប្រ.ក   \n",
       "\n",
       "  Official Note  Note (by Checker)  \n",
       "0           NaN                NaN  \n",
       "1           NaN                NaN  "
      ]
     },
     "execution_count": 8,
     "metadata": {},
     "output_type": "execute_result"
    }
   ],
   "source": [
    "# Insert province info as first row in each sheet df\n",
    "colnames = db_prov_df_lst[0].columns\n",
    "for i, df in enumerate(db_prov_df_lst):\n",
    "    sht_name = sht_name_lst[i]\n",
    "    prov_code = int(sht_name[:2])\n",
    "    prov_name = sht_name[4:]\n",
    "    prov_row = dict(zip(\n",
    "        colnames, ['Province', prov_code, np.nan, prov_name, np.nan, np.nan]\n",
    "    ))\n",
    "    prov_row_df = pd.DataFrame([prov_row])\n",
    "    db_prov_df_lst[i] = pd.concat([prov_row_df, db_prov_df_lst[i]]).reset_index(drop=True)\n",
    "db_prov_df_lst[0].head(2)"
   ]
  },
  {
   "cell_type": "code",
   "execution_count": 9,
   "id": "c7eee5f3-239b-4a24-b844-bd1f5ac554a1",
   "metadata": {},
   "outputs": [],
   "source": [
    "# Stack all dfs vertically\n",
    "db_df = pd.concat(db_prov_df_lst)"
   ]
  },
  {
   "cell_type": "code",
   "execution_count": 10,
   "id": "97537d02",
   "metadata": {},
   "outputs": [],
   "source": [
    "# db_df.to_csv(\n",
    "#     datafd_path / 'other' / 'ncdd_admin_database_25provinces__2023_stacked.csv'\n",
    "# )                        "
   ]
  },
  {
   "cell_type": "markdown",
   "id": "d0077730-8dba-4c9a-b8d4-9c98976e1228",
   "metadata": {
    "tags": []
   },
   "source": [
    "### Checks before transformation"
   ]
  },
  {
   "cell_type": "code",
   "execution_count": 11,
   "id": "c4e3967d-7a63-4e89-ab0f-4e6d6b654da9",
   "metadata": {
    "tags": []
   },
   "outputs": [
    {
     "data": {
      "text/plain": [
       "Type                  object\n",
       "Code                   int64\n",
       "Name (Khmer)          object\n",
       "Name (Latin)          object\n",
       "Reference             object\n",
       "Official Note         object\n",
       "Note (by Checker)    float64\n",
       "dtype: object"
      ]
     },
     "execution_count": 11,
     "metadata": {},
     "output_type": "execute_result"
    }
   ],
   "source": [
    "db_df.dtypes  # Code is int64"
   ]
  },
  {
   "cell_type": "code",
   "execution_count": 12,
   "id": "9dbac909-a85c-4d64-9b8c-5be6a3e5bf0e",
   "metadata": {
    "tags": []
   },
   "outputs": [
    {
     "data": {
      "text/plain": [
       "Type                     0\n",
       "Code                     0\n",
       "Name (Khmer)            25\n",
       "Name (Latin)             0\n",
       "Reference              161\n",
       "Official Note        12753\n",
       "Note (by Checker)    16449\n",
       "dtype: int64"
      ]
     },
     "execution_count": 12,
     "metadata": {},
     "output_type": "execute_result"
    }
   ],
   "source": [
    "db_df.isna().sum()  # First 4 columns have no unexpected missing values\n",
    "# Note (by Checker) all missing"
   ]
  },
  {
   "cell_type": "code",
   "execution_count": 13,
   "id": "3714ef7a-6cf1-4208-b1f2-a9417e4d9b14",
   "metadata": {
    "tags": []
   },
   "outputs": [
    {
     "data": {
      "text/plain": [
       "array(['Province', 'ស្រុក', 'ឃុំ', 'ភូមិ', 'ក្រុង', 'សង្កាត់', 'ខណ្ឌ'],\n",
       "      dtype=object)"
      ]
     },
     "execution_count": 13,
     "metadata": {},
     "output_type": "execute_result"
    }
   ],
   "source": [
    "db_df.Type.unique()\n",
    "# Province, District, Commune, Village, Capital District, Special Commune, Special District"
   ]
  },
  {
   "cell_type": "code",
   "execution_count": 14,
   "id": "9cdcdff6-5795-4ce7-b9e8-16158dbb26a4",
   "metadata": {
    "tags": []
   },
   "outputs": [
    {
     "data": {
      "text/plain": [
       "{'Province': 'Lengths: [1 2]',\n",
       " 'ក្រុង': 'Lengths: [3 4]',\n",
       " 'ខណ្ឌ': 'Lengths: [4]',\n",
       " 'ឃុំ': 'Lengths: [5 6]',\n",
       " 'ភូមិ': 'Lengths: [7 8]',\n",
       " 'សង្កាត់': 'Lengths: [5 6]',\n",
       " 'ស្រុក': 'Lengths: [3 4]'}"
      ]
     },
     "execution_count": 14,
     "metadata": {},
     "output_type": "execute_result"
    }
   ],
   "source": [
    "# Code lengths are as expected\n",
    "\n",
    "# Let's analyze the format of the 'Code' column for each 'Type'\n",
    "code_formats = db_df.groupby('Type')['Code'].apply(lambda x: x.astype(str).apply(len).unique())\n",
    "code_formats_dict = code_formats.to_dict()\n",
    "\n",
    "# Summarizing the formats for each type\n",
    "code_format_summary = {type_: f\"Lengths: {lengths}\" for type_, lengths in code_formats_dict.items()}\n",
    "code_format_summary"
   ]
  },
  {
   "cell_type": "code",
   "execution_count": 15,
   "id": "289e4d08-7a97-49cd-b74d-efa0c319e927",
   "metadata": {
    "tags": []
   },
   "outputs": [
    {
     "data": {
      "text/plain": [
       "1.0"
      ]
     },
     "execution_count": 15,
     "metadata": {},
     "output_type": "execute_result"
    }
   ],
   "source": [
    "# To confirm the proposed code structure \"PPDDCCVV\" in the dataset, we will analyze the codes of each type.\n",
    "# We expect the following:\n",
    "# - Province codes to be 1 or 2 digits (P or PP).\n",
    "# - District codes to be 3 or 4 digits (PDD or PPDD) with DD between 0 and 20.\n",
    "# - Commune codes to be 5 or 6 digits (PPDDCC or PDDCC) with CC between 0 and 30.\n",
    "# - Village codes to be 7 or 8 digits (PPDDCCVV or PDDCCVV) with VV between 0 and 35.\n",
    "\n",
    "# Apply the check to the dataset\n",
    "code_structure_check = db_df.apply(lambda x: check_code_structure(x['Code'], x['Type']), axis=1)\n",
    "\n",
    "# Calculate the proportion of rows that match the expected pattern\n",
    "matching_pattern_proportion = code_structure_check.mean()\n",
    "\n",
    "matching_pattern_proportion"
   ]
  },
  {
   "cell_type": "code",
   "execution_count": 16,
   "id": "725511de-6fa5-44fb-a810-06e2d58802ec",
   "metadata": {},
   "outputs": [
    {
     "data": {
      "text/plain": [
       "False"
      ]
     },
     "execution_count": 16,
     "metadata": {},
     "output_type": "execute_result"
    }
   ],
   "source": [
    "db_df.Code.duplicated().any()  # No duplicate code"
   ]
  },
  {
   "cell_type": "markdown",
   "id": "c92f6751-f253-43c0-9839-da2548ba76f6",
   "metadata": {},
   "source": [
    "### Transformation"
   ]
  },
  {
   "cell_type": "markdown",
   "id": "7d5fab61-04c1-4d70-a796-4ad5b4584297",
   "metadata": {},
   "source": [
    "Goal: Create a dataset where each row represents a village with details on its associated commune, district, and province (including code, Latin name, reference, official note).\n",
    "\n",
    "Method: we will traverse the stacked `db_df` by row. As we identify each village, we'll add a new row to our new dataset, including info about the village and its province, district, and commune."
   ]
  },
  {
   "cell_type": "code",
   "execution_count": 17,
   "id": "996997f5-1230-4218-b487-ca892f88fb3c",
   "metadata": {
    "tags": []
   },
   "outputs": [
    {
     "data": {
      "text/html": [
       "<div>\n",
       "<style scoped>\n",
       "    .dataframe tbody tr th:only-of-type {\n",
       "        vertical-align: middle;\n",
       "    }\n",
       "\n",
       "    .dataframe tbody tr th {\n",
       "        vertical-align: top;\n",
       "    }\n",
       "\n",
       "    .dataframe thead th {\n",
       "        text-align: right;\n",
       "    }\n",
       "</style>\n",
       "<table border=\"1\" class=\"dataframe\">\n",
       "  <thead>\n",
       "    <tr style=\"text-align: right;\">\n",
       "      <th></th>\n",
       "      <th>Village Code</th>\n",
       "      <th>Village Name</th>\n",
       "      <th>Village Reference</th>\n",
       "      <th>Village Note</th>\n",
       "      <th>Province Code</th>\n",
       "      <th>Province Name</th>\n",
       "      <th>Province Reference</th>\n",
       "      <th>Province Note</th>\n",
       "      <th>District Code</th>\n",
       "      <th>District Name</th>\n",
       "      <th>District Reference</th>\n",
       "      <th>District Note</th>\n",
       "      <th>Commune Code</th>\n",
       "      <th>Commune Name</th>\n",
       "      <th>Commune Reference</th>\n",
       "      <th>Commune Note</th>\n",
       "    </tr>\n",
       "  </thead>\n",
       "  <tbody>\n",
       "    <tr>\n",
       "      <th>0</th>\n",
       "      <td>1020101</td>\n",
       "      <td>Ou Thum</td>\n",
       "      <td>ប្រកាសលេខ ៤៩៣ ប្រ.ក</td>\n",
       "      <td>NaN</td>\n",
       "      <td>1</td>\n",
       "      <td>Banteay Meanchey</td>\n",
       "      <td>NaN</td>\n",
       "      <td>NaN</td>\n",
       "      <td>102</td>\n",
       "      <td>Mongkol Borei</td>\n",
       "      <td>ប្រកាសលេខ ៤៩៣ប្រ.ក</td>\n",
       "      <td>NaN</td>\n",
       "      <td>10201</td>\n",
       "      <td>Banteay Neang</td>\n",
       "      <td>ប្រកាសលេខ ៤៩៣ ប្រ.ក</td>\n",
       "      <td>NaN</td>\n",
       "    </tr>\n",
       "    <tr>\n",
       "      <th>1</th>\n",
       "      <td>1020102</td>\n",
       "      <td>Phnum</td>\n",
       "      <td>ប្រកាសលេខ ៤៩៣ ប្រ.ក</td>\n",
       "      <td>NaN</td>\n",
       "      <td>1</td>\n",
       "      <td>Banteay Meanchey</td>\n",
       "      <td>NaN</td>\n",
       "      <td>NaN</td>\n",
       "      <td>102</td>\n",
       "      <td>Mongkol Borei</td>\n",
       "      <td>ប្រកាសលេខ ៤៩៣ប្រ.ក</td>\n",
       "      <td>NaN</td>\n",
       "      <td>10201</td>\n",
       "      <td>Banteay Neang</td>\n",
       "      <td>ប្រកាសលេខ ៤៩៣ ប្រ.ក</td>\n",
       "      <td>NaN</td>\n",
       "    </tr>\n",
       "    <tr>\n",
       "      <th>2</th>\n",
       "      <td>1020103</td>\n",
       "      <td>Banteay Neang</td>\n",
       "      <td>ប្រកាសលេខ ៤៩៣ ប្រ.ក</td>\n",
       "      <td>NaN</td>\n",
       "      <td>1</td>\n",
       "      <td>Banteay Meanchey</td>\n",
       "      <td>NaN</td>\n",
       "      <td>NaN</td>\n",
       "      <td>102</td>\n",
       "      <td>Mongkol Borei</td>\n",
       "      <td>ប្រកាសលេខ ៤៩៣ប្រ.ក</td>\n",
       "      <td>NaN</td>\n",
       "      <td>10201</td>\n",
       "      <td>Banteay Neang</td>\n",
       "      <td>ប្រកាសលេខ ៤៩៣ ប្រ.ក</td>\n",
       "      <td>NaN</td>\n",
       "    </tr>\n",
       "    <tr>\n",
       "      <th>3</th>\n",
       "      <td>1020104</td>\n",
       "      <td>Kouk Pnov</td>\n",
       "      <td>ប្រកាសលេខ ៤៩៣ ប្រ.ក</td>\n",
       "      <td>NaN</td>\n",
       "      <td>1</td>\n",
       "      <td>Banteay Meanchey</td>\n",
       "      <td>NaN</td>\n",
       "      <td>NaN</td>\n",
       "      <td>102</td>\n",
       "      <td>Mongkol Borei</td>\n",
       "      <td>ប្រកាសលេខ ៤៩៣ប្រ.ក</td>\n",
       "      <td>NaN</td>\n",
       "      <td>10201</td>\n",
       "      <td>Banteay Neang</td>\n",
       "      <td>ប្រកាសលេខ ៤៩៣ ប្រ.ក</td>\n",
       "      <td>NaN</td>\n",
       "    </tr>\n",
       "    <tr>\n",
       "      <th>4</th>\n",
       "      <td>1020105</td>\n",
       "      <td>Trang</td>\n",
       "      <td>ប្រកាសលេខ ៤៩៣ ប្រ.ក</td>\n",
       "      <td>NaN</td>\n",
       "      <td>1</td>\n",
       "      <td>Banteay Meanchey</td>\n",
       "      <td>NaN</td>\n",
       "      <td>NaN</td>\n",
       "      <td>102</td>\n",
       "      <td>Mongkol Borei</td>\n",
       "      <td>ប្រកាសលេខ ៤៩៣ប្រ.ក</td>\n",
       "      <td>NaN</td>\n",
       "      <td>10201</td>\n",
       "      <td>Banteay Neang</td>\n",
       "      <td>ប្រកាសលេខ ៤៩៣ ប្រ.ក</td>\n",
       "      <td>NaN</td>\n",
       "    </tr>\n",
       "  </tbody>\n",
       "</table>\n",
       "</div>"
      ],
      "text/plain": [
       "   Village Code   Village Name    Village Reference Village Note  \\\n",
       "0       1020101        Ou Thum  ប្រកាសលេខ ៤៩៣ ប្រ.ក          NaN   \n",
       "1       1020102          Phnum  ប្រកាសលេខ ៤៩៣ ប្រ.ក          NaN   \n",
       "2       1020103  Banteay Neang  ប្រកាសលេខ ៤៩៣ ប្រ.ក          NaN   \n",
       "3       1020104      Kouk Pnov  ប្រកាសលេខ ៤៩៣ ប្រ.ក          NaN   \n",
       "4       1020105          Trang  ប្រកាសលេខ ៤៩៣ ប្រ.ក          NaN   \n",
       "\n",
       "   Province Code     Province Name  Province Reference  Province Note  \\\n",
       "0              1  Banteay Meanchey                 NaN            NaN   \n",
       "1              1  Banteay Meanchey                 NaN            NaN   \n",
       "2              1  Banteay Meanchey                 NaN            NaN   \n",
       "3              1  Banteay Meanchey                 NaN            NaN   \n",
       "4              1  Banteay Meanchey                 NaN            NaN   \n",
       "\n",
       "   District Code  District Name  District Reference District Note  \\\n",
       "0            102  Mongkol Borei  ប្រកាសលេខ ៤៩៣ប្រ.ក           NaN   \n",
       "1            102  Mongkol Borei  ប្រកាសលេខ ៤៩៣ប្រ.ក           NaN   \n",
       "2            102  Mongkol Borei  ប្រកាសលេខ ៤៩៣ប្រ.ក           NaN   \n",
       "3            102  Mongkol Borei  ប្រកាសលេខ ៤៩៣ប្រ.ក           NaN   \n",
       "4            102  Mongkol Borei  ប្រកាសលេខ ៤៩៣ប្រ.ក           NaN   \n",
       "\n",
       "   Commune Code   Commune Name    Commune Reference Commune Note  \n",
       "0         10201  Banteay Neang  ប្រកាសលេខ ៤៩៣ ប្រ.ក          NaN  \n",
       "1         10201  Banteay Neang  ប្រកាសលេខ ៤៩៣ ប្រ.ក          NaN  \n",
       "2         10201  Banteay Neang  ប្រកាសលេខ ៤៩៣ ប្រ.ក          NaN  \n",
       "3         10201  Banteay Neang  ប្រកាសលេខ ៤៩៣ ប្រ.ក          NaN  \n",
       "4         10201  Banteay Neang  ប្រកាសលេខ ៤៩៣ ប្រ.ក          NaN  "
      ]
     },
     "execution_count": 17,
     "metadata": {},
     "output_type": "execute_result"
    }
   ],
   "source": [
    "village_data = []\n",
    "\n",
    "# Iterating through the rows in the dataset\n",
    "for index, row in db_df.iterrows():\n",
    "    if row['Type'] == 'Province':\n",
    "        current_province_code = row['Code']\n",
    "        current_province_name = row['Name (Latin)']\n",
    "        current_province_ref = row['Reference']\n",
    "        current_province_note = row['Official Note']\n",
    "    elif row['Type'] in ['ស្រុក', 'ក្រុង', 'ខណ្ឌ']:  # District or equivalent\n",
    "        current_district_code = row['Code']\n",
    "        current_district_name = row['Name (Latin)']\n",
    "        current_district_ref = row['Reference']\n",
    "        current_district_note = row['Official Note']\n",
    "        assert str(current_district_code)[:-2] == str(current_province_code)\n",
    "    elif row['Type'] in ['ឃុំ', 'សង្កាត់']:  # Commune or equivalent\n",
    "        current_commune_code = row['Code']\n",
    "        current_commune_name = row['Name (Latin)']\n",
    "        current_commune_ref = row['Reference']\n",
    "        current_commune_note = row['Official Note']\n",
    "        assert str(current_commune_code)[:-2] == str(current_district_code)\n",
    "    elif row['Type'] == 'ភូមិ':  # Village\n",
    "        village_info = {\n",
    "            'Village Code': row['Code'],\n",
    "            'Village Name': row['Name (Latin)'],\n",
    "            'Village Reference': row['Reference'],\n",
    "            'Village Note': row['Official Note'],\n",
    "            'Province Code': current_province_code,\n",
    "            'Province Name': current_province_name,\n",
    "            'Province Reference': current_province_ref,\n",
    "            'Province Note': current_province_note,\n",
    "            'District Code': current_district_code,\n",
    "            'District Name': current_district_name,\n",
    "            'District Reference': current_district_ref,\n",
    "            'District Note': current_district_note,\n",
    "            'Commune Code': current_commune_code,\n",
    "            'Commune Name': current_commune_name,\n",
    "            'Commune Reference': current_commune_ref,\n",
    "            'Commune Note': current_commune_note\n",
    "        }\n",
    "        assert str(village_info['Village Code'])[:-2] == str(current_commune_code)\n",
    "        village_data.append(village_info)\n",
    "    else:\n",
    "        print('error')\n",
    "\n",
    "# Creating the DataFrame from the list\n",
    "village_data = pd.DataFrame(village_data)\n",
    "village_data.head()"
   ]
  },
  {
   "cell_type": "code",
   "execution_count": 18,
   "id": "026053ff-2ac5-41da-9a22-e5e3839c40cd",
   "metadata": {},
   "outputs": [],
   "source": [
    "# village_data.to_csv(\n",
    "#     intmd_outfd_path / 'ncdd_admin_database_25provinces__2023_wide_en.csv'\n",
    "# )   "
   ]
  },
  {
   "cell_type": "code",
   "execution_count": null,
   "id": "68a8e2b5-5960-49cf-86a3-cbb5d0d3daa9",
   "metadata": {},
   "outputs": [],
   "source": []
  }
 ],
 "metadata": {
  "kernelspec": {
   "display_name": "Python 3 (ipykernel)",
   "language": "python",
   "name": "python3"
  },
  "language_info": {
   "codemirror_mode": {
    "name": "ipython",
    "version": 3
   },
   "file_extension": ".py",
   "mimetype": "text/x-python",
   "name": "python",
   "nbconvert_exporter": "python",
   "pygments_lexer": "ipython3",
   "version": "3.10.11"
  }
 },
 "nbformat": 4,
 "nbformat_minor": 5
}
