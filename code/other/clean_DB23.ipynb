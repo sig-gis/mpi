{
 "cells": [
  {
   "cell_type": "markdown",
   "id": "416fc45f",
   "metadata": {},
   "source": [
    "This notebook cleans DB23 (`ncdd_admin_database_25provinces__2023.xlsx` from Lok on 20231212), processing it into a ready-for-analysis format. "
   ]
  },
  {
   "cell_type": "code",
   "execution_count": 1,
   "id": "60ecda16-a91f-408f-8d2d-620bf53254e3",
   "metadata": {},
   "outputs": [],
   "source": [
    "import pandas as pd\n",
    "import numpy as np\n",
    "from pathlib import Path\n",
    "from itables import show"
   ]
  },
  {
   "cell_type": "code",
   "execution_count": 2,
   "id": "c341313c-17e0-4e11-ab11-252bcd5ca265",
   "metadata": {},
   "outputs": [],
   "source": [
    "%load_ext autoreload\n",
    "%autoreload 2"
   ]
  },
  {
   "cell_type": "code",
   "execution_count": 3,
   "id": "9640f6c7-443a-41f7-996a-b1d7849e4dc4",
   "metadata": {},
   "outputs": [],
   "source": [
    "from utils.clean_DB23 import *"
   ]
  },
  {
   "cell_type": "code",
   "execution_count": 4,
   "id": "d93e8b49-f08f-4feb-8e45-5f8872304f4d",
   "metadata": {},
   "outputs": [],
   "source": [
    "# paths\n",
    "code_path = Path().absolute()\n",
    "datafd_path = code_path.parent.parent / 'data'\n",
    "intmd_outfd_path = code_path.parent.parent / 'output_intmd' / 'match_CF_DB23'"
   ]
  },
  {
   "cell_type": "markdown",
   "id": "b4e630ab-0627-4d61-a823-e986eeac98de",
   "metadata": {},
   "source": [
    "## Initial processing of DB23"
   ]
  },
  {
   "cell_type": "markdown",
   "id": "998075b8-7a9a-4178-bbd0-f2d619874d40",
   "metadata": {},
   "source": [
    "### Read in DB23 and stack all sheets vertically into `db_df`"
   ]
  },
  {
   "cell_type": "code",
   "execution_count": 5,
   "id": "125c48ba-7f42-4638-b476-062f16922dfc",
   "metadata": {},
   "outputs": [],
   "source": [
    "DB23_path = datafd_path / 'other' / 'ncdd_admin_database_25provinces__2023.xlsx'\n",
    "DB23_df_dic = pd.read_excel(DB23_path, sheet_name=None, header=2)  \n",
    "# all sheets, key=sheet name, skip first 2 rows, make row 3 header"
   ]
  },
  {
   "cell_type": "code",
   "execution_count": 6,
   "id": "9977bde3-402f-496c-ad44-bf23c9164680",
   "metadata": {},
   "outputs": [],
   "source": [
    "sht_name_lst = list(DB23_df_dic.keys())\n",
    "db_prov_df_lst = [DB23_df_dic[sht] for sht in sht_name_lst]"
   ]
  },
  {
   "cell_type": "code",
   "execution_count": 7,
   "id": "7bc70299-3f85-4c2c-adf0-74af221f491b",
   "metadata": {
    "jupyter": {
     "source_hidden": true
    },
    "tags": []
   },
   "outputs": [],
   "source": [
    "# prov1_df = db_prov_df_lst[0]\n",
    "# prov1_columns = prov1_df.columns\n",
    "# nrow = prov1_df.shape[0]\n",
    "# for df in db_prov_df_lst[1:]:\n",
    "#     assert (df.columns == prov1_columns).all()\n",
    "#     print(df.shape)\n",
    "#     nrow = nrow + df.shape[0]\n",
    "# nrow"
   ]
  },
  {
   "cell_type": "code",
   "execution_count": 8,
   "id": "4b6c3b22-5519-48ee-8285-ae219cabacaf",
   "metadata": {},
   "outputs": [],
   "source": [
    "# Insert province info as first row\n",
    "colnames = db_prov_df_lst[0].columns\n",
    "for i, df in enumerate(db_prov_df_lst):\n",
    "    sht_name = sht_name_lst[i]\n",
    "    prov_code = int(sht_name[:2])\n",
    "    prov_name = sht_name[4:]\n",
    "    prov_row = dict(zip(\n",
    "        colnames, ['Province', prov_code, np.nan, prov_name, np.nan, np.nan]\n",
    "    ))\n",
    "    prov_row_df = pd.DataFrame([prov_row])\n",
    "    db_prov_df_lst[i] = pd.concat([prov_row_df, db_prov_df_lst[i]]).reset_index(drop=True)"
   ]
  },
  {
   "cell_type": "code",
   "execution_count": 9,
   "id": "3e475ae2-4d8b-4f85-9e92-44596bf1ec55",
   "metadata": {},
   "outputs": [
    {
     "data": {
      "text/html": [
       "<div>\n",
       "<style scoped>\n",
       "    .dataframe tbody tr th:only-of-type {\n",
       "        vertical-align: middle;\n",
       "    }\n",
       "\n",
       "    .dataframe tbody tr th {\n",
       "        vertical-align: top;\n",
       "    }\n",
       "\n",
       "    .dataframe thead th {\n",
       "        text-align: right;\n",
       "    }\n",
       "</style>\n",
       "<table border=\"1\" class=\"dataframe\">\n",
       "  <thead>\n",
       "    <tr style=\"text-align: right;\">\n",
       "      <th></th>\n",
       "      <th>Type</th>\n",
       "      <th>Code</th>\n",
       "      <th>Name (Khmer)</th>\n",
       "      <th>Name (Latin)</th>\n",
       "      <th>Reference</th>\n",
       "      <th>Official Note</th>\n",
       "      <th>Note (by Checker)</th>\n",
       "    </tr>\n",
       "  </thead>\n",
       "  <tbody>\n",
       "    <tr>\n",
       "      <th>0</th>\n",
       "      <td>Province</td>\n",
       "      <td>1</td>\n",
       "      <td>NaN</td>\n",
       "      <td>Banteay Meanchey</td>\n",
       "      <td>NaN</td>\n",
       "      <td>NaN</td>\n",
       "      <td>NaN</td>\n",
       "    </tr>\n",
       "    <tr>\n",
       "      <th>1</th>\n",
       "      <td>ស្រុក</td>\n",
       "      <td>102</td>\n",
       "      <td>មង្គលបូរី</td>\n",
       "      <td>Mongkol Borei</td>\n",
       "      <td>ប្រកាសលេខ ៤៩៣ប្រ.ក</td>\n",
       "      <td>NaN</td>\n",
       "      <td>NaN</td>\n",
       "    </tr>\n",
       "  </tbody>\n",
       "</table>\n",
       "</div>"
      ],
      "text/plain": [
       "       Type  Code Name (Khmer)      Name (Latin)           Reference  \\\n",
       "0  Province     1          NaN  Banteay Meanchey                 NaN   \n",
       "1     ស្រុក   102    មង្គលបូរី     Mongkol Borei  ប្រកាសលេខ ៤៩៣ប្រ.ក   \n",
       "\n",
       "  Official Note  Note (by Checker)  \n",
       "0           NaN                NaN  \n",
       "1           NaN                NaN  "
      ]
     },
     "execution_count": 9,
     "metadata": {},
     "output_type": "execute_result"
    }
   ],
   "source": [
    "db_prov_df_lst[0].head(2)"
   ]
  },
  {
   "cell_type": "code",
   "execution_count": 10,
   "id": "c7eee5f3-239b-4a24-b844-bd1f5ac554a1",
   "metadata": {},
   "outputs": [],
   "source": [
    "db_df = pd.concat(db_prov_df_lst)"
   ]
  },
  {
   "cell_type": "code",
   "execution_count": 11,
   "id": "97537d02",
   "metadata": {},
   "outputs": [
    {
     "ename": "PermissionError",
     "evalue": "[Errno 13] Permission denied: 'C:\\\\Users\\\\tianc\\\\OneDrive\\\\Documents\\\\SIG\\\\DISES\\\\data\\\\other\\\\ncdd_admin_database_25provinces__2023_stacked.csv'",
     "output_type": "error",
     "traceback": [
      "\u001b[1;31m---------------------------------------------------------------------------\u001b[0m",
      "\u001b[1;31mPermissionError\u001b[0m                           Traceback (most recent call last)",
      "\u001b[1;32m~\\AppData\\Local\\Temp\\ipykernel_20488\\1340266355.py\u001b[0m in \u001b[0;36m<module>\u001b[1;34m\u001b[0m\n\u001b[1;32m----> 1\u001b[1;33m db_df.to_csv(\n\u001b[0m\u001b[0;32m      2\u001b[0m     \u001b[0mdatafd_path\u001b[0m \u001b[1;33m/\u001b[0m \u001b[1;34m'other'\u001b[0m \u001b[1;33m/\u001b[0m \u001b[1;34m'ncdd_admin_database_25provinces__2023_stacked.csv'\u001b[0m\u001b[1;33m\u001b[0m\u001b[1;33m\u001b[0m\u001b[0m\n\u001b[0;32m      3\u001b[0m )                        \n",
      "\u001b[1;32m~\\anaconda3\\envs\\DISES\\lib\\site-packages\\pandas\\core\\generic.py\u001b[0m in \u001b[0;36mto_csv\u001b[1;34m(self, path_or_buf, sep, na_rep, float_format, columns, header, index, index_label, mode, encoding, compression, quoting, quotechar, line_terminator, chunksize, date_format, doublequote, escapechar, decimal, errors, storage_options)\u001b[0m\n\u001b[0;32m   3549\u001b[0m         )\n\u001b[0;32m   3550\u001b[0m \u001b[1;33m\u001b[0m\u001b[0m\n\u001b[1;32m-> 3551\u001b[1;33m         return DataFrameRenderer(formatter).to_csv(\n\u001b[0m\u001b[0;32m   3552\u001b[0m             \u001b[0mpath_or_buf\u001b[0m\u001b[1;33m,\u001b[0m\u001b[1;33m\u001b[0m\u001b[1;33m\u001b[0m\u001b[0m\n\u001b[0;32m   3553\u001b[0m             \u001b[0mline_terminator\u001b[0m\u001b[1;33m=\u001b[0m\u001b[0mline_terminator\u001b[0m\u001b[1;33m,\u001b[0m\u001b[1;33m\u001b[0m\u001b[1;33m\u001b[0m\u001b[0m\n",
      "\u001b[1;32m~\\anaconda3\\envs\\DISES\\lib\\site-packages\\pandas\\io\\formats\\format.py\u001b[0m in \u001b[0;36mto_csv\u001b[1;34m(self, path_or_buf, encoding, sep, columns, index_label, mode, compression, quoting, quotechar, line_terminator, chunksize, date_format, doublequote, escapechar, errors, storage_options)\u001b[0m\n\u001b[0;32m   1178\u001b[0m             \u001b[0mformatter\u001b[0m\u001b[1;33m=\u001b[0m\u001b[0mself\u001b[0m\u001b[1;33m.\u001b[0m\u001b[0mfmt\u001b[0m\u001b[1;33m,\u001b[0m\u001b[1;33m\u001b[0m\u001b[1;33m\u001b[0m\u001b[0m\n\u001b[0;32m   1179\u001b[0m         )\n\u001b[1;32m-> 1180\u001b[1;33m         \u001b[0mcsv_formatter\u001b[0m\u001b[1;33m.\u001b[0m\u001b[0msave\u001b[0m\u001b[1;33m(\u001b[0m\u001b[1;33m)\u001b[0m\u001b[1;33m\u001b[0m\u001b[1;33m\u001b[0m\u001b[0m\n\u001b[0m\u001b[0;32m   1181\u001b[0m \u001b[1;33m\u001b[0m\u001b[0m\n\u001b[0;32m   1182\u001b[0m         \u001b[1;32mif\u001b[0m \u001b[0mcreated_buffer\u001b[0m\u001b[1;33m:\u001b[0m\u001b[1;33m\u001b[0m\u001b[1;33m\u001b[0m\u001b[0m\n",
      "\u001b[1;32m~\\anaconda3\\envs\\DISES\\lib\\site-packages\\pandas\\io\\formats\\csvs.py\u001b[0m in \u001b[0;36msave\u001b[1;34m(self)\u001b[0m\n\u001b[0;32m    239\u001b[0m         \"\"\"\n\u001b[0;32m    240\u001b[0m         \u001b[1;31m# apply compression and byte/text conversion\u001b[0m\u001b[1;33m\u001b[0m\u001b[1;33m\u001b[0m\u001b[0m\n\u001b[1;32m--> 241\u001b[1;33m         with get_handle(\n\u001b[0m\u001b[0;32m    242\u001b[0m             \u001b[0mself\u001b[0m\u001b[1;33m.\u001b[0m\u001b[0mfilepath_or_buffer\u001b[0m\u001b[1;33m,\u001b[0m\u001b[1;33m\u001b[0m\u001b[1;33m\u001b[0m\u001b[0m\n\u001b[0;32m    243\u001b[0m             \u001b[0mself\u001b[0m\u001b[1;33m.\u001b[0m\u001b[0mmode\u001b[0m\u001b[1;33m,\u001b[0m\u001b[1;33m\u001b[0m\u001b[1;33m\u001b[0m\u001b[0m\n",
      "\u001b[1;32m~\\anaconda3\\envs\\DISES\\lib\\site-packages\\pandas\\io\\common.py\u001b[0m in \u001b[0;36mget_handle\u001b[1;34m(path_or_buf, mode, encoding, compression, memory_map, is_text, errors, storage_options)\u001b[0m\n\u001b[0;32m    784\u001b[0m         \u001b[1;32mif\u001b[0m \u001b[0mioargs\u001b[0m\u001b[1;33m.\u001b[0m\u001b[0mencoding\u001b[0m \u001b[1;32mand\u001b[0m \u001b[1;34m\"b\"\u001b[0m \u001b[1;32mnot\u001b[0m \u001b[1;32min\u001b[0m \u001b[0mioargs\u001b[0m\u001b[1;33m.\u001b[0m\u001b[0mmode\u001b[0m\u001b[1;33m:\u001b[0m\u001b[1;33m\u001b[0m\u001b[1;33m\u001b[0m\u001b[0m\n\u001b[0;32m    785\u001b[0m             \u001b[1;31m# Encoding\u001b[0m\u001b[1;33m\u001b[0m\u001b[1;33m\u001b[0m\u001b[0m\n\u001b[1;32m--> 786\u001b[1;33m             handle = open(\n\u001b[0m\u001b[0;32m    787\u001b[0m                 \u001b[0mhandle\u001b[0m\u001b[1;33m,\u001b[0m\u001b[1;33m\u001b[0m\u001b[1;33m\u001b[0m\u001b[0m\n\u001b[0;32m    788\u001b[0m                 \u001b[0mioargs\u001b[0m\u001b[1;33m.\u001b[0m\u001b[0mmode\u001b[0m\u001b[1;33m,\u001b[0m\u001b[1;33m\u001b[0m\u001b[1;33m\u001b[0m\u001b[0m\n",
      "\u001b[1;31mPermissionError\u001b[0m: [Errno 13] Permission denied: 'C:\\\\Users\\\\tianc\\\\OneDrive\\\\Documents\\\\SIG\\\\DISES\\\\data\\\\other\\\\ncdd_admin_database_25provinces__2023_stacked.csv'"
     ]
    }
   ],
   "source": [
    "db_df.to_csv(\n",
    "    datafd_path / 'other' / 'ncdd_admin_database_25provinces__2023_stacked.csv'\n",
    ")                        "
   ]
  },
  {
   "cell_type": "code",
   "execution_count": null,
   "id": "c4e3967d-7a63-4e89-ab0f-4e6d6b654da9",
   "metadata": {},
   "outputs": [],
   "source": []
  },
  {
   "cell_type": "code",
   "execution_count": 44,
   "id": "370ec04a-72bf-456e-a968-5abd3ddaa07e",
   "metadata": {},
   "outputs": [],
   "source": [
    "# Initializing lists to hold the transformed data\n",
    "province_names = []\n",
    "province_codes = []\n",
    "district_names = []\n",
    "district_codes = []\n",
    "commune_names = []\n",
    "commune_codes = []\n",
    "village_rows = []\n",
    "\n",
    "# Iterating through each row to transform the data\n",
    "for index, row in db_df.iterrows():\n",
    "    if row['Type'] == 'Province':\n",
    "        current_province = row['Name (Latin)']\n",
    "        current_province_code = row['Code']\n",
    "    elif row['Type'] == 'ស្រុក':  # Assuming this means 'District'\n",
    "        current_district = row['Name (Latin)']\n",
    "        current_district_code = row['Code']\n",
    "    elif row['Type'] == 'ឃុំ':  # Assuming this means 'Commune'\n",
    "        current_commune = row['Name (Latin)']\n",
    "        current_commune_code = row['Code']\n",
    "    elif row['Type'] == 'ភូមិ':  # Assuming this means 'Village'\n",
    "        # Append current province, district, and commune information\n",
    "        province_names.append(current_province)\n",
    "        province_codes.append(current_province_code)\n",
    "        district_names.append(current_district)\n",
    "        district_codes.append(current_district_code)\n",
    "        commune_names.append(current_commune)\n",
    "        commune_codes.append(current_commune_code)\n",
    "        village_rows.append(row)\n",
    "    else:\n",
    "        print(f'row {index} has unexpected Type')"
   ]
  },
  {
   "cell_type": "code",
   "execution_count": 45,
   "id": "f514ae4e-662c-4736-b3d3-da0b6cfe69d9",
   "metadata": {},
   "outputs": [
    {
     "data": {
      "text/html": [
       "<div>\n",
       "<style scoped>\n",
       "    .dataframe tbody tr th:only-of-type {\n",
       "        vertical-align: middle;\n",
       "    }\n",
       "\n",
       "    .dataframe tbody tr th {\n",
       "        vertical-align: top;\n",
       "    }\n",
       "\n",
       "    .dataframe thead th {\n",
       "        text-align: right;\n",
       "    }\n",
       "</style>\n",
       "<table border=\"1\" class=\"dataframe\">\n",
       "  <thead>\n",
       "    <tr style=\"text-align: right;\">\n",
       "      <th></th>\n",
       "      <th>Type</th>\n",
       "      <th>Code</th>\n",
       "      <th>Name (Khmer)</th>\n",
       "      <th>Name (Latin)</th>\n",
       "      <th>Reference</th>\n",
       "      <th>Official Note</th>\n",
       "      <th>Note (by Checker)</th>\n",
       "      <th>Province</th>\n",
       "      <th>Province Code</th>\n",
       "      <th>District</th>\n",
       "      <th>District Code</th>\n",
       "      <th>Commune</th>\n",
       "      <th>Commune Code</th>\n",
       "    </tr>\n",
       "  </thead>\n",
       "  <tbody>\n",
       "    <tr>\n",
       "      <th>0</th>\n",
       "      <td>ភូមិ</td>\n",
       "      <td>1020101</td>\n",
       "      <td>អូរធំ</td>\n",
       "      <td>Ou Thum</td>\n",
       "      <td>ប្រកាសលេខ ៤៩៣ ប្រ.ក</td>\n",
       "      <td>NaN</td>\n",
       "      <td>NaN</td>\n",
       "      <td>Banteay Meanchey</td>\n",
       "      <td>1</td>\n",
       "      <td>Mongkol Borei</td>\n",
       "      <td>102</td>\n",
       "      <td>Banteay Neang</td>\n",
       "      <td>10201</td>\n",
       "    </tr>\n",
       "    <tr>\n",
       "      <th>1</th>\n",
       "      <td>ភូមិ</td>\n",
       "      <td>1020102</td>\n",
       "      <td>ភ្នំ</td>\n",
       "      <td>Phnum</td>\n",
       "      <td>ប្រកាសលេខ ៤៩៣ ប្រ.ក</td>\n",
       "      <td>NaN</td>\n",
       "      <td>NaN</td>\n",
       "      <td>Banteay Meanchey</td>\n",
       "      <td>1</td>\n",
       "      <td>Mongkol Borei</td>\n",
       "      <td>102</td>\n",
       "      <td>Banteay Neang</td>\n",
       "      <td>10201</td>\n",
       "    </tr>\n",
       "    <tr>\n",
       "      <th>2</th>\n",
       "      <td>ភូមិ</td>\n",
       "      <td>1020103</td>\n",
       "      <td>បន្ទាយនាង</td>\n",
       "      <td>Banteay Neang</td>\n",
       "      <td>ប្រកាសលេខ ៤៩៣ ប្រ.ក</td>\n",
       "      <td>NaN</td>\n",
       "      <td>NaN</td>\n",
       "      <td>Banteay Meanchey</td>\n",
       "      <td>1</td>\n",
       "      <td>Mongkol Borei</td>\n",
       "      <td>102</td>\n",
       "      <td>Banteay Neang</td>\n",
       "      <td>10201</td>\n",
       "    </tr>\n",
       "    <tr>\n",
       "      <th>3</th>\n",
       "      <td>ភូមិ</td>\n",
       "      <td>1020104</td>\n",
       "      <td>គោកព្នៅ</td>\n",
       "      <td>Kouk Pnov</td>\n",
       "      <td>ប្រកាសលេខ ៤៩៣ ប្រ.ក</td>\n",
       "      <td>NaN</td>\n",
       "      <td>NaN</td>\n",
       "      <td>Banteay Meanchey</td>\n",
       "      <td>1</td>\n",
       "      <td>Mongkol Borei</td>\n",
       "      <td>102</td>\n",
       "      <td>Banteay Neang</td>\n",
       "      <td>10201</td>\n",
       "    </tr>\n",
       "    <tr>\n",
       "      <th>4</th>\n",
       "      <td>ភូមិ</td>\n",
       "      <td>1020105</td>\n",
       "      <td>ត្រាង</td>\n",
       "      <td>Trang</td>\n",
       "      <td>ប្រកាសលេខ ៤៩៣ ប្រ.ក</td>\n",
       "      <td>NaN</td>\n",
       "      <td>NaN</td>\n",
       "      <td>Banteay Meanchey</td>\n",
       "      <td>1</td>\n",
       "      <td>Mongkol Borei</td>\n",
       "      <td>102</td>\n",
       "      <td>Banteay Neang</td>\n",
       "      <td>10201</td>\n",
       "    </tr>\n",
       "  </tbody>\n",
       "</table>\n",
       "</div>"
      ],
      "text/plain": [
       "   Type     Code Name (Khmer)   Name (Latin)            Reference  \\\n",
       "0  ភូមិ  1020101        អូរធំ        Ou Thum  ប្រកាសលេខ ៤៩៣ ប្រ.ក   \n",
       "1  ភូមិ  1020102         ភ្នំ          Phnum  ប្រកាសលេខ ៤៩៣ ប្រ.ក   \n",
       "2  ភូមិ  1020103    បន្ទាយនាង  Banteay Neang  ប្រកាសលេខ ៤៩៣ ប្រ.ក   \n",
       "3  ភូមិ  1020104      គោកព្នៅ      Kouk Pnov  ប្រកាសលេខ ៤៩៣ ប្រ.ក   \n",
       "4  ភូមិ  1020105        ត្រាង          Trang  ប្រកាសលេខ ៤៩៣ ប្រ.ក   \n",
       "\n",
       "  Official Note  Note (by Checker)          Province  Province Code  \\\n",
       "0           NaN                NaN  Banteay Meanchey              1   \n",
       "1           NaN                NaN  Banteay Meanchey              1   \n",
       "2           NaN                NaN  Banteay Meanchey              1   \n",
       "3           NaN                NaN  Banteay Meanchey              1   \n",
       "4           NaN                NaN  Banteay Meanchey              1   \n",
       "\n",
       "        District  District Code        Commune  Commune Code  \n",
       "0  Mongkol Borei            102  Banteay Neang         10201  \n",
       "1  Mongkol Borei            102  Banteay Neang         10201  \n",
       "2  Mongkol Borei            102  Banteay Neang         10201  \n",
       "3  Mongkol Borei            102  Banteay Neang         10201  \n",
       "4  Mongkol Borei            102  Banteay Neang         10201  "
      ]
     },
     "execution_count": 45,
     "metadata": {},
     "output_type": "execute_result"
    }
   ],
   "source": [
    "# Creating a new DataFrame from the lists\n",
    "village_data = pd.DataFrame(village_rows)\n",
    "village_data['Province'] = province_names\n",
    "village_data['Province Code'] = province_codes\n",
    "village_data['District'] = district_names\n",
    "village_data['District Code'] = district_codes\n",
    "village_data['Commune'] = commune_names\n",
    "village_data['Commune Code'] = commune_codes\n",
    "\n",
    "# Resetting the index of the new DataFrame\n",
    "village_data.reset_index(drop=True, inplace=True)\n",
    "\n",
    "# Display the first few rows of the transformed DataFrame\n",
    "village_data.head()"
   ]
  },
  {
   "cell_type": "code",
   "execution_count": null,
   "id": "8a01eaff-64a9-4666-b91b-95b3eb5c61e9",
   "metadata": {},
   "outputs": [],
   "source": []
  }
 ],
 "metadata": {
  "kernelspec": {
   "display_name": "Python 3 (ipykernel)",
   "language": "python",
   "name": "python3"
  },
  "language_info": {
   "codemirror_mode": {
    "name": "ipython",
    "version": 3
   },
   "file_extension": ".py",
   "mimetype": "text/x-python",
   "name": "python",
   "nbconvert_exporter": "python",
   "pygments_lexer": "ipython3",
   "version": "3.10.11"
  }
 },
 "nbformat": 4,
 "nbformat_minor": 5
}
