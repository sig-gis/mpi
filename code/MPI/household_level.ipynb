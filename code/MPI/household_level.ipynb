{
 "cells": [
  {
   "cell_type": "markdown",
   "id": "ef4c2ca8-2bee-4a91-828f-797e3188ddbc",
   "metadata": {},
   "source": [
    "This notebook explores the potential to calculate MPI at household level. It checks if all individuals in each household share the same MPI-related values for Cambodia DHS 2005."
   ]
  },
  {
   "cell_type": "code",
   "execution_count": 1,
   "id": "c9ba314f-5811-42c6-9d9d-53b12b8528e9",
   "metadata": {},
   "outputs": [],
   "source": [
    "from pathlib import Path\n",
    "import pandas as pd\n",
    "import numpy as np\n",
    "\n",
    "code_path = Path(r'C:\\Users\\tianc\\OneDrive\\Documents\\SIG\\DISES\\code\\MPI')\n",
    "datafd_path = code_path.parent.parent / 'data' / 'MPI'"
   ]
  },
  {
   "cell_type": "markdown",
   "id": "1ae48908-0188-429e-b516-864d0e9de7dc",
   "metadata": {
    "tags": []
   },
   "source": [
    "# khm dhs05"
   ]
  },
  {
   "cell_type": "markdown",
   "id": "10eca06e-d6fd-44fd-94be-84aeb08ce8cf",
   "metadata": {},
   "source": [
    "### read in individual-level data"
   ]
  },
  {
   "cell_type": "markdown",
   "id": "3f390125-3ea0-4322-a046-366fb34d193f",
   "metadata": {},
   "source": [
    "#### one dataframe per cluster all in a list"
   ]
  },
  {
   "cell_type": "markdown",
   "id": "088fde69-a7ab-423a-9085-20bde80e2642",
   "metadata": {
    "tags": []
   },
   "source": [
    "##### harmonized with 10 and 14, wall material excluded (no wall)"
   ]
  },
  {
   "cell_type": "code",
   "execution_count": 2,
   "id": "63e179eb-73bf-4d42-8e32-a7ab090dc426",
   "metadata": {},
   "outputs": [],
   "source": [
    "survey = 'khm_dhs05_cot_nowall'\n",
    "spatial_res = 'clust'\n",
    "n_spatial_unit = 557"
   ]
  },
  {
   "cell_type": "code",
   "execution_count": 3,
   "id": "9d2a72a4-bb41-4af3-a9e4-ac6d85d8300f",
   "metadata": {},
   "outputs": [],
   "source": [
    "df_nowall_lst = []\n",
    "for i in range(1, n_spatial_unit+1):\n",
    "    df = pd.read_stata(\n",
    "        datafd_path / survey / f'{\"_\".join(survey.split(\"_\")[:2])}_mpi_{spatial_res}{i}.dta'\n",
    "    ) \n",
    "    assert df.psu.unique().squeeze() == i\n",
    "    df_nowall_lst.append(df)"
   ]
  },
  {
   "cell_type": "markdown",
   "id": "3e219e47-2ac2-43f6-a820-eaceb8bc147d",
   "metadata": {
    "tags": []
   },
   "source": [
    "### explore and preprocess data"
   ]
  },
  {
   "cell_type": "markdown",
   "id": "20dbb73b-9e96-45a8-89b9-a54d90c8d08a",
   "metadata": {},
   "source": [
    "#### compile dataframes in the lists"
   ]
  },
  {
   "cell_type": "markdown",
   "id": "6cd821a5-1e10-4dc5-9387-cd872243292c",
   "metadata": {},
   "source": [
    "##### no wall"
   ]
  },
  {
   "cell_type": "code",
   "execution_count": 4,
   "id": "31af3395-e58b-4ee6-99de-d5d0b4232dac",
   "metadata": {},
   "outputs": [],
   "source": [
    "df_nowall = pd.concat(df_nowall_lst)"
   ]
  },
  {
   "cell_type": "code",
   "execution_count": 5,
   "id": "1bf1571c-f308-4ff0-9083-614a1bbf86e2",
   "metadata": {},
   "outputs": [
    {
     "data": {
      "text/plain": [
       "(35665, 109)"
      ]
     },
     "execution_count": 5,
     "metadata": {},
     "output_type": "execute_result"
    }
   ],
   "source": [
    "df_nowall.shape  # 35665 individuals"
   ]
  },
  {
   "cell_type": "code",
   "execution_count": 6,
   "id": "b10307b4-2c59-4a48-af12-f2ce6eaa56ba",
   "metadata": {},
   "outputs": [
    {
     "data": {
      "text/html": [
       "<div>\n",
       "<style scoped>\n",
       "    .dataframe tbody tr th:only-of-type {\n",
       "        vertical-align: middle;\n",
       "    }\n",
       "\n",
       "    .dataframe tbody tr th {\n",
       "        vertical-align: top;\n",
       "    }\n",
       "\n",
       "    .dataframe thead th {\n",
       "        text-align: right;\n",
       "    }\n",
       "</style>\n",
       "<table border=\"1\" class=\"dataframe\">\n",
       "  <thead>\n",
       "    <tr style=\"text-align: right;\">\n",
       "      <th></th>\n",
       "      <th>hh_id</th>\n",
       "      <th>ind_id</th>\n",
       "      <th>psu</th>\n",
       "      <th>strata</th>\n",
       "      <th>subsample</th>\n",
       "      <th>weight</th>\n",
       "      <th>area</th>\n",
       "      <th>region</th>\n",
       "      <th>region_01</th>\n",
       "      <th>agec4</th>\n",
       "      <th>...</th>\n",
       "      <th>g01_k_fuel_1</th>\n",
       "      <th>g01_k_asset_1</th>\n",
       "      <th>MPI_1_20</th>\n",
       "      <th>MPI_1_33</th>\n",
       "      <th>MPI_1_50</th>\n",
       "      <th>MPI_1</th>\n",
       "      <th>MPI_1_svy</th>\n",
       "      <th>MPI_1_SE</th>\n",
       "      <th>MPI_1_low95CI</th>\n",
       "      <th>MPI_1_upp95CI</th>\n",
       "    </tr>\n",
       "  </thead>\n",
       "  <tbody>\n",
       "    <tr>\n",
       "      <th>0</th>\n",
       "      <td>10001</td>\n",
       "      <td>1000101</td>\n",
       "      <td>1</td>\n",
       "      <td>245</td>\n",
       "      <td>selected</td>\n",
       "      <td>0.414342</td>\n",
       "      <td>urban</td>\n",
       "      <td>Pursat</td>\n",
       "      <td>Pursat</td>\n",
       "      <td>60+</td>\n",
       "      <td>...</td>\n",
       "      <td>0.0</td>\n",
       "      <td>0.0</td>\n",
       "      <td>0.316162</td>\n",
       "      <td>0.260606</td>\n",
       "      <td>0.163636</td>\n",
       "      <td>0.260606</td>\n",
       "      <td>0.260606</td>\n",
       "      <td>0.088829</td>\n",
       "      <td>0.062683</td>\n",
       "      <td>0.458529</td>\n",
       "    </tr>\n",
       "    <tr>\n",
       "      <th>1</th>\n",
       "      <td>10001</td>\n",
       "      <td>1000102</td>\n",
       "      <td>1</td>\n",
       "      <td>245</td>\n",
       "      <td>selected</td>\n",
       "      <td>0.414342</td>\n",
       "      <td>urban</td>\n",
       "      <td>Pursat</td>\n",
       "      <td>Pursat</td>\n",
       "      <td>18-59</td>\n",
       "      <td>...</td>\n",
       "      <td>0.0</td>\n",
       "      <td>0.0</td>\n",
       "      <td>0.316162</td>\n",
       "      <td>0.260606</td>\n",
       "      <td>0.163636</td>\n",
       "      <td>0.260606</td>\n",
       "      <td>0.260606</td>\n",
       "      <td>0.088829</td>\n",
       "      <td>0.062683</td>\n",
       "      <td>0.458529</td>\n",
       "    </tr>\n",
       "  </tbody>\n",
       "</table>\n",
       "<p>2 rows × 109 columns</p>\n",
       "</div>"
      ],
      "text/plain": [
       "   hh_id   ind_id  psu  strata subsample    weight   area  region region_01  \\\n",
       "0  10001  1000101    1     245  selected  0.414342  urban  Pursat    Pursat   \n",
       "1  10001  1000102    1     245  selected  0.414342  urban  Pursat    Pursat   \n",
       "\n",
       "   agec4  ... g01_k_fuel_1  g01_k_asset_1  MPI_1_20  MPI_1_33  MPI_1_50  \\\n",
       "0    60+  ...          0.0            0.0  0.316162  0.260606  0.163636   \n",
       "1  18-59  ...          0.0            0.0  0.316162  0.260606  0.163636   \n",
       "\n",
       "      MPI_1  MPI_1_svy  MPI_1_SE  MPI_1_low95CI  MPI_1_upp95CI  \n",
       "0  0.260606   0.260606  0.088829       0.062683       0.458529  \n",
       "1  0.260606   0.260606  0.088829       0.062683       0.458529  \n",
       "\n",
       "[2 rows x 109 columns]"
      ]
     },
     "execution_count": 6,
     "metadata": {},
     "output_type": "execute_result"
    }
   ],
   "source": [
    "df_nowall.head(2)"
   ]
  },
  {
   "cell_type": "code",
   "execution_count": 7,
   "id": "609c6473-4dde-4b5c-9a63-515038f6f1ef",
   "metadata": {},
   "outputs": [
    {
     "data": {
      "text/plain": [
       "Index(['hh_id', 'ind_id', 'psu', 'strata', 'subsample', 'weight', 'area',\n",
       "       'region', 'region_01', 'agec4',\n",
       "       ...\n",
       "       'g01_k_fuel_1', 'g01_k_asset_1', 'MPI_1_20', 'MPI_1_33', 'MPI_1_50',\n",
       "       'MPI_1', 'MPI_1_svy', 'MPI_1_SE', 'MPI_1_low95CI', 'MPI_1_upp95CI'],\n",
       "      dtype='object', length=109)"
      ]
     },
     "execution_count": 7,
     "metadata": {},
     "output_type": "execute_result"
    }
   ],
   "source": [
    "df_nowall.columns"
   ]
  },
  {
   "cell_type": "markdown",
   "id": "e5459cea-7b9f-4fe7-b4bb-62ca1ac9b706",
   "metadata": {},
   "source": [
    "#### filter columns of interest"
   ]
  },
  {
   "cell_type": "code",
   "execution_count": 8,
   "id": "c962503f-919d-469a-86d5-b357a890b41c",
   "metadata": {},
   "outputs": [],
   "source": [
    "columns_of_interest = [\n",
    "    'hh_id', 'ind_id', 'psu', 'c_vector_1'\n",
    "]"
   ]
  },
  {
   "cell_type": "code",
   "execution_count": 9,
   "id": "19973aac-0d97-41c1-8e33-db4436290df8",
   "metadata": {},
   "outputs": [],
   "source": [
    "df_nowall = df_nowall[columns_of_interest]"
   ]
  },
  {
   "cell_type": "markdown",
   "id": "f87e4e45-b561-4982-92a6-e76ecd7891f3",
   "metadata": {},
   "source": [
    "#### summarize missingness and drop people with missing MPI"
   ]
  },
  {
   "cell_type": "code",
   "execution_count": 10,
   "id": "fedfb864-1be6-4c2d-acbd-645f1c355345",
   "metadata": {},
   "outputs": [
    {
     "data": {
      "text/plain": [
       "hh_id           0\n",
       "ind_id          0\n",
       "psu             0\n",
       "c_vector_1    924\n",
       "dtype: int64"
      ]
     },
     "execution_count": 10,
     "metadata": {},
     "output_type": "execute_result"
    }
   ],
   "source": [
    "df_nowall.isna().sum()"
   ]
  },
  {
   "cell_type": "code",
   "execution_count": 11,
   "id": "c5b47a69-9267-4502-a4d3-650d71e4f368",
   "metadata": {},
   "outputs": [],
   "source": [
    "df_valid = df_nowall.dropna(how='any')"
   ]
  },
  {
   "cell_type": "code",
   "execution_count": 12,
   "id": "6f4924d1-d638-4ced-9524-6328a01e088e",
   "metadata": {},
   "outputs": [
    {
     "data": {
      "text/plain": [
       "(34741, 4)"
      ]
     },
     "execution_count": 12,
     "metadata": {},
     "output_type": "execute_result"
    }
   ],
   "source": [
    "df_valid.shape"
   ]
  },
  {
   "cell_type": "code",
   "execution_count": 13,
   "id": "0db82643-579d-4f84-ad7a-7b02d8e15616",
   "metadata": {},
   "outputs": [],
   "source": [
    "assert 34741 + 924 == 35665"
   ]
  },
  {
   "cell_type": "markdown",
   "id": "519a21cd-a10c-405b-a204-4b90a191de7f",
   "metadata": {},
   "source": [
    "#### confirm hh_id is unique across the country"
   ]
  },
  {
   "cell_type": "code",
   "execution_count": 14,
   "id": "a6d380c1-d189-44e9-a161-579913d1609f",
   "metadata": {},
   "outputs": [
    {
     "data": {
      "text/plain": [
       "True"
      ]
     },
     "execution_count": 14,
     "metadata": {},
     "output_type": "execute_result"
    }
   ],
   "source": [
    "(df_valid.groupby('hh_id')['psu'].nunique() == 1).all()\n",
    "# each hh_id is associated with only one psu/cluster"
   ]
  },
  {
   "cell_type": "markdown",
   "id": "2948c2a5-957a-4d29-b672-47ab3ab011c4",
   "metadata": {},
   "source": [
    "### confirm all individuals in each household share the same c_vector_1"
   ]
  },
  {
   "cell_type": "code",
   "execution_count": 15,
   "id": "f46861ca-4d43-43c9-8eb7-dffb26c9a536",
   "metadata": {},
   "outputs": [
    {
     "data": {
      "text/plain": [
       "True"
      ]
     },
     "execution_count": 15,
     "metadata": {},
     "output_type": "execute_result"
    }
   ],
   "source": [
    "(df_valid.groupby('hh_id')['c_vector_1'].nunique() == 1).all()"
   ]
  }
 ],
 "metadata": {
  "kernelspec": {
   "display_name": "Python 3 (ipykernel)",
   "language": "python",
   "name": "python3"
  },
  "language_info": {
   "codemirror_mode": {
    "name": "ipython",
    "version": 3
   },
   "file_extension": ".py",
   "mimetype": "text/x-python",
   "name": "python",
   "nbconvert_exporter": "python",
   "pygments_lexer": "ipython3",
   "version": "3.10.11"
  }
 },
 "nbformat": 4,
 "nbformat_minor": 5
}
