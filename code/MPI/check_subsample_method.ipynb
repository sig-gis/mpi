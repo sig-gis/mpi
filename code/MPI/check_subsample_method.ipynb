{
 "cells": [
  {
   "cell_type": "markdown",
   "id": "34de0e5a-540d-4a56-b292-9e50a437f060",
   "metadata": {},
   "source": [
    "This notebook checks how the household subsampling for anthropometric measures are designed."
   ]
  },
  {
   "cell_type": "code",
   "execution_count": 1,
   "id": "6723f501-059c-4ed2-b7fa-a1150c73f88a",
   "metadata": {},
   "outputs": [],
   "source": [
    "from pathlib import Path\n",
    "import pandas as pd\n",
    "import numpy as np\n",
    "\n",
    "code_path = Path(r'C:\\Users\\tianc\\OneDrive\\Documents\\SIG\\DISES\\code\\MPI')\n",
    "datafd_path = code_path.parent.parent / 'data' / 'MPI'"
   ]
  },
  {
   "cell_type": "markdown",
   "id": "b5de08ba-51f4-44bc-83d9-20d0fdddca61",
   "metadata": {
    "tags": []
   },
   "source": [
    "# khm dhs05"
   ]
  },
  {
   "cell_type": "markdown",
   "id": "53ba833e-afba-4eed-811e-3e7ca2b4dd4b",
   "metadata": {},
   "source": [
    "### read in data"
   ]
  },
  {
   "cell_type": "markdown",
   "id": "c0e52743-5282-441b-b40c-f6382f29a898",
   "metadata": {},
   "source": [
    "#### processed microdata pre (de jure and) subsample dropping"
   ]
  },
  {
   "cell_type": "code",
   "execution_count": 2,
   "id": "83afbb5a-59bc-4d23-999f-5e683339eb2c",
   "metadata": {},
   "outputs": [],
   "source": [
    "YY = '05'\n",
    "survey = f'khm_dhs{YY}_cot'"
   ]
  },
  {
   "cell_type": "code",
   "execution_count": 3,
   "id": "9c0600b4-d00a-444b-a582-0cd73b4a820f",
   "metadata": {},
   "outputs": [],
   "source": [
    "df = pd.read_stata(\n",
    "        datafd_path / survey / f'KHM{YY}_merged.dta'\n",
    ") "
   ]
  },
  {
   "cell_type": "code",
   "execution_count": 4,
   "id": "018333fa-95d3-4ae1-b5be-7cedc47062e9",
   "metadata": {
    "tags": []
   },
   "outputs": [
    {
     "data": {
      "text/html": [
       "<div>\n",
       "<style scoped>\n",
       "    .dataframe tbody tr th:only-of-type {\n",
       "        vertical-align: middle;\n",
       "    }\n",
       "\n",
       "    .dataframe tbody tr th {\n",
       "        vertical-align: top;\n",
       "    }\n",
       "\n",
       "    .dataframe thead th {\n",
       "        text-align: right;\n",
       "    }\n",
       "</style>\n",
       "<table border=\"1\" class=\"dataframe\">\n",
       "  <thead>\n",
       "    <tr style=\"text-align: right;\">\n",
       "      <th></th>\n",
       "      <th>hhid</th>\n",
       "      <th>hvidx</th>\n",
       "      <th>hv000</th>\n",
       "      <th>hv001</th>\n",
       "      <th>hv002</th>\n",
       "      <th>hv003</th>\n",
       "      <th>hv004</th>\n",
       "      <th>hv005</th>\n",
       "      <th>hv006</th>\n",
       "      <th>hv007</th>\n",
       "      <th>...</th>\n",
       "      <th>low_bmiage_b</th>\n",
       "      <th>low_bmiage_b_u</th>\n",
       "      <th>child_PR</th>\n",
       "      <th>weight_ch</th>\n",
       "      <th>underweight</th>\n",
       "      <th>underweight_u</th>\n",
       "      <th>stunting</th>\n",
       "      <th>stunting_u</th>\n",
       "      <th>wasting</th>\n",
       "      <th>wasting_u</th>\n",
       "    </tr>\n",
       "  </thead>\n",
       "  <tbody>\n",
       "    <tr>\n",
       "      <th>0</th>\n",
       "      <td>1  1</td>\n",
       "      <td>1</td>\n",
       "      <td>KH5</td>\n",
       "      <td>1</td>\n",
       "      <td>1</td>\n",
       "      <td>2</td>\n",
       "      <td>1</td>\n",
       "      <td>414342</td>\n",
       "      <td>11</td>\n",
       "      <td>2005</td>\n",
       "      <td>...</td>\n",
       "      <td>NaN</td>\n",
       "      <td>NaN</td>\n",
       "      <td>NaN</td>\n",
       "      <td>NaN</td>\n",
       "      <td>NaN</td>\n",
       "      <td>NaN</td>\n",
       "      <td>NaN</td>\n",
       "      <td>NaN</td>\n",
       "      <td>NaN</td>\n",
       "      <td>NaN</td>\n",
       "    </tr>\n",
       "    <tr>\n",
       "      <th>1</th>\n",
       "      <td>1  1</td>\n",
       "      <td>2</td>\n",
       "      <td>KH5</td>\n",
       "      <td>1</td>\n",
       "      <td>1</td>\n",
       "      <td>2</td>\n",
       "      <td>1</td>\n",
       "      <td>414342</td>\n",
       "      <td>11</td>\n",
       "      <td>2005</td>\n",
       "      <td>...</td>\n",
       "      <td>NaN</td>\n",
       "      <td>NaN</td>\n",
       "      <td>NaN</td>\n",
       "      <td>NaN</td>\n",
       "      <td>NaN</td>\n",
       "      <td>NaN</td>\n",
       "      <td>NaN</td>\n",
       "      <td>NaN</td>\n",
       "      <td>NaN</td>\n",
       "      <td>NaN</td>\n",
       "    </tr>\n",
       "    <tr>\n",
       "      <th>2</th>\n",
       "      <td>1  1</td>\n",
       "      <td>3</td>\n",
       "      <td>KH5</td>\n",
       "      <td>1</td>\n",
       "      <td>1</td>\n",
       "      <td>2</td>\n",
       "      <td>1</td>\n",
       "      <td>414342</td>\n",
       "      <td>11</td>\n",
       "      <td>2005</td>\n",
       "      <td>...</td>\n",
       "      <td>NaN</td>\n",
       "      <td>NaN</td>\n",
       "      <td>NaN</td>\n",
       "      <td>NaN</td>\n",
       "      <td>NaN</td>\n",
       "      <td>NaN</td>\n",
       "      <td>NaN</td>\n",
       "      <td>NaN</td>\n",
       "      <td>NaN</td>\n",
       "      <td>NaN</td>\n",
       "    </tr>\n",
       "    <tr>\n",
       "      <th>3</th>\n",
       "      <td>1  1</td>\n",
       "      <td>4</td>\n",
       "      <td>KH5</td>\n",
       "      <td>1</td>\n",
       "      <td>1</td>\n",
       "      <td>2</td>\n",
       "      <td>1</td>\n",
       "      <td>414342</td>\n",
       "      <td>11</td>\n",
       "      <td>2005</td>\n",
       "      <td>...</td>\n",
       "      <td>NaN</td>\n",
       "      <td>NaN</td>\n",
       "      <td>NaN</td>\n",
       "      <td>NaN</td>\n",
       "      <td>NaN</td>\n",
       "      <td>NaN</td>\n",
       "      <td>NaN</td>\n",
       "      <td>NaN</td>\n",
       "      <td>NaN</td>\n",
       "      <td>NaN</td>\n",
       "    </tr>\n",
       "    <tr>\n",
       "      <th>4</th>\n",
       "      <td>1  1</td>\n",
       "      <td>5</td>\n",
       "      <td>KH5</td>\n",
       "      <td>1</td>\n",
       "      <td>1</td>\n",
       "      <td>2</td>\n",
       "      <td>1</td>\n",
       "      <td>414342</td>\n",
       "      <td>11</td>\n",
       "      <td>2005</td>\n",
       "      <td>...</td>\n",
       "      <td>NaN</td>\n",
       "      <td>NaN</td>\n",
       "      <td>NaN</td>\n",
       "      <td>NaN</td>\n",
       "      <td>NaN</td>\n",
       "      <td>NaN</td>\n",
       "      <td>NaN</td>\n",
       "      <td>NaN</td>\n",
       "      <td>NaN</td>\n",
       "      <td>NaN</td>\n",
       "    </tr>\n",
       "    <tr>\n",
       "      <th>...</th>\n",
       "      <td>...</td>\n",
       "      <td>...</td>\n",
       "      <td>...</td>\n",
       "      <td>...</td>\n",
       "      <td>...</td>\n",
       "      <td>...</td>\n",
       "      <td>...</td>\n",
       "      <td>...</td>\n",
       "      <td>...</td>\n",
       "      <td>...</td>\n",
       "      <td>...</td>\n",
       "      <td>...</td>\n",
       "      <td>...</td>\n",
       "      <td>...</td>\n",
       "      <td>...</td>\n",
       "      <td>...</td>\n",
       "      <td>...</td>\n",
       "      <td>...</td>\n",
       "      <td>...</td>\n",
       "      <td>...</td>\n",
       "      <td>...</td>\n",
       "    </tr>\n",
       "    <tr>\n",
       "      <th>73005</th>\n",
       "      <td>557 27</td>\n",
       "      <td>3</td>\n",
       "      <td>KH5</td>\n",
       "      <td>557</td>\n",
       "      <td>27</td>\n",
       "      <td>2</td>\n",
       "      <td>557</td>\n",
       "      <td>783186</td>\n",
       "      <td>1</td>\n",
       "      <td>2006</td>\n",
       "      <td>...</td>\n",
       "      <td>NaN</td>\n",
       "      <td>NaN</td>\n",
       "      <td>NaN</td>\n",
       "      <td>NaN</td>\n",
       "      <td>NaN</td>\n",
       "      <td>NaN</td>\n",
       "      <td>NaN</td>\n",
       "      <td>NaN</td>\n",
       "      <td>NaN</td>\n",
       "      <td>NaN</td>\n",
       "    </tr>\n",
       "    <tr>\n",
       "      <th>73006</th>\n",
       "      <td>557 27</td>\n",
       "      <td>4</td>\n",
       "      <td>KH5</td>\n",
       "      <td>557</td>\n",
       "      <td>27</td>\n",
       "      <td>2</td>\n",
       "      <td>557</td>\n",
       "      <td>783186</td>\n",
       "      <td>1</td>\n",
       "      <td>2006</td>\n",
       "      <td>...</td>\n",
       "      <td>NaN</td>\n",
       "      <td>NaN</td>\n",
       "      <td>NaN</td>\n",
       "      <td>NaN</td>\n",
       "      <td>NaN</td>\n",
       "      <td>NaN</td>\n",
       "      <td>NaN</td>\n",
       "      <td>NaN</td>\n",
       "      <td>NaN</td>\n",
       "      <td>NaN</td>\n",
       "    </tr>\n",
       "    <tr>\n",
       "      <th>73007</th>\n",
       "      <td>557 28</td>\n",
       "      <td>1</td>\n",
       "      <td>KH5</td>\n",
       "      <td>557</td>\n",
       "      <td>28</td>\n",
       "      <td>2</td>\n",
       "      <td>557</td>\n",
       "      <td>783186</td>\n",
       "      <td>1</td>\n",
       "      <td>2006</td>\n",
       "      <td>...</td>\n",
       "      <td>NaN</td>\n",
       "      <td>NaN</td>\n",
       "      <td>NaN</td>\n",
       "      <td>NaN</td>\n",
       "      <td>NaN</td>\n",
       "      <td>NaN</td>\n",
       "      <td>NaN</td>\n",
       "      <td>NaN</td>\n",
       "      <td>NaN</td>\n",
       "      <td>NaN</td>\n",
       "    </tr>\n",
       "    <tr>\n",
       "      <th>73008</th>\n",
       "      <td>557 28</td>\n",
       "      <td>2</td>\n",
       "      <td>KH5</td>\n",
       "      <td>557</td>\n",
       "      <td>28</td>\n",
       "      <td>2</td>\n",
       "      <td>557</td>\n",
       "      <td>783186</td>\n",
       "      <td>1</td>\n",
       "      <td>2006</td>\n",
       "      <td>...</td>\n",
       "      <td>NaN</td>\n",
       "      <td>NaN</td>\n",
       "      <td>NaN</td>\n",
       "      <td>NaN</td>\n",
       "      <td>NaN</td>\n",
       "      <td>NaN</td>\n",
       "      <td>NaN</td>\n",
       "      <td>NaN</td>\n",
       "      <td>NaN</td>\n",
       "      <td>NaN</td>\n",
       "    </tr>\n",
       "    <tr>\n",
       "      <th>73009</th>\n",
       "      <td>557 28</td>\n",
       "      <td>3</td>\n",
       "      <td>KH5</td>\n",
       "      <td>557</td>\n",
       "      <td>28</td>\n",
       "      <td>2</td>\n",
       "      <td>557</td>\n",
       "      <td>783186</td>\n",
       "      <td>1</td>\n",
       "      <td>2006</td>\n",
       "      <td>...</td>\n",
       "      <td>NaN</td>\n",
       "      <td>NaN</td>\n",
       "      <td>1.0</td>\n",
       "      <td>783186.0</td>\n",
       "      <td>0.0</td>\n",
       "      <td>0.0</td>\n",
       "      <td>0.0</td>\n",
       "      <td>0.0</td>\n",
       "      <td>0.0</td>\n",
       "      <td>0.0</td>\n",
       "    </tr>\n",
       "  </tbody>\n",
       "</table>\n",
       "<p>73010 rows × 406 columns</p>\n",
       "</div>"
      ],
      "text/plain": [
       "               hhid  hvidx hv000  hv001  hv002 hv003  hv004   hv005  hv006  \\\n",
       "0              1  1      1   KH5      1      1     2      1  414342     11   \n",
       "1              1  1      2   KH5      1      1     2      1  414342     11   \n",
       "2              1  1      3   KH5      1      1     2      1  414342     11   \n",
       "3              1  1      4   KH5      1      1     2      1  414342     11   \n",
       "4              1  1      5   KH5      1      1     2      1  414342     11   \n",
       "...             ...    ...   ...    ...    ...   ...    ...     ...    ...   \n",
       "73005        557 27      3   KH5    557     27     2    557  783186      1   \n",
       "73006        557 27      4   KH5    557     27     2    557  783186      1   \n",
       "73007        557 28      1   KH5    557     28     2    557  783186      1   \n",
       "73008        557 28      2   KH5    557     28     2    557  783186      1   \n",
       "73009        557 28      3   KH5    557     28     2    557  783186      1   \n",
       "\n",
       "       hv007  ...  low_bmiage_b  low_bmiage_b_u  child_PR  weight_ch  \\\n",
       "0       2005  ...           NaN             NaN       NaN        NaN   \n",
       "1       2005  ...           NaN             NaN       NaN        NaN   \n",
       "2       2005  ...           NaN             NaN       NaN        NaN   \n",
       "3       2005  ...           NaN             NaN       NaN        NaN   \n",
       "4       2005  ...           NaN             NaN       NaN        NaN   \n",
       "...      ...  ...           ...             ...       ...        ...   \n",
       "73005   2006  ...           NaN             NaN       NaN        NaN   \n",
       "73006   2006  ...           NaN             NaN       NaN        NaN   \n",
       "73007   2006  ...           NaN             NaN       NaN        NaN   \n",
       "73008   2006  ...           NaN             NaN       NaN        NaN   \n",
       "73009   2006  ...           NaN             NaN       1.0   783186.0   \n",
       "\n",
       "       underweight  underweight_u  stunting stunting_u  wasting  wasting_u  \n",
       "0              NaN            NaN       NaN        NaN      NaN        NaN  \n",
       "1              NaN            NaN       NaN        NaN      NaN        NaN  \n",
       "2              NaN            NaN       NaN        NaN      NaN        NaN  \n",
       "3              NaN            NaN       NaN        NaN      NaN        NaN  \n",
       "4              NaN            NaN       NaN        NaN      NaN        NaN  \n",
       "...            ...            ...       ...        ...      ...        ...  \n",
       "73005          NaN            NaN       NaN        NaN      NaN        NaN  \n",
       "73006          NaN            NaN       NaN        NaN      NaN        NaN  \n",
       "73007          NaN            NaN       NaN        NaN      NaN        NaN  \n",
       "73008          NaN            NaN       NaN        NaN      NaN        NaN  \n",
       "73009          0.0            0.0       0.0        0.0      0.0        0.0  \n",
       "\n",
       "[73010 rows x 406 columns]"
      ]
     },
     "execution_count": 4,
     "metadata": {},
     "output_type": "execute_result"
    }
   ],
   "source": [
    "df"
   ]
  },
  {
   "cell_type": "code",
   "execution_count": 5,
   "id": "0d069e94-b4e1-4665-880d-0f1914d29868",
   "metadata": {},
   "outputs": [
    {
     "data": {
      "text/plain": [
       "not selected    36990\n",
       "selected        36020\n",
       "Name: hv042, dtype: int64"
      ]
     },
     "execution_count": 5,
     "metadata": {},
     "output_type": "execute_result"
    }
   ],
   "source": [
    "df.hv042.value_counts()  # household selected for anthropometric measures"
   ]
  },
  {
   "cell_type": "code",
   "execution_count": 6,
   "id": "5c307400-d482-41b5-96e4-a2354b1a3fc5",
   "metadata": {},
   "outputs": [
    {
     "name": "stderr",
     "output_type": "stream",
     "text": [
      "C:\\Users\\tianc\\AppData\\Local\\Temp\\ipykernel_21336\\2365061199.py:1: PerformanceWarning: DataFrame is highly fragmented.  This is usually the result of calling `frame.insert` many times, which has poor performance.  Consider joining all columns at once using pd.concat(axis=1) instead. To get a de-fragmented frame, use `newframe = frame.copy()`\n",
      "  df['subsample'] = (df.hv042 == 'selected').astype(int)\n"
     ]
    }
   ],
   "source": [
    "df['subsample'] = (df.hv042 == 'selected').astype(int)"
   ]
  },
  {
   "cell_type": "code",
   "execution_count": 7,
   "id": "a5c9e73e-e5b0-41bd-ad78-39ac4c42bccf",
   "metadata": {},
   "outputs": [
    {
     "data": {
      "text/plain": [
       "0    36990\n",
       "1    36020\n",
       "Name: subsample, dtype: int64"
      ]
     },
     "execution_count": 7,
     "metadata": {},
     "output_type": "execute_result"
    }
   ],
   "source": [
    "df.subsample.value_counts()"
   ]
  },
  {
   "cell_type": "code",
   "execution_count": 8,
   "id": "1f66d11a-8b4b-4393-8113-d196a4f8eaaa",
   "metadata": {},
   "outputs": [
    {
     "data": {
      "text/plain": [
       "14243"
      ]
     },
     "execution_count": 8,
     "metadata": {},
     "output_type": "execute_result"
    }
   ],
   "source": [
    "df.hh_id.nunique()"
   ]
  },
  {
   "cell_type": "code",
   "execution_count": 9,
   "id": "23ffb754-1440-44c4-b3a0-73a1bbbb2c70",
   "metadata": {},
   "outputs": [
    {
     "data": {
      "text/plain": [
       "557"
      ]
     },
     "execution_count": 9,
     "metadata": {},
     "output_type": "execute_result"
    }
   ],
   "source": [
    "df.hv001.nunique()  # cluster number"
   ]
  },
  {
   "cell_type": "code",
   "execution_count": 10,
   "id": "15211ec7-903f-4dde-85ba-e0636f18df97",
   "metadata": {},
   "outputs": [],
   "source": [
    "# All household members share the same subsample status - selected or not\n",
    "n_uniq_per_hh = df.groupby('hh_id')['subsample'].nunique()\n",
    "assert all(n_uniq_per_hh == 1)"
   ]
  },
  {
   "cell_type": "code",
   "execution_count": 11,
   "id": "fa3353b3-1294-4fc2-b5f1-7e50c9435e6c",
   "metadata": {},
   "outputs": [
    {
     "data": {
      "text/html": [
       "<div>\n",
       "<style scoped>\n",
       "    .dataframe tbody tr th:only-of-type {\n",
       "        vertical-align: middle;\n",
       "    }\n",
       "\n",
       "    .dataframe tbody tr th {\n",
       "        vertical-align: top;\n",
       "    }\n",
       "\n",
       "    .dataframe thead th {\n",
       "        text-align: right;\n",
       "    }\n",
       "</style>\n",
       "<table border=\"1\" class=\"dataframe\">\n",
       "  <thead>\n",
       "    <tr style=\"text-align: right;\">\n",
       "      <th></th>\n",
       "      <th>hv001</th>\n",
       "      <th>hh_id</th>\n",
       "      <th>subsample</th>\n",
       "    </tr>\n",
       "  </thead>\n",
       "  <tbody>\n",
       "    <tr>\n",
       "      <th>0</th>\n",
       "      <td>1</td>\n",
       "      <td>10001.0</td>\n",
       "      <td>1</td>\n",
       "    </tr>\n",
       "    <tr>\n",
       "      <th>1</th>\n",
       "      <td>1</td>\n",
       "      <td>10003.0</td>\n",
       "      <td>0</td>\n",
       "    </tr>\n",
       "    <tr>\n",
       "      <th>2</th>\n",
       "      <td>1</td>\n",
       "      <td>10004.0</td>\n",
       "      <td>0</td>\n",
       "    </tr>\n",
       "    <tr>\n",
       "      <th>3</th>\n",
       "      <td>1</td>\n",
       "      <td>10006.0</td>\n",
       "      <td>1</td>\n",
       "    </tr>\n",
       "    <tr>\n",
       "      <th>4</th>\n",
       "      <td>1</td>\n",
       "      <td>10007.0</td>\n",
       "      <td>1</td>\n",
       "    </tr>\n",
       "    <tr>\n",
       "      <th>...</th>\n",
       "      <td>...</td>\n",
       "      <td>...</td>\n",
       "      <td>...</td>\n",
       "    </tr>\n",
       "    <tr>\n",
       "      <th>14238</th>\n",
       "      <td>557</td>\n",
       "      <td>5570024.0</td>\n",
       "      <td>1</td>\n",
       "    </tr>\n",
       "    <tr>\n",
       "      <th>14239</th>\n",
       "      <td>557</td>\n",
       "      <td>5570025.0</td>\n",
       "      <td>0</td>\n",
       "    </tr>\n",
       "    <tr>\n",
       "      <th>14240</th>\n",
       "      <td>557</td>\n",
       "      <td>5570026.0</td>\n",
       "      <td>0</td>\n",
       "    </tr>\n",
       "    <tr>\n",
       "      <th>14241</th>\n",
       "      <td>557</td>\n",
       "      <td>5570027.0</td>\n",
       "      <td>0</td>\n",
       "    </tr>\n",
       "    <tr>\n",
       "      <th>14242</th>\n",
       "      <td>557</td>\n",
       "      <td>5570028.0</td>\n",
       "      <td>1</td>\n",
       "    </tr>\n",
       "  </tbody>\n",
       "</table>\n",
       "<p>14243 rows × 3 columns</p>\n",
       "</div>"
      ],
      "text/plain": [
       "       hv001      hh_id  subsample\n",
       "0          1    10001.0          1\n",
       "1          1    10003.0          0\n",
       "2          1    10004.0          0\n",
       "3          1    10006.0          1\n",
       "4          1    10007.0          1\n",
       "...      ...        ...        ...\n",
       "14238    557  5570024.0          1\n",
       "14239    557  5570025.0          0\n",
       "14240    557  5570026.0          0\n",
       "14241    557  5570027.0          0\n",
       "14242    557  5570028.0          1\n",
       "\n",
       "[14243 rows x 3 columns]"
      ]
     },
     "execution_count": 11,
     "metadata": {},
     "output_type": "execute_result"
    }
   ],
   "source": [
    "df_hh = df.groupby(['hv001', 'hh_id'])['subsample'].first().reset_index()\n",
    "df_hh"
   ]
  },
  {
   "cell_type": "code",
   "execution_count": 12,
   "id": "ea6a1cba-e667-4e95-a069-70a35fbed4af",
   "metadata": {},
   "outputs": [],
   "source": [
    "perc_hh_subsampled = df_hh.groupby('hv001')['subsample'].mean()"
   ]
  },
  {
   "cell_type": "code",
   "execution_count": 13,
   "id": "f9baa73f-6e4d-4da5-821a-c2ef92b8c85e",
   "metadata": {},
   "outputs": [
    {
     "data": {
      "text/plain": [
       "hv001\n",
       "348    0.380952\n",
       "75     0.416667\n",
       "199    0.421053\n",
       "323    0.421053\n",
       "41     0.428571\n",
       "         ...   \n",
       "182    0.571429\n",
       "534    0.571429\n",
       "516    0.571429\n",
       "4      0.590909\n",
       "512    0.600000\n",
       "Name: subsample, Length: 557, dtype: float64"
      ]
     },
     "execution_count": 13,
     "metadata": {},
     "output_type": "execute_result"
    }
   ],
   "source": [
    "perc_hh_subsampled.sort_values()"
   ]
  },
  {
   "cell_type": "code",
   "execution_count": 14,
   "id": "49e5b1e8-f91b-4dca-a52c-eab06a9ad589",
   "metadata": {},
   "outputs": [
    {
     "data": {
      "text/plain": [
       "<AxesSubplot:>"
      ]
     },
     "execution_count": 14,
     "metadata": {},
     "output_type": "execute_result"
    },
    {
     "data": {
      "image/png": "[encoded data removed]",
      "text/plain": [
       "<Figure size 640x480 with 1 Axes>"
      ]
     },
     "metadata": {},
     "output_type": "display_data"
    }
   ],
   "source": [
    "perc_hh_subsampled.hist(bins=14)"
   ]
  },
  {
   "cell_type": "code",
   "execution_count": 15,
   "id": "d3ce0805-0de7-42b6-900b-3413be716c5e",
   "metadata": {},
   "outputs": [],
   "source": [
    "expected_perc = 0.5\n",
    "allowed_err = 0.05"
   ]
  },
  {
   "cell_type": "code",
   "execution_count": 16,
   "id": "52783654-0019-4bb0-94e3-879e818910ae",
   "metadata": {},
   "outputs": [
    {
     "data": {
      "text/plain": [
       "0.9497307001795332"
      ]
     },
     "execution_count": 16,
     "metadata": {},
     "output_type": "execute_result"
    }
   ],
   "source": [
    "np.mean(\n",
    "    (perc_hh_subsampled > (expected_perc - allowed_err)) & (perc_hh_subsampled < (expected_perc + allowed_err))\n",
    ")"
   ]
  },
  {
   "cell_type": "markdown",
   "id": "ae72b264-934a-4aba-a7ec-34aae88ef976",
   "metadata": {
    "tags": []
   },
   "source": [
    "# khm dhs10"
   ]
  },
  {
   "cell_type": "markdown",
   "id": "2701e7d5-bdca-438f-a63d-cf6d27cf82c9",
   "metadata": {},
   "source": [
    "### read in data"
   ]
  },
  {
   "cell_type": "markdown",
   "id": "99a09029-658b-433e-bd10-7e79dc5a3f8f",
   "metadata": {},
   "source": [
    "#### processed microdata pre (de jure and) subsample dropping"
   ]
  },
  {
   "cell_type": "code",
   "execution_count": 17,
   "id": "4bb139c8-ce11-4cd6-86a0-941c99ff0619",
   "metadata": {},
   "outputs": [],
   "source": [
    "YY = '10'\n",
    "survey = f'khm_dhs{YY}_cot'"
   ]
  },
  {
   "cell_type": "code",
   "execution_count": 18,
   "id": "74443edd-f0b6-4827-9a84-8d5ea14e1eca",
   "metadata": {},
   "outputs": [],
   "source": [
    "df = pd.read_stata(\n",
    "        datafd_path / survey / f'KHM{YY}_merged.dta'\n",
    ") "
   ]
  },
  {
   "cell_type": "code",
   "execution_count": 19,
   "id": "14363249-7397-4b53-a31b-4df96f437f68",
   "metadata": {
    "tags": []
   },
   "outputs": [
    {
     "data": {
      "text/html": [
       "<div>\n",
       "<style scoped>\n",
       "    .dataframe tbody tr th:only-of-type {\n",
       "        vertical-align: middle;\n",
       "    }\n",
       "\n",
       "    .dataframe tbody tr th {\n",
       "        vertical-align: top;\n",
       "    }\n",
       "\n",
       "    .dataframe thead th {\n",
       "        text-align: right;\n",
       "    }\n",
       "</style>\n",
       "<table border=\"1\" class=\"dataframe\">\n",
       "  <thead>\n",
       "    <tr style=\"text-align: right;\">\n",
       "      <th></th>\n",
       "      <th>hhid</th>\n",
       "      <th>hvidx</th>\n",
       "      <th>hv000</th>\n",
       "      <th>hv001</th>\n",
       "      <th>hv002</th>\n",
       "      <th>hv003</th>\n",
       "      <th>hv004</th>\n",
       "      <th>hv005</th>\n",
       "      <th>hv006</th>\n",
       "      <th>hv007</th>\n",
       "      <th>...</th>\n",
       "      <th>age_month_b</th>\n",
       "      <th>low_bmiage_b</th>\n",
       "      <th>low_bmiage_b_u</th>\n",
       "      <th>weight_ch</th>\n",
       "      <th>underweight</th>\n",
       "      <th>underweight_u</th>\n",
       "      <th>stunting</th>\n",
       "      <th>stunting_u</th>\n",
       "      <th>wasting</th>\n",
       "      <th>wasting_u</th>\n",
       "    </tr>\n",
       "  </thead>\n",
       "  <tbody>\n",
       "    <tr>\n",
       "      <th>0</th>\n",
       "      <td>1  1</td>\n",
       "      <td>1</td>\n",
       "      <td>KH5</td>\n",
       "      <td>1</td>\n",
       "      <td>1</td>\n",
       "      <td>4</td>\n",
       "      <td>1</td>\n",
       "      <td>417320</td>\n",
       "      <td>8</td>\n",
       "      <td>2010</td>\n",
       "      <td>...</td>\n",
       "      <td>NaN</td>\n",
       "      <td>NaN</td>\n",
       "      <td>NaN</td>\n",
       "      <td>NaN</td>\n",
       "      <td>NaN</td>\n",
       "      <td>NaN</td>\n",
       "      <td>NaN</td>\n",
       "      <td>NaN</td>\n",
       "      <td>NaN</td>\n",
       "      <td>NaN</td>\n",
       "    </tr>\n",
       "    <tr>\n",
       "      <th>1</th>\n",
       "      <td>1  1</td>\n",
       "      <td>2</td>\n",
       "      <td>KH5</td>\n",
       "      <td>1</td>\n",
       "      <td>1</td>\n",
       "      <td>4</td>\n",
       "      <td>1</td>\n",
       "      <td>417320</td>\n",
       "      <td>8</td>\n",
       "      <td>2010</td>\n",
       "      <td>...</td>\n",
       "      <td>NaN</td>\n",
       "      <td>NaN</td>\n",
       "      <td>NaN</td>\n",
       "      <td>NaN</td>\n",
       "      <td>NaN</td>\n",
       "      <td>NaN</td>\n",
       "      <td>NaN</td>\n",
       "      <td>NaN</td>\n",
       "      <td>NaN</td>\n",
       "      <td>NaN</td>\n",
       "    </tr>\n",
       "    <tr>\n",
       "      <th>2</th>\n",
       "      <td>1  1</td>\n",
       "      <td>3</td>\n",
       "      <td>KH5</td>\n",
       "      <td>1</td>\n",
       "      <td>1</td>\n",
       "      <td>4</td>\n",
       "      <td>1</td>\n",
       "      <td>417320</td>\n",
       "      <td>8</td>\n",
       "      <td>2010</td>\n",
       "      <td>...</td>\n",
       "      <td>NaN</td>\n",
       "      <td>NaN</td>\n",
       "      <td>NaN</td>\n",
       "      <td>NaN</td>\n",
       "      <td>NaN</td>\n",
       "      <td>NaN</td>\n",
       "      <td>NaN</td>\n",
       "      <td>NaN</td>\n",
       "      <td>NaN</td>\n",
       "      <td>NaN</td>\n",
       "    </tr>\n",
       "    <tr>\n",
       "      <th>3</th>\n",
       "      <td>1  1</td>\n",
       "      <td>4</td>\n",
       "      <td>KH5</td>\n",
       "      <td>1</td>\n",
       "      <td>1</td>\n",
       "      <td>4</td>\n",
       "      <td>1</td>\n",
       "      <td>417320</td>\n",
       "      <td>8</td>\n",
       "      <td>2010</td>\n",
       "      <td>...</td>\n",
       "      <td>NaN</td>\n",
       "      <td>NaN</td>\n",
       "      <td>NaN</td>\n",
       "      <td>NaN</td>\n",
       "      <td>NaN</td>\n",
       "      <td>NaN</td>\n",
       "      <td>NaN</td>\n",
       "      <td>NaN</td>\n",
       "      <td>NaN</td>\n",
       "      <td>NaN</td>\n",
       "    </tr>\n",
       "    <tr>\n",
       "      <th>4</th>\n",
       "      <td>1  1</td>\n",
       "      <td>5</td>\n",
       "      <td>KH5</td>\n",
       "      <td>1</td>\n",
       "      <td>1</td>\n",
       "      <td>4</td>\n",
       "      <td>1</td>\n",
       "      <td>417320</td>\n",
       "      <td>8</td>\n",
       "      <td>2010</td>\n",
       "      <td>...</td>\n",
       "      <td>NaN</td>\n",
       "      <td>NaN</td>\n",
       "      <td>NaN</td>\n",
       "      <td>0.41732</td>\n",
       "      <td>0.0</td>\n",
       "      <td>0.0</td>\n",
       "      <td>0.0</td>\n",
       "      <td>0.0</td>\n",
       "      <td>0.0</td>\n",
       "      <td>0.0</td>\n",
       "    </tr>\n",
       "    <tr>\n",
       "      <th>...</th>\n",
       "      <td>...</td>\n",
       "      <td>...</td>\n",
       "      <td>...</td>\n",
       "      <td>...</td>\n",
       "      <td>...</td>\n",
       "      <td>...</td>\n",
       "      <td>...</td>\n",
       "      <td>...</td>\n",
       "      <td>...</td>\n",
       "      <td>...</td>\n",
       "      <td>...</td>\n",
       "      <td>...</td>\n",
       "      <td>...</td>\n",
       "      <td>...</td>\n",
       "      <td>...</td>\n",
       "      <td>...</td>\n",
       "      <td>...</td>\n",
       "      <td>...</td>\n",
       "      <td>...</td>\n",
       "      <td>...</td>\n",
       "      <td>...</td>\n",
       "    </tr>\n",
       "    <tr>\n",
       "      <th>76915</th>\n",
       "      <td>611 45</td>\n",
       "      <td>2</td>\n",
       "      <td>KH5</td>\n",
       "      <td>611</td>\n",
       "      <td>45</td>\n",
       "      <td>2</td>\n",
       "      <td>611</td>\n",
       "      <td>1503820</td>\n",
       "      <td>11</td>\n",
       "      <td>2010</td>\n",
       "      <td>...</td>\n",
       "      <td>NaN</td>\n",
       "      <td>NaN</td>\n",
       "      <td>NaN</td>\n",
       "      <td>NaN</td>\n",
       "      <td>NaN</td>\n",
       "      <td>NaN</td>\n",
       "      <td>NaN</td>\n",
       "      <td>NaN</td>\n",
       "      <td>NaN</td>\n",
       "      <td>NaN</td>\n",
       "    </tr>\n",
       "    <tr>\n",
       "      <th>76916</th>\n",
       "      <td>611 45</td>\n",
       "      <td>3</td>\n",
       "      <td>KH5</td>\n",
       "      <td>611</td>\n",
       "      <td>45</td>\n",
       "      <td>2</td>\n",
       "      <td>611</td>\n",
       "      <td>1503820</td>\n",
       "      <td>11</td>\n",
       "      <td>2010</td>\n",
       "      <td>...</td>\n",
       "      <td>NaN</td>\n",
       "      <td>NaN</td>\n",
       "      <td>NaN</td>\n",
       "      <td>NaN</td>\n",
       "      <td>NaN</td>\n",
       "      <td>NaN</td>\n",
       "      <td>NaN</td>\n",
       "      <td>NaN</td>\n",
       "      <td>NaN</td>\n",
       "      <td>NaN</td>\n",
       "    </tr>\n",
       "    <tr>\n",
       "      <th>76917</th>\n",
       "      <td>611 45</td>\n",
       "      <td>4</td>\n",
       "      <td>KH5</td>\n",
       "      <td>611</td>\n",
       "      <td>45</td>\n",
       "      <td>2</td>\n",
       "      <td>611</td>\n",
       "      <td>1503820</td>\n",
       "      <td>11</td>\n",
       "      <td>2010</td>\n",
       "      <td>...</td>\n",
       "      <td>NaN</td>\n",
       "      <td>NaN</td>\n",
       "      <td>NaN</td>\n",
       "      <td>NaN</td>\n",
       "      <td>NaN</td>\n",
       "      <td>NaN</td>\n",
       "      <td>NaN</td>\n",
       "      <td>NaN</td>\n",
       "      <td>NaN</td>\n",
       "      <td>NaN</td>\n",
       "    </tr>\n",
       "    <tr>\n",
       "      <th>76918</th>\n",
       "      <td>611 45</td>\n",
       "      <td>5</td>\n",
       "      <td>KH5</td>\n",
       "      <td>611</td>\n",
       "      <td>45</td>\n",
       "      <td>2</td>\n",
       "      <td>611</td>\n",
       "      <td>1503820</td>\n",
       "      <td>11</td>\n",
       "      <td>2010</td>\n",
       "      <td>...</td>\n",
       "      <td>NaN</td>\n",
       "      <td>NaN</td>\n",
       "      <td>NaN</td>\n",
       "      <td>NaN</td>\n",
       "      <td>NaN</td>\n",
       "      <td>NaN</td>\n",
       "      <td>NaN</td>\n",
       "      <td>NaN</td>\n",
       "      <td>NaN</td>\n",
       "      <td>NaN</td>\n",
       "    </tr>\n",
       "    <tr>\n",
       "      <th>76919</th>\n",
       "      <td>611 45</td>\n",
       "      <td>6</td>\n",
       "      <td>KH5</td>\n",
       "      <td>611</td>\n",
       "      <td>45</td>\n",
       "      <td>2</td>\n",
       "      <td>611</td>\n",
       "      <td>1503820</td>\n",
       "      <td>11</td>\n",
       "      <td>2010</td>\n",
       "      <td>...</td>\n",
       "      <td>NaN</td>\n",
       "      <td>NaN</td>\n",
       "      <td>NaN</td>\n",
       "      <td>NaN</td>\n",
       "      <td>NaN</td>\n",
       "      <td>NaN</td>\n",
       "      <td>NaN</td>\n",
       "      <td>NaN</td>\n",
       "      <td>NaN</td>\n",
       "      <td>NaN</td>\n",
       "    </tr>\n",
       "  </tbody>\n",
       "</table>\n",
       "<p>76920 rows × 363 columns</p>\n",
       "</div>"
      ],
      "text/plain": [
       "               hhid  hvidx hv000  hv001  hv002  hv003  hv004    hv005  hv006  \\\n",
       "0              1  1      1   KH5      1      1      4      1   417320      8   \n",
       "1              1  1      2   KH5      1      1      4      1   417320      8   \n",
       "2              1  1      3   KH5      1      1      4      1   417320      8   \n",
       "3              1  1      4   KH5      1      1      4      1   417320      8   \n",
       "4              1  1      5   KH5      1      1      4      1   417320      8   \n",
       "...             ...    ...   ...    ...    ...    ...    ...      ...    ...   \n",
       "76915        611 45      2   KH5    611     45      2    611  1503820     11   \n",
       "76916        611 45      3   KH5    611     45      2    611  1503820     11   \n",
       "76917        611 45      4   KH5    611     45      2    611  1503820     11   \n",
       "76918        611 45      5   KH5    611     45      2    611  1503820     11   \n",
       "76919        611 45      6   KH5    611     45      2    611  1503820     11   \n",
       "\n",
       "       hv007  ...  age_month_b  low_bmiage_b  low_bmiage_b_u  weight_ch  \\\n",
       "0       2010  ...          NaN           NaN             NaN        NaN   \n",
       "1       2010  ...          NaN           NaN             NaN        NaN   \n",
       "2       2010  ...          NaN           NaN             NaN        NaN   \n",
       "3       2010  ...          NaN           NaN             NaN        NaN   \n",
       "4       2010  ...          NaN           NaN             NaN    0.41732   \n",
       "...      ...  ...          ...           ...             ...        ...   \n",
       "76915   2010  ...          NaN           NaN             NaN        NaN   \n",
       "76916   2010  ...          NaN           NaN             NaN        NaN   \n",
       "76917   2010  ...          NaN           NaN             NaN        NaN   \n",
       "76918   2010  ...          NaN           NaN             NaN        NaN   \n",
       "76919   2010  ...          NaN           NaN             NaN        NaN   \n",
       "\n",
       "       underweight  underweight_u  stunting stunting_u  wasting  wasting_u  \n",
       "0              NaN            NaN       NaN        NaN      NaN        NaN  \n",
       "1              NaN            NaN       NaN        NaN      NaN        NaN  \n",
       "2              NaN            NaN       NaN        NaN      NaN        NaN  \n",
       "3              NaN            NaN       NaN        NaN      NaN        NaN  \n",
       "4              0.0            0.0       0.0        0.0      0.0        0.0  \n",
       "...            ...            ...       ...        ...      ...        ...  \n",
       "76915          NaN            NaN       NaN        NaN      NaN        NaN  \n",
       "76916          NaN            NaN       NaN        NaN      NaN        NaN  \n",
       "76917          NaN            NaN       NaN        NaN      NaN        NaN  \n",
       "76918          NaN            NaN       NaN        NaN      NaN        NaN  \n",
       "76919          NaN            NaN       NaN        NaN      NaN        NaN  \n",
       "\n",
       "[76920 rows x 363 columns]"
      ]
     },
     "execution_count": 19,
     "metadata": {},
     "output_type": "execute_result"
    }
   ],
   "source": [
    "df"
   ]
  },
  {
   "cell_type": "code",
   "execution_count": 20,
   "id": "841abba8-3b48-4aa2-96ba-157644e54f9e",
   "metadata": {},
   "outputs": [
    {
     "data": {
      "text/plain": [
       "not selected    38663\n",
       "selected        38257\n",
       "Name: hv042, dtype: int64"
      ]
     },
     "execution_count": 20,
     "metadata": {},
     "output_type": "execute_result"
    }
   ],
   "source": [
    "df.hv042.value_counts()  # household selected for anthropometric measures"
   ]
  },
  {
   "cell_type": "code",
   "execution_count": 21,
   "id": "e64ce251-607b-4eea-9dbe-d99aacc660c3",
   "metadata": {},
   "outputs": [
    {
     "name": "stderr",
     "output_type": "stream",
     "text": [
      "C:\\Users\\tianc\\AppData\\Local\\Temp\\ipykernel_21336\\2365061199.py:1: PerformanceWarning: DataFrame is highly fragmented.  This is usually the result of calling `frame.insert` many times, which has poor performance.  Consider joining all columns at once using pd.concat(axis=1) instead. To get a de-fragmented frame, use `newframe = frame.copy()`\n",
      "  df['subsample'] = (df.hv042 == 'selected').astype(int)\n"
     ]
    }
   ],
   "source": [
    "df['subsample'] = (df.hv042 == 'selected').astype(int)"
   ]
  },
  {
   "cell_type": "code",
   "execution_count": 22,
   "id": "a8b9f97b-d2b0-40c1-aed5-d75682e969d9",
   "metadata": {},
   "outputs": [
    {
     "data": {
      "text/plain": [
       "0    38663\n",
       "1    38257\n",
       "Name: subsample, dtype: int64"
      ]
     },
     "execution_count": 22,
     "metadata": {},
     "output_type": "execute_result"
    }
   ],
   "source": [
    "df.subsample.value_counts()"
   ]
  },
  {
   "cell_type": "code",
   "execution_count": 23,
   "id": "6f80900e-2ebe-4f86-8506-bac966962a60",
   "metadata": {},
   "outputs": [
    {
     "data": {
      "text/plain": [
       "15667"
      ]
     },
     "execution_count": 23,
     "metadata": {},
     "output_type": "execute_result"
    }
   ],
   "source": [
    "df.hh_id.nunique()"
   ]
  },
  {
   "cell_type": "code",
   "execution_count": 24,
   "id": "3cf27917-7ccb-463a-be93-4d32b2cd4a72",
   "metadata": {},
   "outputs": [
    {
     "data": {
      "text/plain": [
       "611"
      ]
     },
     "execution_count": 24,
     "metadata": {},
     "output_type": "execute_result"
    }
   ],
   "source": [
    "df.hv001.nunique()  # cluster number"
   ]
  },
  {
   "cell_type": "code",
   "execution_count": 25,
   "id": "bac3717a-c96e-4a86-972a-721b44a354fd",
   "metadata": {},
   "outputs": [],
   "source": [
    "# All household members share the same subsample status - selected or not\n",
    "n_uniq_per_hh = df.groupby('hh_id')['subsample'].nunique()\n",
    "assert all(n_uniq_per_hh == 1)"
   ]
  },
  {
   "cell_type": "code",
   "execution_count": 26,
   "id": "443c2e3e-66b2-471c-b6a9-2371273ffcc0",
   "metadata": {},
   "outputs": [
    {
     "data": {
      "text/html": [
       "<div>\n",
       "<style scoped>\n",
       "    .dataframe tbody tr th:only-of-type {\n",
       "        vertical-align: middle;\n",
       "    }\n",
       "\n",
       "    .dataframe tbody tr th {\n",
       "        vertical-align: top;\n",
       "    }\n",
       "\n",
       "    .dataframe thead th {\n",
       "        text-align: right;\n",
       "    }\n",
       "</style>\n",
       "<table border=\"1\" class=\"dataframe\">\n",
       "  <thead>\n",
       "    <tr style=\"text-align: right;\">\n",
       "      <th></th>\n",
       "      <th>hv001</th>\n",
       "      <th>hh_id</th>\n",
       "      <th>subsample</th>\n",
       "    </tr>\n",
       "  </thead>\n",
       "  <tbody>\n",
       "    <tr>\n",
       "      <th>0</th>\n",
       "      <td>1</td>\n",
       "      <td>10001.0</td>\n",
       "      <td>1</td>\n",
       "    </tr>\n",
       "    <tr>\n",
       "      <th>1</th>\n",
       "      <td>1</td>\n",
       "      <td>10002.0</td>\n",
       "      <td>0</td>\n",
       "    </tr>\n",
       "    <tr>\n",
       "      <th>2</th>\n",
       "      <td>1</td>\n",
       "      <td>10003.0</td>\n",
       "      <td>1</td>\n",
       "    </tr>\n",
       "    <tr>\n",
       "      <th>3</th>\n",
       "      <td>1</td>\n",
       "      <td>10004.0</td>\n",
       "      <td>0</td>\n",
       "    </tr>\n",
       "    <tr>\n",
       "      <th>4</th>\n",
       "      <td>1</td>\n",
       "      <td>10005.0</td>\n",
       "      <td>1</td>\n",
       "    </tr>\n",
       "    <tr>\n",
       "      <th>...</th>\n",
       "      <td>...</td>\n",
       "      <td>...</td>\n",
       "      <td>...</td>\n",
       "    </tr>\n",
       "    <tr>\n",
       "      <th>15662</th>\n",
       "      <td>611</td>\n",
       "      <td>6110038.0</td>\n",
       "      <td>0</td>\n",
       "    </tr>\n",
       "    <tr>\n",
       "      <th>15663</th>\n",
       "      <td>611</td>\n",
       "      <td>6110040.0</td>\n",
       "      <td>1</td>\n",
       "    </tr>\n",
       "    <tr>\n",
       "      <th>15664</th>\n",
       "      <td>611</td>\n",
       "      <td>6110041.0</td>\n",
       "      <td>0</td>\n",
       "    </tr>\n",
       "    <tr>\n",
       "      <th>15665</th>\n",
       "      <td>611</td>\n",
       "      <td>6110043.0</td>\n",
       "      <td>1</td>\n",
       "    </tr>\n",
       "    <tr>\n",
       "      <th>15666</th>\n",
       "      <td>611</td>\n",
       "      <td>6110045.0</td>\n",
       "      <td>0</td>\n",
       "    </tr>\n",
       "  </tbody>\n",
       "</table>\n",
       "<p>15667 rows × 3 columns</p>\n",
       "</div>"
      ],
      "text/plain": [
       "       hv001      hh_id  subsample\n",
       "0          1    10001.0          1\n",
       "1          1    10002.0          0\n",
       "2          1    10003.0          1\n",
       "3          1    10004.0          0\n",
       "4          1    10005.0          1\n",
       "...      ...        ...        ...\n",
       "15662    611  6110038.0          0\n",
       "15663    611  6110040.0          1\n",
       "15664    611  6110041.0          0\n",
       "15665    611  6110043.0          1\n",
       "15666    611  6110045.0          0\n",
       "\n",
       "[15667 rows x 3 columns]"
      ]
     },
     "execution_count": 26,
     "metadata": {},
     "output_type": "execute_result"
    }
   ],
   "source": [
    "df_hh = df.groupby(['hv001', 'hh_id'])['subsample'].first().reset_index()\n",
    "df_hh"
   ]
  },
  {
   "cell_type": "code",
   "execution_count": 27,
   "id": "3285ce9a-9a7b-47c8-9b37-dec08518c4cb",
   "metadata": {},
   "outputs": [],
   "source": [
    "perc_hh_subsampled = df_hh.groupby('hv001')['subsample'].mean()"
   ]
  },
  {
   "cell_type": "code",
   "execution_count": 28,
   "id": "6716bb92-c946-42b0-b066-4cce64a1061e",
   "metadata": {},
   "outputs": [
    {
     "data": {
      "text/plain": [
       "hv001\n",
       "310    0.428571\n",
       "68     0.440000\n",
       "351    0.440000\n",
       "585    0.440000\n",
       "604    0.440000\n",
       "         ...   \n",
       "247    0.560000\n",
       "395    0.565217\n",
       "71     0.571429\n",
       "601    0.578947\n",
       "454    0.600000\n",
       "Name: subsample, Length: 611, dtype: float64"
      ]
     },
     "execution_count": 28,
     "metadata": {},
     "output_type": "execute_result"
    }
   ],
   "source": [
    "perc_hh_subsampled.sort_values()"
   ]
  },
  {
   "cell_type": "code",
   "execution_count": 29,
   "id": "bf42010a-fe50-493a-9bd9-f89a36e7c145",
   "metadata": {},
   "outputs": [
    {
     "data": {
      "text/plain": [
       "<AxesSubplot:>"
      ]
     },
     "execution_count": 29,
     "metadata": {},
     "output_type": "execute_result"
    },
    {
     "data": {
      "image/png": "[encoded data removed]",
      "text/plain": [
       "<Figure size 640x480 with 1 Axes>"
      ]
     },
     "metadata": {},
     "output_type": "display_data"
    }
   ],
   "source": [
    "perc_hh_subsampled.hist(bins=14)"
   ]
  },
  {
   "cell_type": "code",
   "execution_count": 30,
   "id": "e5cb6ca1-8229-49ab-934d-a988a32372af",
   "metadata": {},
   "outputs": [],
   "source": [
    "expected_perc = 0.5\n",
    "allowed_err = 0.05"
   ]
  },
  {
   "cell_type": "code",
   "execution_count": 31,
   "id": "0c6f4add-a3e7-4954-9658-57256a40656d",
   "metadata": {},
   "outputs": [
    {
     "data": {
      "text/plain": [
       "0.9754500818330606"
      ]
     },
     "execution_count": 31,
     "metadata": {},
     "output_type": "execute_result"
    }
   ],
   "source": [
    "np.mean(\n",
    "    (perc_hh_subsampled > (expected_perc - allowed_err)) & (perc_hh_subsampled < (expected_perc + allowed_err))\n",
    ")"
   ]
  },
  {
   "cell_type": "markdown",
   "id": "6bebc281-fc3c-41bd-9a08-d58207cb40c6",
   "metadata": {
    "tags": []
   },
   "source": [
    "# khm dhs14"
   ]
  },
  {
   "cell_type": "markdown",
   "id": "0cf5e2c1-10dd-4c00-a301-8f2c002fc821",
   "metadata": {},
   "source": [
    "### read in data"
   ]
  },
  {
   "cell_type": "markdown",
   "id": "45e22b50-2fb5-4c7b-b210-d9a5fe699a8a",
   "metadata": {},
   "source": [
    "#### processed microdata pre (de jure and) subsample dropping"
   ]
  },
  {
   "cell_type": "code",
   "execution_count": 32,
   "id": "a274146c-b8d3-4cd6-8f4b-b040b46741cc",
   "metadata": {},
   "outputs": [],
   "source": [
    "YY = '14'\n",
    "survey = f'khm_dhs{YY}_cot'"
   ]
  },
  {
   "cell_type": "code",
   "execution_count": 33,
   "id": "de227dbe-c3ed-47b6-9b98-9b97c34340fb",
   "metadata": {},
   "outputs": [],
   "source": [
    "df = pd.read_stata(\n",
    "        datafd_path / survey / f'KHM{YY}_merged.dta'\n",
    ") "
   ]
  },
  {
   "cell_type": "code",
   "execution_count": 34,
   "id": "193cbfc2-987d-486f-8d00-e8ef5865b5dd",
   "metadata": {
    "tags": []
   },
   "outputs": [
    {
     "data": {
      "text/html": [
       "<div>\n",
       "<style scoped>\n",
       "    .dataframe tbody tr th:only-of-type {\n",
       "        vertical-align: middle;\n",
       "    }\n",
       "\n",
       "    .dataframe tbody tr th {\n",
       "        vertical-align: top;\n",
       "    }\n",
       "\n",
       "    .dataframe thead th {\n",
       "        text-align: right;\n",
       "    }\n",
       "</style>\n",
       "<table border=\"1\" class=\"dataframe\">\n",
       "  <thead>\n",
       "    <tr style=\"text-align: right;\">\n",
       "      <th></th>\n",
       "      <th>hhid</th>\n",
       "      <th>hvidx</th>\n",
       "      <th>hv000</th>\n",
       "      <th>hv001</th>\n",
       "      <th>hv002</th>\n",
       "      <th>hv003</th>\n",
       "      <th>hv004</th>\n",
       "      <th>hv005</th>\n",
       "      <th>hv006</th>\n",
       "      <th>hv007</th>\n",
       "      <th>...</th>\n",
       "      <th>low_bmiage_b</th>\n",
       "      <th>low_bmiage_b_u</th>\n",
       "      <th>child_PR</th>\n",
       "      <th>weight_ch</th>\n",
       "      <th>underweight</th>\n",
       "      <th>underweight_u</th>\n",
       "      <th>stunting</th>\n",
       "      <th>stunting_u</th>\n",
       "      <th>wasting</th>\n",
       "      <th>wasting_u</th>\n",
       "    </tr>\n",
       "  </thead>\n",
       "  <tbody>\n",
       "    <tr>\n",
       "      <th>0</th>\n",
       "      <td>1 1</td>\n",
       "      <td>1</td>\n",
       "      <td>KH6</td>\n",
       "      <td>1</td>\n",
       "      <td>1</td>\n",
       "      <td>1</td>\n",
       "      <td>1</td>\n",
       "      <td>1303385</td>\n",
       "      <td>7</td>\n",
       "      <td>2014</td>\n",
       "      <td>...</td>\n",
       "      <td>NaN</td>\n",
       "      <td>NaN</td>\n",
       "      <td>NaN</td>\n",
       "      <td>NaN</td>\n",
       "      <td>NaN</td>\n",
       "      <td>NaN</td>\n",
       "      <td>NaN</td>\n",
       "      <td>NaN</td>\n",
       "      <td>NaN</td>\n",
       "      <td>NaN</td>\n",
       "    </tr>\n",
       "    <tr>\n",
       "      <th>1</th>\n",
       "      <td>1 1</td>\n",
       "      <td>2</td>\n",
       "      <td>KH6</td>\n",
       "      <td>1</td>\n",
       "      <td>1</td>\n",
       "      <td>1</td>\n",
       "      <td>1</td>\n",
       "      <td>1303385</td>\n",
       "      <td>7</td>\n",
       "      <td>2014</td>\n",
       "      <td>...</td>\n",
       "      <td>NaN</td>\n",
       "      <td>NaN</td>\n",
       "      <td>NaN</td>\n",
       "      <td>NaN</td>\n",
       "      <td>NaN</td>\n",
       "      <td>NaN</td>\n",
       "      <td>NaN</td>\n",
       "      <td>NaN</td>\n",
       "      <td>NaN</td>\n",
       "      <td>NaN</td>\n",
       "    </tr>\n",
       "    <tr>\n",
       "      <th>2</th>\n",
       "      <td>1 1</td>\n",
       "      <td>3</td>\n",
       "      <td>KH6</td>\n",
       "      <td>1</td>\n",
       "      <td>1</td>\n",
       "      <td>1</td>\n",
       "      <td>1</td>\n",
       "      <td>1303385</td>\n",
       "      <td>7</td>\n",
       "      <td>2014</td>\n",
       "      <td>...</td>\n",
       "      <td>NaN</td>\n",
       "      <td>NaN</td>\n",
       "      <td>NaN</td>\n",
       "      <td>NaN</td>\n",
       "      <td>NaN</td>\n",
       "      <td>NaN</td>\n",
       "      <td>NaN</td>\n",
       "      <td>NaN</td>\n",
       "      <td>NaN</td>\n",
       "      <td>NaN</td>\n",
       "    </tr>\n",
       "    <tr>\n",
       "      <th>3</th>\n",
       "      <td>1 1</td>\n",
       "      <td>4</td>\n",
       "      <td>KH6</td>\n",
       "      <td>1</td>\n",
       "      <td>1</td>\n",
       "      <td>1</td>\n",
       "      <td>1</td>\n",
       "      <td>1303385</td>\n",
       "      <td>7</td>\n",
       "      <td>2014</td>\n",
       "      <td>...</td>\n",
       "      <td>NaN</td>\n",
       "      <td>NaN</td>\n",
       "      <td>NaN</td>\n",
       "      <td>NaN</td>\n",
       "      <td>NaN</td>\n",
       "      <td>NaN</td>\n",
       "      <td>NaN</td>\n",
       "      <td>NaN</td>\n",
       "      <td>NaN</td>\n",
       "      <td>NaN</td>\n",
       "    </tr>\n",
       "    <tr>\n",
       "      <th>4</th>\n",
       "      <td>1 2</td>\n",
       "      <td>1</td>\n",
       "      <td>KH6</td>\n",
       "      <td>1</td>\n",
       "      <td>2</td>\n",
       "      <td>1</td>\n",
       "      <td>1</td>\n",
       "      <td>1303385</td>\n",
       "      <td>7</td>\n",
       "      <td>2014</td>\n",
       "      <td>...</td>\n",
       "      <td>NaN</td>\n",
       "      <td>NaN</td>\n",
       "      <td>NaN</td>\n",
       "      <td>NaN</td>\n",
       "      <td>NaN</td>\n",
       "      <td>NaN</td>\n",
       "      <td>NaN</td>\n",
       "      <td>NaN</td>\n",
       "      <td>NaN</td>\n",
       "      <td>NaN</td>\n",
       "    </tr>\n",
       "    <tr>\n",
       "      <th>...</th>\n",
       "      <td>...</td>\n",
       "      <td>...</td>\n",
       "      <td>...</td>\n",
       "      <td>...</td>\n",
       "      <td>...</td>\n",
       "      <td>...</td>\n",
       "      <td>...</td>\n",
       "      <td>...</td>\n",
       "      <td>...</td>\n",
       "      <td>...</td>\n",
       "      <td>...</td>\n",
       "      <td>...</td>\n",
       "      <td>...</td>\n",
       "      <td>...</td>\n",
       "      <td>...</td>\n",
       "      <td>...</td>\n",
       "      <td>...</td>\n",
       "      <td>...</td>\n",
       "      <td>...</td>\n",
       "      <td>...</td>\n",
       "      <td>...</td>\n",
       "    </tr>\n",
       "    <tr>\n",
       "      <th>74117</th>\n",
       "      <td>61128</td>\n",
       "      <td>1</td>\n",
       "      <td>KH6</td>\n",
       "      <td>611</td>\n",
       "      <td>28</td>\n",
       "      <td>1</td>\n",
       "      <td>611</td>\n",
       "      <td>600033</td>\n",
       "      <td>6</td>\n",
       "      <td>2014</td>\n",
       "      <td>...</td>\n",
       "      <td>NaN</td>\n",
       "      <td>NaN</td>\n",
       "      <td>NaN</td>\n",
       "      <td>NaN</td>\n",
       "      <td>NaN</td>\n",
       "      <td>NaN</td>\n",
       "      <td>NaN</td>\n",
       "      <td>NaN</td>\n",
       "      <td>NaN</td>\n",
       "      <td>NaN</td>\n",
       "    </tr>\n",
       "    <tr>\n",
       "      <th>74118</th>\n",
       "      <td>61128</td>\n",
       "      <td>2</td>\n",
       "      <td>KH6</td>\n",
       "      <td>611</td>\n",
       "      <td>28</td>\n",
       "      <td>1</td>\n",
       "      <td>611</td>\n",
       "      <td>600033</td>\n",
       "      <td>6</td>\n",
       "      <td>2014</td>\n",
       "      <td>...</td>\n",
       "      <td>NaN</td>\n",
       "      <td>NaN</td>\n",
       "      <td>NaN</td>\n",
       "      <td>NaN</td>\n",
       "      <td>NaN</td>\n",
       "      <td>NaN</td>\n",
       "      <td>NaN</td>\n",
       "      <td>NaN</td>\n",
       "      <td>NaN</td>\n",
       "      <td>NaN</td>\n",
       "    </tr>\n",
       "    <tr>\n",
       "      <th>74119</th>\n",
       "      <td>61128</td>\n",
       "      <td>3</td>\n",
       "      <td>KH6</td>\n",
       "      <td>611</td>\n",
       "      <td>28</td>\n",
       "      <td>1</td>\n",
       "      <td>611</td>\n",
       "      <td>600033</td>\n",
       "      <td>6</td>\n",
       "      <td>2014</td>\n",
       "      <td>...</td>\n",
       "      <td>NaN</td>\n",
       "      <td>NaN</td>\n",
       "      <td>NaN</td>\n",
       "      <td>NaN</td>\n",
       "      <td>NaN</td>\n",
       "      <td>NaN</td>\n",
       "      <td>NaN</td>\n",
       "      <td>NaN</td>\n",
       "      <td>NaN</td>\n",
       "      <td>NaN</td>\n",
       "    </tr>\n",
       "    <tr>\n",
       "      <th>74120</th>\n",
       "      <td>61128</td>\n",
       "      <td>4</td>\n",
       "      <td>KH6</td>\n",
       "      <td>611</td>\n",
       "      <td>28</td>\n",
       "      <td>1</td>\n",
       "      <td>611</td>\n",
       "      <td>600033</td>\n",
       "      <td>6</td>\n",
       "      <td>2014</td>\n",
       "      <td>...</td>\n",
       "      <td>NaN</td>\n",
       "      <td>NaN</td>\n",
       "      <td>NaN</td>\n",
       "      <td>NaN</td>\n",
       "      <td>NaN</td>\n",
       "      <td>NaN</td>\n",
       "      <td>NaN</td>\n",
       "      <td>NaN</td>\n",
       "      <td>NaN</td>\n",
       "      <td>NaN</td>\n",
       "    </tr>\n",
       "    <tr>\n",
       "      <th>74121</th>\n",
       "      <td>61128</td>\n",
       "      <td>5</td>\n",
       "      <td>KH6</td>\n",
       "      <td>611</td>\n",
       "      <td>28</td>\n",
       "      <td>1</td>\n",
       "      <td>611</td>\n",
       "      <td>600033</td>\n",
       "      <td>6</td>\n",
       "      <td>2014</td>\n",
       "      <td>...</td>\n",
       "      <td>NaN</td>\n",
       "      <td>NaN</td>\n",
       "      <td>NaN</td>\n",
       "      <td>NaN</td>\n",
       "      <td>NaN</td>\n",
       "      <td>NaN</td>\n",
       "      <td>NaN</td>\n",
       "      <td>NaN</td>\n",
       "      <td>NaN</td>\n",
       "      <td>NaN</td>\n",
       "    </tr>\n",
       "  </tbody>\n",
       "</table>\n",
       "<p>74122 rows × 356 columns</p>\n",
       "</div>"
      ],
      "text/plain": [
       "               hhid  hvidx hv000  hv001  hv002 hv003  hv004    hv005  hv006  \\\n",
       "0               1 1      1   KH6      1      1     1      1  1303385      7   \n",
       "1               1 1      2   KH6      1      1     1      1  1303385      7   \n",
       "2               1 1      3   KH6      1      1     1      1  1303385      7   \n",
       "3               1 1      4   KH6      1      1     1      1  1303385      7   \n",
       "4               1 2      1   KH6      1      2     1      1  1303385      7   \n",
       "...             ...    ...   ...    ...    ...   ...    ...      ...    ...   \n",
       "74117         61128      1   KH6    611     28     1    611   600033      6   \n",
       "74118         61128      2   KH6    611     28     1    611   600033      6   \n",
       "74119         61128      3   KH6    611     28     1    611   600033      6   \n",
       "74120         61128      4   KH6    611     28     1    611   600033      6   \n",
       "74121         61128      5   KH6    611     28     1    611   600033      6   \n",
       "\n",
       "       hv007  ...  low_bmiage_b  low_bmiage_b_u  child_PR  weight_ch  \\\n",
       "0       2014  ...           NaN             NaN       NaN        NaN   \n",
       "1       2014  ...           NaN             NaN       NaN        NaN   \n",
       "2       2014  ...           NaN             NaN       NaN        NaN   \n",
       "3       2014  ...           NaN             NaN       NaN        NaN   \n",
       "4       2014  ...           NaN             NaN       NaN        NaN   \n",
       "...      ...  ...           ...             ...       ...        ...   \n",
       "74117   2014  ...           NaN             NaN       NaN        NaN   \n",
       "74118   2014  ...           NaN             NaN       NaN        NaN   \n",
       "74119   2014  ...           NaN             NaN       NaN        NaN   \n",
       "74120   2014  ...           NaN             NaN       NaN        NaN   \n",
       "74121   2014  ...           NaN             NaN       NaN        NaN   \n",
       "\n",
       "       underweight  underweight_u  stunting stunting_u  wasting  wasting_u  \n",
       "0              NaN            NaN       NaN        NaN      NaN        NaN  \n",
       "1              NaN            NaN       NaN        NaN      NaN        NaN  \n",
       "2              NaN            NaN       NaN        NaN      NaN        NaN  \n",
       "3              NaN            NaN       NaN        NaN      NaN        NaN  \n",
       "4              NaN            NaN       NaN        NaN      NaN        NaN  \n",
       "...            ...            ...       ...        ...      ...        ...  \n",
       "74117          NaN            NaN       NaN        NaN      NaN        NaN  \n",
       "74118          NaN            NaN       NaN        NaN      NaN        NaN  \n",
       "74119          NaN            NaN       NaN        NaN      NaN        NaN  \n",
       "74120          NaN            NaN       NaN        NaN      NaN        NaN  \n",
       "74121          NaN            NaN       NaN        NaN      NaN        NaN  \n",
       "\n",
       "[74122 rows x 356 columns]"
      ]
     },
     "execution_count": 34,
     "metadata": {},
     "output_type": "execute_result"
    }
   ],
   "source": [
    "df"
   ]
  },
  {
   "cell_type": "code",
   "execution_count": 35,
   "id": "97230269-dd53-4b51-a1d4-4b63d09c5eee",
   "metadata": {},
   "outputs": [
    {
     "data": {
      "text/plain": [
       "selected        48427\n",
       "not selected    25695\n",
       "Name: hv042, dtype: int64"
      ]
     },
     "execution_count": 35,
     "metadata": {},
     "output_type": "execute_result"
    }
   ],
   "source": [
    "df.hv042.value_counts()  # household selected for anthropometric measures"
   ]
  },
  {
   "cell_type": "code",
   "execution_count": 36,
   "id": "175b499a-ff14-49b1-83aa-9277e262616f",
   "metadata": {},
   "outputs": [],
   "source": [
    "df['subsample'] = (df.hv042 == 'selected').astype(int)"
   ]
  },
  {
   "cell_type": "code",
   "execution_count": 37,
   "id": "0ebbc514-a1f5-43e7-a0ff-8c6f9eda3db3",
   "metadata": {},
   "outputs": [
    {
     "data": {
      "text/plain": [
       "1    48427\n",
       "0    25695\n",
       "Name: subsample, dtype: int64"
      ]
     },
     "execution_count": 37,
     "metadata": {},
     "output_type": "execute_result"
    }
   ],
   "source": [
    "df.subsample.value_counts()"
   ]
  },
  {
   "cell_type": "code",
   "execution_count": 38,
   "id": "d491030a-5479-463a-bb52-aab419c46c20",
   "metadata": {},
   "outputs": [
    {
     "data": {
      "text/plain": [
       "15825"
      ]
     },
     "execution_count": 38,
     "metadata": {},
     "output_type": "execute_result"
    }
   ],
   "source": [
    "df.hh_id.nunique()"
   ]
  },
  {
   "cell_type": "code",
   "execution_count": 39,
   "id": "dd8516b6-c127-4d07-ae58-41a2c45e8cd1",
   "metadata": {},
   "outputs": [
    {
     "data": {
      "text/plain": [
       "611"
      ]
     },
     "execution_count": 39,
     "metadata": {},
     "output_type": "execute_result"
    }
   ],
   "source": [
    "df.hv001.nunique()  # cluster number"
   ]
  },
  {
   "cell_type": "code",
   "execution_count": 40,
   "id": "fd890133-638f-44c0-b6ae-8c31133f726d",
   "metadata": {},
   "outputs": [],
   "source": [
    "# All household members share the same subsample status - selected or not\n",
    "n_uniq_per_hh = df.groupby('hh_id')['subsample'].nunique()\n",
    "assert all(n_uniq_per_hh == 1)"
   ]
  },
  {
   "cell_type": "code",
   "execution_count": 41,
   "id": "8359dd5d-57a8-4b30-832d-64ad8ce8fe28",
   "metadata": {},
   "outputs": [
    {
     "data": {
      "text/html": [
       "<div>\n",
       "<style scoped>\n",
       "    .dataframe tbody tr th:only-of-type {\n",
       "        vertical-align: middle;\n",
       "    }\n",
       "\n",
       "    .dataframe tbody tr th {\n",
       "        vertical-align: top;\n",
       "    }\n",
       "\n",
       "    .dataframe thead th {\n",
       "        text-align: right;\n",
       "    }\n",
       "</style>\n",
       "<table border=\"1\" class=\"dataframe\">\n",
       "  <thead>\n",
       "    <tr style=\"text-align: right;\">\n",
       "      <th></th>\n",
       "      <th>hv001</th>\n",
       "      <th>hh_id</th>\n",
       "      <th>subsample</th>\n",
       "    </tr>\n",
       "  </thead>\n",
       "  <tbody>\n",
       "    <tr>\n",
       "      <th>0</th>\n",
       "      <td>1</td>\n",
       "      <td>10001.0</td>\n",
       "      <td>0</td>\n",
       "    </tr>\n",
       "    <tr>\n",
       "      <th>1</th>\n",
       "      <td>1</td>\n",
       "      <td>10002.0</td>\n",
       "      <td>1</td>\n",
       "    </tr>\n",
       "    <tr>\n",
       "      <th>2</th>\n",
       "      <td>1</td>\n",
       "      <td>10003.0</td>\n",
       "      <td>1</td>\n",
       "    </tr>\n",
       "    <tr>\n",
       "      <th>3</th>\n",
       "      <td>1</td>\n",
       "      <td>10004.0</td>\n",
       "      <td>0</td>\n",
       "    </tr>\n",
       "    <tr>\n",
       "      <th>4</th>\n",
       "      <td>1</td>\n",
       "      <td>10005.0</td>\n",
       "      <td>1</td>\n",
       "    </tr>\n",
       "    <tr>\n",
       "      <th>...</th>\n",
       "      <td>...</td>\n",
       "      <td>...</td>\n",
       "      <td>...</td>\n",
       "    </tr>\n",
       "    <tr>\n",
       "      <th>15820</th>\n",
       "      <td>611</td>\n",
       "      <td>6110024.0</td>\n",
       "      <td>1</td>\n",
       "    </tr>\n",
       "    <tr>\n",
       "      <th>15821</th>\n",
       "      <td>611</td>\n",
       "      <td>6110025.0</td>\n",
       "      <td>0</td>\n",
       "    </tr>\n",
       "    <tr>\n",
       "      <th>15822</th>\n",
       "      <td>611</td>\n",
       "      <td>6110026.0</td>\n",
       "      <td>1</td>\n",
       "    </tr>\n",
       "    <tr>\n",
       "      <th>15823</th>\n",
       "      <td>611</td>\n",
       "      <td>6110027.0</td>\n",
       "      <td>1</td>\n",
       "    </tr>\n",
       "    <tr>\n",
       "      <th>15824</th>\n",
       "      <td>611</td>\n",
       "      <td>6110028.0</td>\n",
       "      <td>0</td>\n",
       "    </tr>\n",
       "  </tbody>\n",
       "</table>\n",
       "<p>15825 rows × 3 columns</p>\n",
       "</div>"
      ],
      "text/plain": [
       "       hv001      hh_id  subsample\n",
       "0          1    10001.0          0\n",
       "1          1    10002.0          1\n",
       "2          1    10003.0          1\n",
       "3          1    10004.0          0\n",
       "4          1    10005.0          1\n",
       "...      ...        ...        ...\n",
       "15820    611  6110024.0          1\n",
       "15821    611  6110025.0          0\n",
       "15822    611  6110026.0          1\n",
       "15823    611  6110027.0          1\n",
       "15824    611  6110028.0          0\n",
       "\n",
       "[15825 rows x 3 columns]"
      ]
     },
     "execution_count": 41,
     "metadata": {},
     "output_type": "execute_result"
    }
   ],
   "source": [
    "df_hh = df.groupby(['hv001', 'hh_id'])['subsample'].first().reset_index()\n",
    "df_hh"
   ]
  },
  {
   "cell_type": "code",
   "execution_count": 42,
   "id": "19340266-8a73-4b71-8688-eab3ad1631d6",
   "metadata": {},
   "outputs": [],
   "source": [
    "perc_hh_subsampled = df_hh.groupby('hv001')['subsample'].mean()"
   ]
  },
  {
   "cell_type": "code",
   "execution_count": 43,
   "id": "80680037-4226-4967-86c7-5dd0c0fb3aac",
   "metadata": {},
   "outputs": [
    {
     "data": {
      "text/plain": [
       "hv001\n",
       "59     0.590909\n",
       "14     0.590909\n",
       "224    0.600000\n",
       "450    0.600000\n",
       "277    0.600000\n",
       "         ...   \n",
       "290    0.727273\n",
       "30     0.727273\n",
       "461    0.727273\n",
       "237    0.736842\n",
       "28     0.750000\n",
       "Name: subsample, Length: 611, dtype: float64"
      ]
     },
     "execution_count": 43,
     "metadata": {},
     "output_type": "execute_result"
    }
   ],
   "source": [
    "perc_hh_subsampled.sort_values()"
   ]
  },
  {
   "cell_type": "code",
   "execution_count": 44,
   "id": "a450e5cf-9edf-4df9-b4e8-54aec2e9aaa5",
   "metadata": {},
   "outputs": [
    {
     "data": {
      "text/plain": [
       "<AxesSubplot:>"
      ]
     },
     "execution_count": 44,
     "metadata": {},
     "output_type": "execute_result"
    },
    {
     "data": {
      "image/png": "[encoded data removed]",
      "text/plain": [
       "<Figure size 640x480 with 1 Axes>"
      ]
     },
     "metadata": {},
     "output_type": "display_data"
    }
   ],
   "source": [
    "perc_hh_subsampled.hist(bins=14)"
   ]
  },
  {
   "cell_type": "code",
   "execution_count": 45,
   "id": "53e808a2-64f8-4169-8bc4-083245a484ac",
   "metadata": {},
   "outputs": [],
   "source": [
    "expected_perc = 2/3\n",
    "allowed_err = 0.05"
   ]
  },
  {
   "cell_type": "code",
   "execution_count": 46,
   "id": "db4f1180-e004-4a94-9958-f1eecfa7de40",
   "metadata": {},
   "outputs": [
    {
     "data": {
      "text/plain": [
       "0.9296235679214403"
      ]
     },
     "execution_count": 46,
     "metadata": {},
     "output_type": "execute_result"
    }
   ],
   "source": [
    "np.mean(\n",
    "    (perc_hh_subsampled > (expected_perc - allowed_err)) & (perc_hh_subsampled < (expected_perc + allowed_err))\n",
    ")"
   ]
  },
  {
   "cell_type": "markdown",
   "id": "8d614f71-fcab-409d-9e50-8da0dac4e24d",
   "metadata": {
    "tags": []
   },
   "source": [
    "# khm dhs00"
   ]
  },
  {
   "cell_type": "markdown",
   "id": "0129e6e1-cd6f-416d-b7da-548b405e08cf",
   "metadata": {},
   "source": [
    "### read in data"
   ]
  },
  {
   "cell_type": "markdown",
   "id": "4bd87bd0-b072-4c10-a0de-14235722ad0d",
   "metadata": {},
   "source": [
    "#### processed microdata pre (de jure and) subsample dropping"
   ]
  },
  {
   "cell_type": "code",
   "execution_count": 47,
   "id": "d4ccdaca-27b9-44b6-8296-6393af54f016",
   "metadata": {},
   "outputs": [],
   "source": [
    "YY = '00'\n",
    "survey = f'khm_dhs{YY}_test'"
   ]
  },
  {
   "cell_type": "code",
   "execution_count": 48,
   "id": "eb36951c-c35a-4bb0-909f-5a083adac78a",
   "metadata": {},
   "outputs": [],
   "source": [
    "df = pd.read_stata(\n",
    "        datafd_path / survey / f'KHM{YY}_merged.dta'\n",
    ") "
   ]
  },
  {
   "cell_type": "code",
   "execution_count": 49,
   "id": "b7dbb5db-7ca8-44e9-97c7-3900e4e511aa",
   "metadata": {
    "tags": []
   },
   "outputs": [
    {
     "data": {
      "text/html": [
       "<div>\n",
       "<style scoped>\n",
       "    .dataframe tbody tr th:only-of-type {\n",
       "        vertical-align: middle;\n",
       "    }\n",
       "\n",
       "    .dataframe tbody tr th {\n",
       "        vertical-align: top;\n",
       "    }\n",
       "\n",
       "    .dataframe thead th {\n",
       "        text-align: right;\n",
       "    }\n",
       "</style>\n",
       "<table border=\"1\" class=\"dataframe\">\n",
       "  <thead>\n",
       "    <tr style=\"text-align: right;\">\n",
       "      <th></th>\n",
       "      <th>hhid</th>\n",
       "      <th>hvidx</th>\n",
       "      <th>hv000</th>\n",
       "      <th>hv001</th>\n",
       "      <th>hv002</th>\n",
       "      <th>hv003</th>\n",
       "      <th>hv004</th>\n",
       "      <th>hv005</th>\n",
       "      <th>hv006</th>\n",
       "      <th>hv007</th>\n",
       "      <th>...</th>\n",
       "      <th>low_bmiage_b</th>\n",
       "      <th>low_bmiage_b_u</th>\n",
       "      <th>child_PR</th>\n",
       "      <th>weight_ch</th>\n",
       "      <th>underweight</th>\n",
       "      <th>underweight_u</th>\n",
       "      <th>stunting</th>\n",
       "      <th>stunting_u</th>\n",
       "      <th>wasting</th>\n",
       "      <th>wasting_u</th>\n",
       "    </tr>\n",
       "  </thead>\n",
       "  <tbody>\n",
       "    <tr>\n",
       "      <th>0</th>\n",
       "      <td>1  1</td>\n",
       "      <td>1</td>\n",
       "      <td>KH4</td>\n",
       "      <td>1</td>\n",
       "      <td>1</td>\n",
       "      <td>2</td>\n",
       "      <td>1</td>\n",
       "      <td>858099</td>\n",
       "      <td>6</td>\n",
       "      <td>2000</td>\n",
       "      <td>...</td>\n",
       "      <td>NaN</td>\n",
       "      <td>NaN</td>\n",
       "      <td>NaN</td>\n",
       "      <td>NaN</td>\n",
       "      <td>NaN</td>\n",
       "      <td>NaN</td>\n",
       "      <td>NaN</td>\n",
       "      <td>NaN</td>\n",
       "      <td>NaN</td>\n",
       "      <td>NaN</td>\n",
       "    </tr>\n",
       "    <tr>\n",
       "      <th>1</th>\n",
       "      <td>1  1</td>\n",
       "      <td>2</td>\n",
       "      <td>KH4</td>\n",
       "      <td>1</td>\n",
       "      <td>1</td>\n",
       "      <td>2</td>\n",
       "      <td>1</td>\n",
       "      <td>858099</td>\n",
       "      <td>6</td>\n",
       "      <td>2000</td>\n",
       "      <td>...</td>\n",
       "      <td>NaN</td>\n",
       "      <td>NaN</td>\n",
       "      <td>NaN</td>\n",
       "      <td>NaN</td>\n",
       "      <td>NaN</td>\n",
       "      <td>NaN</td>\n",
       "      <td>NaN</td>\n",
       "      <td>NaN</td>\n",
       "      <td>NaN</td>\n",
       "      <td>NaN</td>\n",
       "    </tr>\n",
       "    <tr>\n",
       "      <th>2</th>\n",
       "      <td>1  1</td>\n",
       "      <td>3</td>\n",
       "      <td>KH4</td>\n",
       "      <td>1</td>\n",
       "      <td>1</td>\n",
       "      <td>2</td>\n",
       "      <td>1</td>\n",
       "      <td>858099</td>\n",
       "      <td>6</td>\n",
       "      <td>2000</td>\n",
       "      <td>...</td>\n",
       "      <td>NaN</td>\n",
       "      <td>NaN</td>\n",
       "      <td>NaN</td>\n",
       "      <td>NaN</td>\n",
       "      <td>NaN</td>\n",
       "      <td>NaN</td>\n",
       "      <td>NaN</td>\n",
       "      <td>NaN</td>\n",
       "      <td>NaN</td>\n",
       "      <td>NaN</td>\n",
       "    </tr>\n",
       "    <tr>\n",
       "      <th>3</th>\n",
       "      <td>1  1</td>\n",
       "      <td>4</td>\n",
       "      <td>KH4</td>\n",
       "      <td>1</td>\n",
       "      <td>1</td>\n",
       "      <td>2</td>\n",
       "      <td>1</td>\n",
       "      <td>858099</td>\n",
       "      <td>6</td>\n",
       "      <td>2000</td>\n",
       "      <td>...</td>\n",
       "      <td>NaN</td>\n",
       "      <td>NaN</td>\n",
       "      <td>NaN</td>\n",
       "      <td>NaN</td>\n",
       "      <td>NaN</td>\n",
       "      <td>NaN</td>\n",
       "      <td>NaN</td>\n",
       "      <td>NaN</td>\n",
       "      <td>NaN</td>\n",
       "      <td>NaN</td>\n",
       "    </tr>\n",
       "    <tr>\n",
       "      <th>4</th>\n",
       "      <td>1  1</td>\n",
       "      <td>5</td>\n",
       "      <td>KH4</td>\n",
       "      <td>1</td>\n",
       "      <td>1</td>\n",
       "      <td>2</td>\n",
       "      <td>1</td>\n",
       "      <td>858099</td>\n",
       "      <td>6</td>\n",
       "      <td>2000</td>\n",
       "      <td>...</td>\n",
       "      <td>NaN</td>\n",
       "      <td>NaN</td>\n",
       "      <td>NaN</td>\n",
       "      <td>NaN</td>\n",
       "      <td>NaN</td>\n",
       "      <td>NaN</td>\n",
       "      <td>NaN</td>\n",
       "      <td>NaN</td>\n",
       "      <td>NaN</td>\n",
       "      <td>NaN</td>\n",
       "    </tr>\n",
       "    <tr>\n",
       "      <th>...</th>\n",
       "      <td>...</td>\n",
       "      <td>...</td>\n",
       "      <td>...</td>\n",
       "      <td>...</td>\n",
       "      <td>...</td>\n",
       "      <td>...</td>\n",
       "      <td>...</td>\n",
       "      <td>...</td>\n",
       "      <td>...</td>\n",
       "      <td>...</td>\n",
       "      <td>...</td>\n",
       "      <td>...</td>\n",
       "      <td>...</td>\n",
       "      <td>...</td>\n",
       "      <td>...</td>\n",
       "      <td>...</td>\n",
       "      <td>...</td>\n",
       "      <td>...</td>\n",
       "      <td>...</td>\n",
       "      <td>...</td>\n",
       "      <td>...</td>\n",
       "    </tr>\n",
       "    <tr>\n",
       "      <th>66280</th>\n",
       "      <td>471 43</td>\n",
       "      <td>5</td>\n",
       "      <td>KH4</td>\n",
       "      <td>471</td>\n",
       "      <td>43</td>\n",
       "      <td>2</td>\n",
       "      <td>471</td>\n",
       "      <td>820535</td>\n",
       "      <td>3</td>\n",
       "      <td>2000</td>\n",
       "      <td>...</td>\n",
       "      <td>NaN</td>\n",
       "      <td>NaN</td>\n",
       "      <td>NaN</td>\n",
       "      <td>NaN</td>\n",
       "      <td>NaN</td>\n",
       "      <td>NaN</td>\n",
       "      <td>NaN</td>\n",
       "      <td>NaN</td>\n",
       "      <td>NaN</td>\n",
       "      <td>NaN</td>\n",
       "    </tr>\n",
       "    <tr>\n",
       "      <th>66281</th>\n",
       "      <td>471 43</td>\n",
       "      <td>6</td>\n",
       "      <td>KH4</td>\n",
       "      <td>471</td>\n",
       "      <td>43</td>\n",
       "      <td>2</td>\n",
       "      <td>471</td>\n",
       "      <td>820535</td>\n",
       "      <td>3</td>\n",
       "      <td>2000</td>\n",
       "      <td>...</td>\n",
       "      <td>NaN</td>\n",
       "      <td>NaN</td>\n",
       "      <td>NaN</td>\n",
       "      <td>NaN</td>\n",
       "      <td>NaN</td>\n",
       "      <td>NaN</td>\n",
       "      <td>NaN</td>\n",
       "      <td>NaN</td>\n",
       "      <td>NaN</td>\n",
       "      <td>NaN</td>\n",
       "    </tr>\n",
       "    <tr>\n",
       "      <th>66282</th>\n",
       "      <td>471 44</td>\n",
       "      <td>1</td>\n",
       "      <td>KH4</td>\n",
       "      <td>471</td>\n",
       "      <td>44</td>\n",
       "      <td>3</td>\n",
       "      <td>471</td>\n",
       "      <td>820535</td>\n",
       "      <td>3</td>\n",
       "      <td>2000</td>\n",
       "      <td>...</td>\n",
       "      <td>NaN</td>\n",
       "      <td>NaN</td>\n",
       "      <td>NaN</td>\n",
       "      <td>NaN</td>\n",
       "      <td>NaN</td>\n",
       "      <td>NaN</td>\n",
       "      <td>NaN</td>\n",
       "      <td>NaN</td>\n",
       "      <td>NaN</td>\n",
       "      <td>NaN</td>\n",
       "    </tr>\n",
       "    <tr>\n",
       "      <th>66283</th>\n",
       "      <td>471 44</td>\n",
       "      <td>2</td>\n",
       "      <td>KH4</td>\n",
       "      <td>471</td>\n",
       "      <td>44</td>\n",
       "      <td>3</td>\n",
       "      <td>471</td>\n",
       "      <td>820535</td>\n",
       "      <td>3</td>\n",
       "      <td>2000</td>\n",
       "      <td>...</td>\n",
       "      <td>NaN</td>\n",
       "      <td>NaN</td>\n",
       "      <td>NaN</td>\n",
       "      <td>NaN</td>\n",
       "      <td>NaN</td>\n",
       "      <td>NaN</td>\n",
       "      <td>NaN</td>\n",
       "      <td>NaN</td>\n",
       "      <td>NaN</td>\n",
       "      <td>NaN</td>\n",
       "    </tr>\n",
       "    <tr>\n",
       "      <th>66284</th>\n",
       "      <td>471 44</td>\n",
       "      <td>3</td>\n",
       "      <td>KH4</td>\n",
       "      <td>471</td>\n",
       "      <td>44</td>\n",
       "      <td>3</td>\n",
       "      <td>471</td>\n",
       "      <td>820535</td>\n",
       "      <td>3</td>\n",
       "      <td>2000</td>\n",
       "      <td>...</td>\n",
       "      <td>NaN</td>\n",
       "      <td>NaN</td>\n",
       "      <td>NaN</td>\n",
       "      <td>NaN</td>\n",
       "      <td>NaN</td>\n",
       "      <td>NaN</td>\n",
       "      <td>NaN</td>\n",
       "      <td>NaN</td>\n",
       "      <td>NaN</td>\n",
       "      <td>NaN</td>\n",
       "    </tr>\n",
       "  </tbody>\n",
       "</table>\n",
       "<p>66285 rows × 359 columns</p>\n",
       "</div>"
      ],
      "text/plain": [
       "               hhid  hvidx hv000  hv001  hv002  hv003  hv004   hv005  hv006  \\\n",
       "0              1  1      1   KH4      1      1      2      1  858099      6   \n",
       "1              1  1      2   KH4      1      1      2      1  858099      6   \n",
       "2              1  1      3   KH4      1      1      2      1  858099      6   \n",
       "3              1  1      4   KH4      1      1      2      1  858099      6   \n",
       "4              1  1      5   KH4      1      1      2      1  858099      6   \n",
       "...             ...    ...   ...    ...    ...    ...    ...     ...    ...   \n",
       "66280        471 43      5   KH4    471     43      2    471  820535      3   \n",
       "66281        471 43      6   KH4    471     43      2    471  820535      3   \n",
       "66282        471 44      1   KH4    471     44      3    471  820535      3   \n",
       "66283        471 44      2   KH4    471     44      3    471  820535      3   \n",
       "66284        471 44      3   KH4    471     44      3    471  820535      3   \n",
       "\n",
       "       hv007  ...  low_bmiage_b  low_bmiage_b_u  child_PR  weight_ch  \\\n",
       "0       2000  ...           NaN             NaN       NaN        NaN   \n",
       "1       2000  ...           NaN             NaN       NaN        NaN   \n",
       "2       2000  ...           NaN             NaN       NaN        NaN   \n",
       "3       2000  ...           NaN             NaN       NaN        NaN   \n",
       "4       2000  ...           NaN             NaN       NaN        NaN   \n",
       "...      ...  ...           ...             ...       ...        ...   \n",
       "66280   2000  ...           NaN             NaN       NaN        NaN   \n",
       "66281   2000  ...           NaN             NaN       NaN        NaN   \n",
       "66282   2000  ...           NaN             NaN       NaN        NaN   \n",
       "66283   2000  ...           NaN             NaN       NaN        NaN   \n",
       "66284   2000  ...           NaN             NaN       NaN        NaN   \n",
       "\n",
       "       underweight  underweight_u  stunting stunting_u  wasting  wasting_u  \n",
       "0              NaN            NaN       NaN        NaN      NaN        NaN  \n",
       "1              NaN            NaN       NaN        NaN      NaN        NaN  \n",
       "2              NaN            NaN       NaN        NaN      NaN        NaN  \n",
       "3              NaN            NaN       NaN        NaN      NaN        NaN  \n",
       "4              NaN            NaN       NaN        NaN      NaN        NaN  \n",
       "...            ...            ...       ...        ...      ...        ...  \n",
       "66280          NaN            NaN       NaN        NaN      NaN        NaN  \n",
       "66281          NaN            NaN       NaN        NaN      NaN        NaN  \n",
       "66282          NaN            NaN       NaN        NaN      NaN        NaN  \n",
       "66283          NaN            NaN       NaN        NaN      NaN        NaN  \n",
       "66284          NaN            NaN       NaN        NaN      NaN        NaN  \n",
       "\n",
       "[66285 rows x 359 columns]"
      ]
     },
     "execution_count": 49,
     "metadata": {},
     "output_type": "execute_result"
    }
   ],
   "source": [
    "df"
   ]
  },
  {
   "cell_type": "code",
   "execution_count": 50,
   "id": "064a5305-49f1-456a-a3a8-b00c4d707926",
   "metadata": {},
   "outputs": [
    {
     "data": {
      "text/plain": [
       "no     33677\n",
       "yes    32608\n",
       "Name: shanthro, dtype: int64"
      ]
     },
     "execution_count": 50,
     "metadata": {},
     "output_type": "execute_result"
    }
   ],
   "source": [
    "df.shanthro.value_counts()  # household selected for anthropometric measures"
   ]
  },
  {
   "cell_type": "code",
   "execution_count": 51,
   "id": "607aeb5d-4b2b-4460-bf03-1fdae40d281b",
   "metadata": {},
   "outputs": [
    {
     "name": "stderr",
     "output_type": "stream",
     "text": [
      "C:\\Users\\tianc\\AppData\\Local\\Temp\\ipykernel_21336\\3779154521.py:1: PerformanceWarning: DataFrame is highly fragmented.  This is usually the result of calling `frame.insert` many times, which has poor performance.  Consider joining all columns at once using pd.concat(axis=1) instead. To get a de-fragmented frame, use `newframe = frame.copy()`\n",
      "  df['subsample'] = (df.shanthro == 'yes').astype(int)\n"
     ]
    }
   ],
   "source": [
    "df['subsample'] = (df.shanthro == 'yes').astype(int)"
   ]
  },
  {
   "cell_type": "code",
   "execution_count": 52,
   "id": "b670a329-bdb0-48ba-9b09-05617cab163e",
   "metadata": {},
   "outputs": [
    {
     "data": {
      "text/plain": [
       "0    33677\n",
       "1    32608\n",
       "Name: subsample, dtype: int64"
      ]
     },
     "execution_count": 52,
     "metadata": {},
     "output_type": "execute_result"
    }
   ],
   "source": [
    "df.subsample.value_counts()"
   ]
  },
  {
   "cell_type": "code",
   "execution_count": 53,
   "id": "6f853a3f-a21b-4fb0-bb79-abdf29695d28",
   "metadata": {},
   "outputs": [
    {
     "data": {
      "text/plain": [
       "12236"
      ]
     },
     "execution_count": 53,
     "metadata": {},
     "output_type": "execute_result"
    }
   ],
   "source": [
    "df.hh_id.nunique()"
   ]
  },
  {
   "cell_type": "code",
   "execution_count": 54,
   "id": "4a2378f7-4d8c-49ab-a9e1-ab3f5bc52115",
   "metadata": {},
   "outputs": [
    {
     "data": {
      "text/plain": [
       "471"
      ]
     },
     "execution_count": 54,
     "metadata": {},
     "output_type": "execute_result"
    }
   ],
   "source": [
    "df.hv001.nunique()  # cluster number"
   ]
  },
  {
   "cell_type": "code",
   "execution_count": 55,
   "id": "52a7c3e9-5d9c-4ffc-85d3-1bedabaf10d1",
   "metadata": {},
   "outputs": [],
   "source": [
    "# All household members share the same subsample status - selected or not\n",
    "n_uniq_per_hh = df.groupby('hh_id')['subsample'].nunique()\n",
    "assert all(n_uniq_per_hh == 1)"
   ]
  },
  {
   "cell_type": "code",
   "execution_count": 56,
   "id": "c5a5ecf9-9b72-4b91-b7e0-8bd73624ef95",
   "metadata": {},
   "outputs": [
    {
     "data": {
      "text/html": [
       "<div>\n",
       "<style scoped>\n",
       "    .dataframe tbody tr th:only-of-type {\n",
       "        vertical-align: middle;\n",
       "    }\n",
       "\n",
       "    .dataframe tbody tr th {\n",
       "        vertical-align: top;\n",
       "    }\n",
       "\n",
       "    .dataframe thead th {\n",
       "        text-align: right;\n",
       "    }\n",
       "</style>\n",
       "<table border=\"1\" class=\"dataframe\">\n",
       "  <thead>\n",
       "    <tr style=\"text-align: right;\">\n",
       "      <th></th>\n",
       "      <th>hv001</th>\n",
       "      <th>hh_id</th>\n",
       "      <th>subsample</th>\n",
       "    </tr>\n",
       "  </thead>\n",
       "  <tbody>\n",
       "    <tr>\n",
       "      <th>0</th>\n",
       "      <td>1</td>\n",
       "      <td>10001.0</td>\n",
       "      <td>0</td>\n",
       "    </tr>\n",
       "    <tr>\n",
       "      <th>1</th>\n",
       "      <td>1</td>\n",
       "      <td>10004.0</td>\n",
       "      <td>1</td>\n",
       "    </tr>\n",
       "    <tr>\n",
       "      <th>2</th>\n",
       "      <td>1</td>\n",
       "      <td>10006.0</td>\n",
       "      <td>0</td>\n",
       "    </tr>\n",
       "    <tr>\n",
       "      <th>3</th>\n",
       "      <td>1</td>\n",
       "      <td>10008.0</td>\n",
       "      <td>1</td>\n",
       "    </tr>\n",
       "    <tr>\n",
       "      <th>4</th>\n",
       "      <td>1</td>\n",
       "      <td>10011.0</td>\n",
       "      <td>0</td>\n",
       "    </tr>\n",
       "    <tr>\n",
       "      <th>...</th>\n",
       "      <td>...</td>\n",
       "      <td>...</td>\n",
       "      <td>...</td>\n",
       "    </tr>\n",
       "    <tr>\n",
       "      <th>12231</th>\n",
       "      <td>471</td>\n",
       "      <td>4710038.0</td>\n",
       "      <td>1</td>\n",
       "    </tr>\n",
       "    <tr>\n",
       "      <th>12232</th>\n",
       "      <td>471</td>\n",
       "      <td>4710039.0</td>\n",
       "      <td>0</td>\n",
       "    </tr>\n",
       "    <tr>\n",
       "      <th>12233</th>\n",
       "      <td>471</td>\n",
       "      <td>4710041.0</td>\n",
       "      <td>1</td>\n",
       "    </tr>\n",
       "    <tr>\n",
       "      <th>12234</th>\n",
       "      <td>471</td>\n",
       "      <td>4710043.0</td>\n",
       "      <td>0</td>\n",
       "    </tr>\n",
       "    <tr>\n",
       "      <th>12235</th>\n",
       "      <td>471</td>\n",
       "      <td>4710044.0</td>\n",
       "      <td>1</td>\n",
       "    </tr>\n",
       "  </tbody>\n",
       "</table>\n",
       "<p>12236 rows × 3 columns</p>\n",
       "</div>"
      ],
      "text/plain": [
       "       hv001      hh_id  subsample\n",
       "0          1    10001.0          0\n",
       "1          1    10004.0          1\n",
       "2          1    10006.0          0\n",
       "3          1    10008.0          1\n",
       "4          1    10011.0          0\n",
       "...      ...        ...        ...\n",
       "12231    471  4710038.0          1\n",
       "12232    471  4710039.0          0\n",
       "12233    471  4710041.0          1\n",
       "12234    471  4710043.0          0\n",
       "12235    471  4710044.0          1\n",
       "\n",
       "[12236 rows x 3 columns]"
      ]
     },
     "execution_count": 56,
     "metadata": {},
     "output_type": "execute_result"
    }
   ],
   "source": [
    "df_hh = df.groupby(['hv001', 'hh_id'])['subsample'].first().reset_index()\n",
    "df_hh"
   ]
  },
  {
   "cell_type": "code",
   "execution_count": 57,
   "id": "6eafd0f8-c208-41c3-a09f-fb33691f3d4b",
   "metadata": {},
   "outputs": [],
   "source": [
    "perc_hh_subsampled = df_hh.groupby('hv001')['subsample'].mean()"
   ]
  },
  {
   "cell_type": "code",
   "execution_count": 58,
   "id": "2fe39ec8-d5cf-4b3b-aecf-18664645a812",
   "metadata": {},
   "outputs": [
    {
     "data": {
      "text/plain": [
       "hv001\n",
       "269    0.296296\n",
       "45     0.321429\n",
       "177    0.352941\n",
       "140    0.357143\n",
       "181    0.366667\n",
       "         ...   \n",
       "250    0.583333\n",
       "379    0.588235\n",
       "442    0.600000\n",
       "59     0.631579\n",
       "284    0.866667\n",
       "Name: subsample, Length: 471, dtype: float64"
      ]
     },
     "execution_count": 58,
     "metadata": {},
     "output_type": "execute_result"
    }
   ],
   "source": [
    "perc_hh_subsampled.sort_values()"
   ]
  },
  {
   "cell_type": "code",
   "execution_count": 59,
   "id": "2a08965f-3b73-4679-a89e-3af36b294949",
   "metadata": {},
   "outputs": [
    {
     "data": {
      "text/plain": [
       "<AxesSubplot:>"
      ]
     },
     "execution_count": 59,
     "metadata": {},
     "output_type": "execute_result"
    },
    {
     "data": {
      "image/png": "[encoded data removed]",
      "text/plain": [
       "<Figure size 640x480 with 1 Axes>"
      ]
     },
     "metadata": {},
     "output_type": "display_data"
    }
   ],
   "source": [
    "perc_hh_subsampled.hist(bins=14)"
   ]
  },
  {
   "cell_type": "code",
   "execution_count": 60,
   "id": "5f2b908e-a23e-4bd6-9561-fa72f1060fda",
   "metadata": {},
   "outputs": [],
   "source": [
    "expected_perc = 0.5\n",
    "allowed_err = 0.05"
   ]
  },
  {
   "cell_type": "code",
   "execution_count": 61,
   "id": "bab71113-d9f7-43d2-9764-6868f4483adf",
   "metadata": {},
   "outputs": [
    {
     "data": {
      "text/plain": [
       "0.7919320594479831"
      ]
     },
     "execution_count": 61,
     "metadata": {},
     "output_type": "execute_result"
    }
   ],
   "source": [
    "np.mean(\n",
    "    (perc_hh_subsampled > (expected_perc - allowed_err)) & (perc_hh_subsampled < (expected_perc + allowed_err))\n",
    ")"
   ]
  },
  {
   "cell_type": "markdown",
   "id": "ba92b455-f522-4e38-a41d-8ae84677b99e",
   "metadata": {},
   "source": [
    "# The end"
   ]
  },
  {
   "cell_type": "code",
   "execution_count": null,
   "id": "f212fc93-9f73-4a82-9efd-47e997e52bcc",
   "metadata": {},
   "outputs": [],
   "source": []
  },
  {
   "cell_type": "code",
   "execution_count": null,
   "id": "61f3e648-4dcb-4f65-8628-87b9cc5273d0",
   "metadata": {},
   "outputs": [],
   "source": []
  },
  {
   "cell_type": "code",
   "execution_count": 62,
   "id": "7bbc7da4-762b-4819-b490-daaf128db522",
   "metadata": {},
   "outputs": [
    {
     "ename": "NameError",
     "evalue": "name 'n_spatial_unit' is not defined",
     "output_type": "error",
     "traceback": [
      "\u001b[1;31m---------------------------------------------------------------------------\u001b[0m",
      "\u001b[1;31mNameError\u001b[0m                                 Traceback (most recent call last)",
      "\u001b[1;32m~\\AppData\\Local\\Temp\\ipykernel_21336\\3116006493.py\u001b[0m in \u001b[0;36m<module>\u001b[1;34m\u001b[0m\n\u001b[0;32m      1\u001b[0m \u001b[0mdf_nowall_lst\u001b[0m \u001b[1;33m=\u001b[0m \u001b[1;33m[\u001b[0m\u001b[1;33m]\u001b[0m\u001b[1;33m\u001b[0m\u001b[1;33m\u001b[0m\u001b[0m\n\u001b[1;32m----> 2\u001b[1;33m \u001b[1;32mfor\u001b[0m \u001b[0mi\u001b[0m \u001b[1;32min\u001b[0m \u001b[0mrange\u001b[0m\u001b[1;33m(\u001b[0m\u001b[1;36m1\u001b[0m\u001b[1;33m,\u001b[0m \u001b[0mn_spatial_unit\u001b[0m\u001b[1;33m+\u001b[0m\u001b[1;36m1\u001b[0m\u001b[1;33m)\u001b[0m\u001b[1;33m:\u001b[0m\u001b[1;33m\u001b[0m\u001b[1;33m\u001b[0m\u001b[0m\n\u001b[0m\u001b[0;32m      3\u001b[0m     df = pd.read_stata(\n\u001b[0;32m      4\u001b[0m         \u001b[0mdatafd_path\u001b[0m \u001b[1;33m/\u001b[0m \u001b[0msurvey\u001b[0m \u001b[1;33m/\u001b[0m \u001b[1;34mf'{\"_\".join(survey.split(\"_\")[:2])}_mpi_{spatial_res}{i}.dta'\u001b[0m\u001b[1;33m\u001b[0m\u001b[1;33m\u001b[0m\u001b[0m\n\u001b[0;32m      5\u001b[0m     ) \n",
      "\u001b[1;31mNameError\u001b[0m: name 'n_spatial_unit' is not defined"
     ]
    }
   ],
   "source": [
    "df_nowall_lst = []\n",
    "for i in range(1, n_spatial_unit+1):\n",
    "    df = pd.read_stata(\n",
    "        datafd_path / survey / f'{\"_\".join(survey.split(\"_\")[:2])}_mpi_{spatial_res}{i}.dta'\n",
    "    ) \n",
    "    assert df.psu.unique().squeeze() == i\n",
    "    df_nowall_lst.append(df)"
   ]
  },
  {
   "cell_type": "markdown",
   "id": "b913504d-1899-4e48-a608-de8d2e4dce4e",
   "metadata": {
    "tags": []
   },
   "source": [
    "### explore and preprocess data"
   ]
  },
  {
   "cell_type": "markdown",
   "id": "2d00cfa5-781e-4df0-99ea-475a1045d128",
   "metadata": {},
   "source": [
    "#### compile dataframes in the lists"
   ]
  },
  {
   "cell_type": "code",
   "execution_count": null,
   "id": "d21081b0-0f8c-4c2f-9114-068c4de61383",
   "metadata": {},
   "outputs": [],
   "source": []
  }
 ],
 "metadata": {
  "kernelspec": {
   "display_name": "Python 3 (ipykernel)",
   "language": "python",
   "name": "python3"
  },
  "language_info": {
   "codemirror_mode": {
    "name": "ipython",
    "version": 3
   },
   "file_extension": ".py",
   "mimetype": "text/x-python",
   "name": "python",
   "nbconvert_exporter": "python",
   "pygments_lexer": "ipython3",
   "version": "3.10.11"
  }
 },
 "nbformat": 4,
 "nbformat_minor": 5
}
