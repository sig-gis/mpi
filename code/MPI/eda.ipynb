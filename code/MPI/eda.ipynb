{
 "cells": [
  {
   "cell_type": "code",
   "execution_count": 1,
   "id": "acd49507-6ae1-4ff6-888b-eea7f44d5176",
   "metadata": {},
   "outputs": [],
   "source": [
    "from pathlib import Path\n",
    "import pandas as pd\n",
    "import numpy as np\n",
    "\n",
    "# code_path = Path(__file__)\n",
    "code_path = Path(r'C:\\Users\\tianc\\OneDrive\\Documents\\SIG\\DISES\\code\\MPI')\n",
    "datafd_path = code_path.parent.parent / 'data' / 'MPI' \n",
    "outfd_path = code_path.parent.parent / 'output' / 'data' "
   ]
  },
  {
   "cell_type": "markdown",
   "id": "f13ae8e1-ad5d-4b49-84e6-94be8261a636",
   "metadata": {
    "tags": []
   },
   "source": [
    "## khm dhs00"
   ]
  },
  {
   "cell_type": "markdown",
   "id": "ef0eceda-ea52-43a6-8ab1-fe946a9219c7",
   "metadata": {},
   "source": [
    "#### check out raw PR data"
   ]
  },
  {
   "cell_type": "code",
   "execution_count": 2,
   "id": "31ce5449-6154-43d2-8a45-979296fba31f",
   "metadata": {},
   "outputs": [],
   "source": [
    "dhs00_path = Path(r\"C:\\Users\\tianc\\OneDrive\\Documents\\SIG\\DISES\\data\\DHS\\Cambodia\\STATA\\KHPR42DT\\KHPR42FL.DTA\")\n",
    "df = pd.read_stata(dhs00_path)"
   ]
  },
  {
   "cell_type": "code",
   "execution_count": 3,
   "id": "b75e2e45-f5a7-48f8-864a-8ff14aae42f5",
   "metadata": {
    "tags": []
   },
   "outputs": [
    {
     "data": {
      "text/plain": [
       "hhid          0\n",
       "hvidx         0\n",
       "hv000         0\n",
       "hv001         0\n",
       "hv002         0\n",
       "          ...  \n",
       "hc61      64351\n",
       "hc62      65056\n",
       "hc63      64719\n",
       "hc64      64369\n",
       "shced1    64351\n",
       "Length: 327, dtype: int64"
      ]
     },
     "execution_count": 3,
     "metadata": {},
     "output_type": "execute_result"
    }
   ],
   "source": [
    "df.isna().sum()"
   ]
  },
  {
   "cell_type": "code",
   "execution_count": 4,
   "id": "809f7af5-ad83-461b-b598-b7388a55eafe",
   "metadata": {},
   "outputs": [
    {
     "data": {
      "text/plain": [
       "True"
      ]
     },
     "execution_count": 4,
     "metadata": {},
     "output_type": "execute_result"
    }
   ],
   "source": [
    "all(np.sort(df.hv001.unique()) == np.arange(1, 472))  \n",
    "# cluster no. ranges from 1 to 471"
   ]
  },
  {
   "cell_type": "code",
   "execution_count": 5,
   "id": "d771d76b-44d6-4312-9759-51390a7b9771",
   "metadata": {},
   "outputs": [
    {
     "data": {
      "text/plain": [
       "True"
      ]
     },
     "execution_count": 5,
     "metadata": {},
     "output_type": "execute_result"
    }
   ],
   "source": [
    "(df.hv004 == df.hv001).all()\n",
    "# Recode IV: Ultimate area unit is a number assigned to each sample point to identify the ultimate area units used in the collection of data.  This variable is usually the same as the cluster number, but may be a sequentially numbered variable for samples with a more complicated structure. "
   ]
  },
  {
   "cell_type": "code",
   "execution_count": 6,
   "id": "eb45673b-437c-488c-953d-e5e28411ff40",
   "metadata": {
    "tags": []
   },
   "outputs": [
    {
     "data": {
      "text/plain": [
       "hv001\n",
       "1      18\n",
       "2      18\n",
       "3      18\n",
       "4      18\n",
       "5      19\n",
       "       ..\n",
       "467    26\n",
       "468    28\n",
       "469    12\n",
       "470    31\n",
       "471    27\n",
       "Name: hv002, Length: 471, dtype: int64"
      ]
     },
     "execution_count": 6,
     "metadata": {},
     "output_type": "execute_result"
    }
   ],
   "source": [
    "n_hh_per_clust = df.groupby('hv001')['hv002'].nunique()\n",
    "n_hh_per_clust  # number of households in each cluster"
   ]
  },
  {
   "cell_type": "code",
   "execution_count": 7,
   "id": "9f1fefae-1ca8-4488-a1fa-9199b78f7dc6",
   "metadata": {},
   "outputs": [
    {
     "data": {
      "text/plain": [
       "<AxesSubplot:>"
      ]
     },
     "execution_count": 7,
     "metadata": {},
     "output_type": "execute_result"
    },
    {
     "data": {
      "image/png": "[encoded data removed]",
      "text/plain": [
       "<Figure size 640x480 with 1 Axes>"
      ]
     },
     "metadata": {},
     "output_type": "display_data"
    }
   ],
   "source": [
    "n_hh_per_clust.hist()"
   ]
  },
  {
   "cell_type": "code",
   "execution_count": 8,
   "id": "0692fc59-f5b1-415f-9557-9be53ec03833",
   "metadata": {},
   "outputs": [
    {
     "data": {
      "text/plain": [
       "True"
      ]
     },
     "execution_count": 8,
     "metadata": {},
     "output_type": "execute_result"
    }
   ],
   "source": [
    "n_wgt_per_clust = df.groupby('hv001')['hv005'].nunique()\n",
    "all(n_wgt_per_clust == 1)  # a single sample weight in each cluster"
   ]
  },
  {
   "cell_type": "markdown",
   "id": "7c880ccf-c7a1-451f-9d31-508b254af82c",
   "metadata": {
    "tags": []
   },
   "source": [
    "## khm dhs05"
   ]
  },
  {
   "cell_type": "markdown",
   "id": "90702836-dc4c-47c9-93e3-8405e7d7d94c",
   "metadata": {},
   "source": [
    "#### read in microdata "
   ]
  },
  {
   "cell_type": "markdown",
   "id": "e1ec79f7-bdc9-4c53-9746-821bde900a1b",
   "metadata": {
    "tags": []
   },
   "source": [
    "##### harmonized with 10 and 14"
   ]
  },
  {
   "cell_type": "code",
   "execution_count": 2,
   "id": "8c1c98c2-a77e-4ecd-b902-09d68aa1e9cc",
   "metadata": {},
   "outputs": [],
   "source": [
    "df = pd.read_stata(datafd_path / 'khm_dhs05_cot' / 'khm_dhs05.dta')"
   ]
  },
  {
   "cell_type": "markdown",
   "id": "d2331ba2-89f7-458a-ad0c-23837df582f6",
   "metadata": {},
   "source": [
    "##### harmonized with 10 and 14, wall material excluded "
   ]
  },
  {
   "cell_type": "code",
   "execution_count": 3,
   "id": "38f42be8-d141-4ec1-9dd1-27935425ef59",
   "metadata": {},
   "outputs": [],
   "source": [
    "df_nowall = pd.read_stata(datafd_path / 'khm_dhs05_cot_nowall' / 'khm_dhs05.dta')"
   ]
  },
  {
   "cell_type": "markdown",
   "id": "24556a31-0571-4f83-bc73-25f16fd9be79",
   "metadata": {},
   "source": [
    "#### compare"
   ]
  },
  {
   "cell_type": "markdown",
   "id": "e0ce7362-77ee-4cdc-9e4c-d0f6cf67b0bd",
   "metadata": {},
   "source": [
    "##### same except for housing indicator"
   ]
  },
  {
   "cell_type": "code",
   "execution_count": 5,
   "id": "f7fb5a47-2ea2-4f7d-a323-7da019903588",
   "metadata": {},
   "outputs": [
    {
     "data": {
      "text/plain": [
       "Index(['hh_id', 'ind_id', 'psu', 'strata', 'subsample', 'weight', 'area',\n",
       "       'region', 'region_01', 'agec4', 'agec2', 'd_cm', 'd_nutr', 'd_satt',\n",
       "       'd_educ', 'd_elct', 'd_wtr', 'd_sani', 'd_hsg', 'd_ckfl', 'd_asst',\n",
       "       'd_cm_01', 'd_nutr_01', 'd_satt_01', 'd_educ_01', 'd_elct_01',\n",
       "       'd_wtr_01', 'd_sani_01', 'd_hsg_01', 'd_ckfl_01', 'd_asst_01'],\n",
       "      dtype='object')"
      ]
     },
     "execution_count": 5,
     "metadata": {},
     "output_type": "execute_result"
    }
   ],
   "source": [
    "df.columns"
   ]
  },
  {
   "cell_type": "code",
   "execution_count": 6,
   "id": "5de41c24-89eb-4c96-a541-0485448dcf70",
   "metadata": {},
   "outputs": [
    {
     "data": {
      "text/plain": [
       "Index(['hh_id', 'ind_id', 'psu', 'strata', 'subsample', 'weight', 'area',\n",
       "       'region', 'region_01', 'agec4', 'agec2', 'd_cm', 'd_nutr', 'd_satt',\n",
       "       'd_educ', 'd_elct', 'd_wtr', 'd_sani', 'd_hsg', 'd_ckfl', 'd_asst',\n",
       "       'd_cm_01', 'd_nutr_01', 'd_satt_01', 'd_educ_01', 'd_elct_01',\n",
       "       'd_wtr_01', 'd_sani_01', 'd_hsg_01', 'd_ckfl_01', 'd_asst_01'],\n",
       "      dtype='object')"
      ]
     },
     "execution_count": 6,
     "metadata": {},
     "output_type": "execute_result"
    }
   ],
   "source": [
    "df_nowall.columns"
   ]
  },
  {
   "cell_type": "code",
   "execution_count": 15,
   "id": "13eb0d60-f3f1-436b-9d69-9cb074dac7aa",
   "metadata": {},
   "outputs": [],
   "source": [
    "df_bulk = df.drop(columns=['d_hsg', 'd_hsg_01'])\n",
    "df_nowall_bulk = df_nowall.drop(columns=['d_hsg', 'd_hsg_01'])"
   ]
  },
  {
   "cell_type": "code",
   "execution_count": 16,
   "id": "0201ac1f-dadb-4ddf-a431-0231f60e886e",
   "metadata": {},
   "outputs": [],
   "source": [
    "pd.testing.assert_frame_equal(df_bulk, df_nowall_bulk)"
   ]
  },
  {
   "cell_type": "markdown",
   "id": "f55a772c-bc89-4d94-ba92-834382bd9e01",
   "metadata": {},
   "source": [
    "##### difference in housing indicator"
   ]
  },
  {
   "cell_type": "code",
   "execution_count": 17,
   "id": "5b0ba4d5-e1c8-464c-94b0-b2cd891d46d4",
   "metadata": {},
   "outputs": [
    {
     "data": {
      "text/plain": [
       "0.48156455909154633"
      ]
     },
     "execution_count": 17,
     "metadata": {},
     "output_type": "execute_result"
    }
   ],
   "source": [
    "df.d_hsg.mean()"
   ]
  },
  {
   "cell_type": "code",
   "execution_count": 18,
   "id": "8363640e-3ae9-4dcd-aa40-a70b15f0102f",
   "metadata": {},
   "outputs": [
    {
     "data": {
      "text/plain": [
       "0.30954717510164026"
      ]
     },
     "execution_count": 18,
     "metadata": {},
     "output_type": "execute_result"
    }
   ],
   "source": [
    "df_nowall.d_hsg.mean()"
   ]
  },
  {
   "cell_type": "markdown",
   "id": "e15c7367-7f07-40d7-8301-e49cc11336b2",
   "metadata": {
    "tags": []
   },
   "source": [
    "## khm dhs10"
   ]
  },
  {
   "cell_type": "markdown",
   "id": "4684e633-7159-4faa-8ae3-531a4f7a1e02",
   "metadata": {},
   "source": [
    "#### check out microdata with cluster no.\n"
   ]
  },
  {
   "cell_type": "code",
   "execution_count": 4,
   "id": "c80ffa78",
   "metadata": {},
   "outputs": [],
   "source": [
    "df = pd.read_stata(datafd_path / 'khm_dhs10' / 'khm_dhs10_clustno.dta')"
   ]
  },
  {
   "cell_type": "code",
   "execution_count": 3,
   "id": "7ee633bb-7cfe-4f43-92e0-38738b362f90",
   "metadata": {},
   "outputs": [
    {
     "data": {
      "text/plain": [
       "(37735, 33)"
      ]
     },
     "execution_count": 3,
     "metadata": {},
     "output_type": "execute_result"
    }
   ],
   "source": [
    "df.shape"
   ]
  },
  {
   "cell_type": "code",
   "execution_count": 4,
   "id": "580ee305-9a81-46b2-9786-986a95a6a4d0",
   "metadata": {
    "collapsed": true,
    "jupyter": {
     "outputs_hidden": true
    },
    "tags": []
   },
   "outputs": [
    {
     "data": {
      "text/plain": [
       "Index(['hh_id', 'ind_id', 'psu', 'strata', 'subsample', 'weight', 'area',\n",
       "       'region', 'region_01', 'agec4', 'agec2', 'headship', 'd_cm', 'd_nutr',\n",
       "       'd_satt', 'd_educ', 'd_elct', 'd_wtr', 'd_sani', 'd_hsg', 'd_ckfl',\n",
       "       'd_asst', 'd_cm_01', 'd_nutr_01', 'd_satt_01', 'd_educ_01', 'd_elct_01',\n",
       "       'd_wtr_01', 'd_sani_01', 'd_hsg_01', 'd_ckfl_01', 'd_asst_01',\n",
       "       'clust_no'],\n",
       "      dtype='object')"
      ]
     },
     "execution_count": 4,
     "metadata": {},
     "output_type": "execute_result"
    }
   ],
   "source": [
    "df.columns"
   ]
  },
  {
   "cell_type": "code",
   "execution_count": 5,
   "id": "dbe9c256-3d18-4f78-8868-b4b228e71cc5",
   "metadata": {
    "collapsed": true,
    "jupyter": {
     "outputs_hidden": true
    },
    "tags": []
   },
   "outputs": [
    {
     "data": {
      "text/html": [
       "<div>\n",
       "<style scoped>\n",
       "    .dataframe tbody tr th:only-of-type {\n",
       "        vertical-align: middle;\n",
       "    }\n",
       "\n",
       "    .dataframe tbody tr th {\n",
       "        vertical-align: top;\n",
       "    }\n",
       "\n",
       "    .dataframe thead th {\n",
       "        text-align: right;\n",
       "    }\n",
       "</style>\n",
       "<table border=\"1\" class=\"dataframe\">\n",
       "  <thead>\n",
       "    <tr style=\"text-align: right;\">\n",
       "      <th></th>\n",
       "      <th>hh_id</th>\n",
       "      <th>ind_id</th>\n",
       "      <th>psu</th>\n",
       "      <th>weight</th>\n",
       "      <th>d_cm</th>\n",
       "      <th>d_nutr</th>\n",
       "      <th>d_satt</th>\n",
       "      <th>d_educ</th>\n",
       "      <th>d_elct</th>\n",
       "      <th>d_wtr</th>\n",
       "      <th>...</th>\n",
       "      <th>d_nutr_01</th>\n",
       "      <th>d_satt_01</th>\n",
       "      <th>d_educ_01</th>\n",
       "      <th>d_elct_01</th>\n",
       "      <th>d_wtr_01</th>\n",
       "      <th>d_sani_01</th>\n",
       "      <th>d_hsg_01</th>\n",
       "      <th>d_ckfl_01</th>\n",
       "      <th>d_asst_01</th>\n",
       "      <th>clust_no</th>\n",
       "    </tr>\n",
       "  </thead>\n",
       "  <tbody>\n",
       "    <tr>\n",
       "      <th>count</th>\n",
       "      <td>3.773500e+04</td>\n",
       "      <td>3.773500e+04</td>\n",
       "      <td>37735.000000</td>\n",
       "      <td>37735.000000</td>\n",
       "      <td>37595.000000</td>\n",
       "      <td>36966.000000</td>\n",
       "      <td>37735.000000</td>\n",
       "      <td>37726.000000</td>\n",
       "      <td>37731.000000</td>\n",
       "      <td>37731.000000</td>\n",
       "      <td>...</td>\n",
       "      <td>36966.000000</td>\n",
       "      <td>37735.000000</td>\n",
       "      <td>37726.000000</td>\n",
       "      <td>37731.000000</td>\n",
       "      <td>37731.000000</td>\n",
       "      <td>37735.000000</td>\n",
       "      <td>37735.000000</td>\n",
       "      <td>37735.000000</td>\n",
       "      <td>37735.000000</td>\n",
       "      <td>37735.000000</td>\n",
       "    </tr>\n",
       "    <tr>\n",
       "      <th>mean</th>\n",
       "      <td>3.069423e+06</td>\n",
       "      <td>3.069423e+08</td>\n",
       "      <td>306.937273</td>\n",
       "      <td>0.979027</td>\n",
       "      <td>0.036042</td>\n",
       "      <td>0.379781</td>\n",
       "      <td>0.116815</td>\n",
       "      <td>0.282007</td>\n",
       "      <td>0.608889</td>\n",
       "      <td>0.449047</td>\n",
       "      <td>...</td>\n",
       "      <td>0.379781</td>\n",
       "      <td>0.116815</td>\n",
       "      <td>0.282007</td>\n",
       "      <td>0.608889</td>\n",
       "      <td>0.449047</td>\n",
       "      <td>0.617199</td>\n",
       "      <td>0.381582</td>\n",
       "      <td>0.875288</td>\n",
       "      <td>0.170876</td>\n",
       "      <td>306.937273</td>\n",
       "    </tr>\n",
       "    <tr>\n",
       "      <th>std</th>\n",
       "      <td>1.754140e+06</td>\n",
       "      <td>1.754140e+08</td>\n",
       "      <td>175.413859</td>\n",
       "      <td>0.697763</td>\n",
       "      <td>0.186397</td>\n",
       "      <td>0.485339</td>\n",
       "      <td>0.321204</td>\n",
       "      <td>0.449983</td>\n",
       "      <td>0.488006</td>\n",
       "      <td>0.497404</td>\n",
       "      <td>...</td>\n",
       "      <td>0.485339</td>\n",
       "      <td>0.321204</td>\n",
       "      <td>0.449983</td>\n",
       "      <td>0.488006</td>\n",
       "      <td>0.497404</td>\n",
       "      <td>0.486077</td>\n",
       "      <td>0.485781</td>\n",
       "      <td>0.330396</td>\n",
       "      <td>0.376405</td>\n",
       "      <td>175.413859</td>\n",
       "    </tr>\n",
       "    <tr>\n",
       "      <th>min</th>\n",
       "      <td>1.000100e+04</td>\n",
       "      <td>1.000101e+06</td>\n",
       "      <td>1.000000</td>\n",
       "      <td>0.053016</td>\n",
       "      <td>0.000000</td>\n",
       "      <td>0.000000</td>\n",
       "      <td>0.000000</td>\n",
       "      <td>0.000000</td>\n",
       "      <td>0.000000</td>\n",
       "      <td>0.000000</td>\n",
       "      <td>...</td>\n",
       "      <td>0.000000</td>\n",
       "      <td>0.000000</td>\n",
       "      <td>0.000000</td>\n",
       "      <td>0.000000</td>\n",
       "      <td>0.000000</td>\n",
       "      <td>0.000000</td>\n",
       "      <td>0.000000</td>\n",
       "      <td>0.000000</td>\n",
       "      <td>0.000000</td>\n",
       "      <td>1.000000</td>\n",
       "    </tr>\n",
       "    <tr>\n",
       "      <th>25%</th>\n",
       "      <td>1.550056e+06</td>\n",
       "      <td>1.550056e+08</td>\n",
       "      <td>155.000000</td>\n",
       "      <td>0.383321</td>\n",
       "      <td>0.000000</td>\n",
       "      <td>0.000000</td>\n",
       "      <td>0.000000</td>\n",
       "      <td>0.000000</td>\n",
       "      <td>0.000000</td>\n",
       "      <td>0.000000</td>\n",
       "      <td>...</td>\n",
       "      <td>0.000000</td>\n",
       "      <td>0.000000</td>\n",
       "      <td>0.000000</td>\n",
       "      <td>0.000000</td>\n",
       "      <td>0.000000</td>\n",
       "      <td>0.000000</td>\n",
       "      <td>0.000000</td>\n",
       "      <td>1.000000</td>\n",
       "      <td>0.000000</td>\n",
       "      <td>155.000000</td>\n",
       "    </tr>\n",
       "    <tr>\n",
       "      <th>50%</th>\n",
       "      <td>3.060072e+06</td>\n",
       "      <td>3.060072e+08</td>\n",
       "      <td>306.000000</td>\n",
       "      <td>0.849375</td>\n",
       "      <td>0.000000</td>\n",
       "      <td>0.000000</td>\n",
       "      <td>0.000000</td>\n",
       "      <td>0.000000</td>\n",
       "      <td>1.000000</td>\n",
       "      <td>0.000000</td>\n",
       "      <td>...</td>\n",
       "      <td>0.000000</td>\n",
       "      <td>0.000000</td>\n",
       "      <td>0.000000</td>\n",
       "      <td>1.000000</td>\n",
       "      <td>0.000000</td>\n",
       "      <td>1.000000</td>\n",
       "      <td>0.000000</td>\n",
       "      <td>1.000000</td>\n",
       "      <td>0.000000</td>\n",
       "      <td>306.000000</td>\n",
       "    </tr>\n",
       "    <tr>\n",
       "      <th>75%</th>\n",
       "      <td>4.580004e+06</td>\n",
       "      <td>4.580004e+08</td>\n",
       "      <td>458.000000</td>\n",
       "      <td>1.409156</td>\n",
       "      <td>0.000000</td>\n",
       "      <td>1.000000</td>\n",
       "      <td>0.000000</td>\n",
       "      <td>1.000000</td>\n",
       "      <td>1.000000</td>\n",
       "      <td>1.000000</td>\n",
       "      <td>...</td>\n",
       "      <td>1.000000</td>\n",
       "      <td>0.000000</td>\n",
       "      <td>1.000000</td>\n",
       "      <td>1.000000</td>\n",
       "      <td>1.000000</td>\n",
       "      <td>1.000000</td>\n",
       "      <td>1.000000</td>\n",
       "      <td>1.000000</td>\n",
       "      <td>0.000000</td>\n",
       "      <td>458.000000</td>\n",
       "    </tr>\n",
       "    <tr>\n",
       "      <th>max</th>\n",
       "      <td>6.110043e+06</td>\n",
       "      <td>6.110043e+08</td>\n",
       "      <td>611.000000</td>\n",
       "      <td>3.767064</td>\n",
       "      <td>1.000000</td>\n",
       "      <td>1.000000</td>\n",
       "      <td>1.000000</td>\n",
       "      <td>1.000000</td>\n",
       "      <td>1.000000</td>\n",
       "      <td>1.000000</td>\n",
       "      <td>...</td>\n",
       "      <td>1.000000</td>\n",
       "      <td>1.000000</td>\n",
       "      <td>1.000000</td>\n",
       "      <td>1.000000</td>\n",
       "      <td>1.000000</td>\n",
       "      <td>1.000000</td>\n",
       "      <td>1.000000</td>\n",
       "      <td>1.000000</td>\n",
       "      <td>1.000000</td>\n",
       "      <td>611.000000</td>\n",
       "    </tr>\n",
       "  </tbody>\n",
       "</table>\n",
       "<p>8 rows × 25 columns</p>\n",
       "</div>"
      ],
      "text/plain": [
       "              hh_id        ind_id           psu        weight          d_cm  \\\n",
       "count  3.773500e+04  3.773500e+04  37735.000000  37735.000000  37595.000000   \n",
       "mean   3.069423e+06  3.069423e+08    306.937273      0.979027      0.036042   \n",
       "std    1.754140e+06  1.754140e+08    175.413859      0.697763      0.186397   \n",
       "min    1.000100e+04  1.000101e+06      1.000000      0.053016      0.000000   \n",
       "25%    1.550056e+06  1.550056e+08    155.000000      0.383321      0.000000   \n",
       "50%    3.060072e+06  3.060072e+08    306.000000      0.849375      0.000000   \n",
       "75%    4.580004e+06  4.580004e+08    458.000000      1.409156      0.000000   \n",
       "max    6.110043e+06  6.110043e+08    611.000000      3.767064      1.000000   \n",
       "\n",
       "             d_nutr        d_satt        d_educ        d_elct         d_wtr  \\\n",
       "count  36966.000000  37735.000000  37726.000000  37731.000000  37731.000000   \n",
       "mean       0.379781      0.116815      0.282007      0.608889      0.449047   \n",
       "std        0.485339      0.321204      0.449983      0.488006      0.497404   \n",
       "min        0.000000      0.000000      0.000000      0.000000      0.000000   \n",
       "25%        0.000000      0.000000      0.000000      0.000000      0.000000   \n",
       "50%        0.000000      0.000000      0.000000      1.000000      0.000000   \n",
       "75%        1.000000      0.000000      1.000000      1.000000      1.000000   \n",
       "max        1.000000      1.000000      1.000000      1.000000      1.000000   \n",
       "\n",
       "       ...     d_nutr_01     d_satt_01     d_educ_01     d_elct_01  \\\n",
       "count  ...  36966.000000  37735.000000  37726.000000  37731.000000   \n",
       "mean   ...      0.379781      0.116815      0.282007      0.608889   \n",
       "std    ...      0.485339      0.321204      0.449983      0.488006   \n",
       "min    ...      0.000000      0.000000      0.000000      0.000000   \n",
       "25%    ...      0.000000      0.000000      0.000000      0.000000   \n",
       "50%    ...      0.000000      0.000000      0.000000      1.000000   \n",
       "75%    ...      1.000000      0.000000      1.000000      1.000000   \n",
       "max    ...      1.000000      1.000000      1.000000      1.000000   \n",
       "\n",
       "           d_wtr_01     d_sani_01      d_hsg_01     d_ckfl_01     d_asst_01  \\\n",
       "count  37731.000000  37735.000000  37735.000000  37735.000000  37735.000000   \n",
       "mean       0.449047      0.617199      0.381582      0.875288      0.170876   \n",
       "std        0.497404      0.486077      0.485781      0.330396      0.376405   \n",
       "min        0.000000      0.000000      0.000000      0.000000      0.000000   \n",
       "25%        0.000000      0.000000      0.000000      1.000000      0.000000   \n",
       "50%        0.000000      1.000000      0.000000      1.000000      0.000000   \n",
       "75%        1.000000      1.000000      1.000000      1.000000      0.000000   \n",
       "max        1.000000      1.000000      1.000000      1.000000      1.000000   \n",
       "\n",
       "           clust_no  \n",
       "count  37735.000000  \n",
       "mean     306.937273  \n",
       "std      175.413859  \n",
       "min        1.000000  \n",
       "25%      155.000000  \n",
       "50%      306.000000  \n",
       "75%      458.000000  \n",
       "max      611.000000  \n",
       "\n",
       "[8 rows x 25 columns]"
      ]
     },
     "execution_count": 5,
     "metadata": {},
     "output_type": "execute_result"
    }
   ],
   "source": [
    "df.describe()"
   ]
  },
  {
   "cell_type": "code",
   "execution_count": 7,
   "id": "8a5e91e3-9ab5-458f-b208-f375716ff31d",
   "metadata": {
    "collapsed": true,
    "jupyter": {
     "outputs_hidden": true
    },
    "tags": []
   },
   "outputs": [
    {
     "data": {
      "text/plain": [
       "array([  1.,   2.,   3.,   4.,   5.,   6.,   7.,   8.,   9.,  10.,  11.,\n",
       "        12.,  13.,  14.,  15.,  16.,  17.,  18.,  19.,  20.,  21.,  22.,\n",
       "        23.,  24.,  25.,  26.,  27.,  28.,  29.,  30.,  31.,  32.,  33.,\n",
       "        34.,  35.,  36.,  37.,  38.,  39.,  40.,  41.,  42.,  43.,  44.,\n",
       "        45.,  46.,  47.,  48.,  49.,  50.,  51.,  52.,  53.,  54.,  55.,\n",
       "        56.,  57.,  58.,  59.,  60.,  61.,  62.,  63.,  64.,  65.,  66.,\n",
       "        67.,  68.,  69.,  70.,  71.,  72.,  73.,  74.,  75.,  76.,  77.,\n",
       "        78.,  79.,  80.,  81.,  82.,  83.,  84.,  85.,  86.,  87.,  88.,\n",
       "        89.,  90.,  91.,  92.,  93.,  94.,  95.,  96.,  97.,  98.,  99.,\n",
       "       100., 101., 102., 103., 104., 105., 106., 107., 108., 109., 110.,\n",
       "       111., 112., 113., 114., 115., 116., 117., 118., 119., 120., 121.,\n",
       "       122., 123., 124., 125., 126., 127., 128., 129., 130., 131., 132.,\n",
       "       133., 134., 135., 136., 137., 138., 139., 140., 141., 142., 143.,\n",
       "       144., 145., 146., 147., 148., 149., 150., 151., 152., 153., 154.,\n",
       "       155., 156., 157., 158., 159., 160., 161., 162., 163., 164., 165.,\n",
       "       166., 167., 168., 169., 170., 171., 172., 173., 174., 175., 176.,\n",
       "       177., 178., 179., 180., 181., 182., 183., 184., 185., 186., 187.,\n",
       "       188., 189., 190., 191., 192., 193., 194., 195., 196., 197., 198.,\n",
       "       199., 200., 201., 202., 203., 204., 205., 206., 207., 208., 209.,\n",
       "       210., 211., 212., 213., 214., 215., 216., 217., 218., 219., 220.,\n",
       "       221., 222., 223., 224., 225., 226., 227., 228., 229., 230., 231.,\n",
       "       232., 233., 234., 235., 236., 237., 238., 239., 240., 241., 242.,\n",
       "       243., 244., 245., 246., 247., 248., 249., 250., 251., 252., 253.,\n",
       "       254., 255., 256., 257., 258., 259., 260., 261., 262., 263., 264.,\n",
       "       265., 266., 267., 268., 269., 270., 271., 272., 273., 274., 275.,\n",
       "       276., 277., 278., 279., 280., 281., 282., 283., 284., 285., 286.,\n",
       "       287., 288., 289., 290., 291., 292., 293., 294., 295., 296., 297.,\n",
       "       298., 299., 300., 301., 302., 303., 304., 305., 306., 307., 308.,\n",
       "       309., 310., 311., 312., 313., 314., 315., 316., 317., 318., 319.,\n",
       "       320., 321., 322., 323., 324., 325., 326., 327., 328., 329., 330.,\n",
       "       331., 332., 333., 334., 335., 336., 337., 338., 339., 340., 341.,\n",
       "       342., 343., 344., 345., 346., 347., 348., 349., 350., 351., 352.,\n",
       "       353., 354., 355., 356., 357., 358., 359., 360., 361., 362., 363.,\n",
       "       364., 365., 366., 367., 368., 369., 370., 371., 372., 373., 374.,\n",
       "       375., 376., 377., 378., 379., 380., 381., 382., 383., 384., 385.,\n",
       "       386., 387., 388., 389., 390., 391., 392., 393., 394., 395., 396.,\n",
       "       397., 398., 399., 400., 401., 402., 403., 404., 405., 406., 407.,\n",
       "       408., 409., 410., 411., 412., 413., 414., 415., 416., 417., 418.,\n",
       "       419., 420., 421., 422., 423., 424., 425., 426., 427., 428., 429.,\n",
       "       430., 431., 432., 433., 434., 435., 436., 437., 438., 439., 440.,\n",
       "       441., 442., 443., 444., 445., 446., 447., 448., 449., 450., 451.,\n",
       "       452., 453., 454., 455., 456., 457., 458., 459., 460., 461., 462.,\n",
       "       463., 464., 465., 466., 467., 468., 469., 470., 471., 472., 473.,\n",
       "       474., 475., 476., 477., 478., 479., 480., 481., 482., 483., 484.,\n",
       "       485., 486., 487., 488., 489., 490., 491., 492., 493., 494., 495.,\n",
       "       496., 497., 498., 499., 500., 501., 502., 503., 504., 505., 506.,\n",
       "       507., 508., 509., 510., 511., 512., 513., 514., 515., 516., 517.,\n",
       "       518., 519., 520., 521., 522., 523., 524., 525., 526., 527., 528.,\n",
       "       529., 530., 531., 532., 533., 534., 535., 536., 537., 538., 539.,\n",
       "       540., 541., 542., 543., 544., 545., 546., 547., 548., 549., 550.,\n",
       "       551., 552., 553., 554., 555., 556., 557., 558., 559., 560., 561.,\n",
       "       562., 563., 564., 565., 566., 567., 568., 569., 570., 571., 572.,\n",
       "       573., 574., 575., 576., 577., 578., 579., 580., 581., 582., 583.,\n",
       "       584., 585., 586., 587., 588., 589., 590., 591., 592., 593., 594.,\n",
       "       595., 596., 597., 598., 599., 600., 601., 602., 603., 604., 605.,\n",
       "       606., 607., 608., 609., 610., 611.])"
      ]
     },
     "execution_count": 7,
     "metadata": {},
     "output_type": "execute_result"
    }
   ],
   "source": [
    "np.sort(df.clust_no.unique())  # 1 - 611"
   ]
  },
  {
   "cell_type": "code",
   "execution_count": 8,
   "id": "06d2eb2d-7f46-42eb-b908-421ec52e6d16",
   "metadata": {},
   "outputs": [
    {
     "data": {
      "text/plain": [
       "True"
      ]
     },
     "execution_count": 8,
     "metadata": {},
     "output_type": "execute_result"
    }
   ],
   "source": [
    "all(df.psu == df.clust_no)"
   ]
  },
  {
   "cell_type": "code",
   "execution_count": 10,
   "id": "808627b2-eb0d-47b9-9263-e40ef06990f7",
   "metadata": {},
   "outputs": [
    {
     "data": {
      "text/plain": [
       "True"
      ]
     },
     "execution_count": 10,
     "metadata": {},
     "output_type": "execute_result"
    }
   ],
   "source": [
    "df.ind_id.is_unique"
   ]
  },
  {
   "cell_type": "code",
   "execution_count": 15,
   "id": "94bfcd23-8a27-4a8f-8efd-c17c81462519",
   "metadata": {},
   "outputs": [
    {
     "data": {
      "text/plain": [
       "((36890, 33), (37735, 33))"
      ]
     },
     "execution_count": 15,
     "metadata": {},
     "output_type": "execute_result"
    }
   ],
   "source": [
    "df.dropna().shape, df.shape  # less than 1000 missing"
   ]
  },
  {
   "cell_type": "code",
   "execution_count": 18,
   "id": "a0b0651b-2749-4356-842b-083b19c9c467",
   "metadata": {
    "collapsed": true,
    "jupyter": {
     "outputs_hidden": true
    },
    "tags": []
   },
   "outputs": [
    {
     "data": {
      "text/html": [
       "<div>\n",
       "<style scoped>\n",
       "    .dataframe tbody tr th:only-of-type {\n",
       "        vertical-align: middle;\n",
       "    }\n",
       "\n",
       "    .dataframe tbody tr th {\n",
       "        vertical-align: top;\n",
       "    }\n",
       "\n",
       "    .dataframe thead th {\n",
       "        text-align: right;\n",
       "    }\n",
       "</style>\n",
       "<table border=\"1\" class=\"dataframe\">\n",
       "  <thead>\n",
       "    <tr style=\"text-align: right;\">\n",
       "      <th></th>\n",
       "      <th>d_cm</th>\n",
       "      <th>d_nutr</th>\n",
       "      <th>d_satt</th>\n",
       "      <th>d_educ</th>\n",
       "      <th>d_elct</th>\n",
       "      <th>d_wtr</th>\n",
       "      <th>d_sani</th>\n",
       "      <th>d_hsg</th>\n",
       "      <th>d_ckfl</th>\n",
       "      <th>d_asst</th>\n",
       "      <th>d_cm_01</th>\n",
       "      <th>d_nutr_01</th>\n",
       "      <th>d_satt_01</th>\n",
       "      <th>d_educ_01</th>\n",
       "      <th>d_elct_01</th>\n",
       "      <th>d_wtr_01</th>\n",
       "      <th>d_sani_01</th>\n",
       "      <th>d_hsg_01</th>\n",
       "      <th>d_ckfl_01</th>\n",
       "      <th>d_asst_01</th>\n",
       "    </tr>\n",
       "  </thead>\n",
       "  <tbody>\n",
       "    <tr>\n",
       "      <th>count</th>\n",
       "      <td>37595.000000</td>\n",
       "      <td>36966.000000</td>\n",
       "      <td>37735.000000</td>\n",
       "      <td>37726.000000</td>\n",
       "      <td>37731.000000</td>\n",
       "      <td>37731.000000</td>\n",
       "      <td>37735.000000</td>\n",
       "      <td>37735.000000</td>\n",
       "      <td>37735.000000</td>\n",
       "      <td>37735.000000</td>\n",
       "      <td>37595.000000</td>\n",
       "      <td>36966.000000</td>\n",
       "      <td>37735.000000</td>\n",
       "      <td>37726.000000</td>\n",
       "      <td>37731.000000</td>\n",
       "      <td>37731.000000</td>\n",
       "      <td>37735.000000</td>\n",
       "      <td>37735.000000</td>\n",
       "      <td>37735.000000</td>\n",
       "      <td>37735.000000</td>\n",
       "    </tr>\n",
       "    <tr>\n",
       "      <th>mean</th>\n",
       "      <td>0.036042</td>\n",
       "      <td>0.379781</td>\n",
       "      <td>0.116815</td>\n",
       "      <td>0.282007</td>\n",
       "      <td>0.608889</td>\n",
       "      <td>0.449047</td>\n",
       "      <td>0.617199</td>\n",
       "      <td>0.381582</td>\n",
       "      <td>0.875288</td>\n",
       "      <td>0.170876</td>\n",
       "      <td>0.036042</td>\n",
       "      <td>0.379781</td>\n",
       "      <td>0.116815</td>\n",
       "      <td>0.282007</td>\n",
       "      <td>0.608889</td>\n",
       "      <td>0.449047</td>\n",
       "      <td>0.617199</td>\n",
       "      <td>0.381582</td>\n",
       "      <td>0.875288</td>\n",
       "      <td>0.170876</td>\n",
       "    </tr>\n",
       "    <tr>\n",
       "      <th>std</th>\n",
       "      <td>0.186397</td>\n",
       "      <td>0.485339</td>\n",
       "      <td>0.321204</td>\n",
       "      <td>0.449983</td>\n",
       "      <td>0.488006</td>\n",
       "      <td>0.497404</td>\n",
       "      <td>0.486077</td>\n",
       "      <td>0.485781</td>\n",
       "      <td>0.330396</td>\n",
       "      <td>0.376405</td>\n",
       "      <td>0.186397</td>\n",
       "      <td>0.485339</td>\n",
       "      <td>0.321204</td>\n",
       "      <td>0.449983</td>\n",
       "      <td>0.488006</td>\n",
       "      <td>0.497404</td>\n",
       "      <td>0.486077</td>\n",
       "      <td>0.485781</td>\n",
       "      <td>0.330396</td>\n",
       "      <td>0.376405</td>\n",
       "    </tr>\n",
       "    <tr>\n",
       "      <th>min</th>\n",
       "      <td>0.000000</td>\n",
       "      <td>0.000000</td>\n",
       "      <td>0.000000</td>\n",
       "      <td>0.000000</td>\n",
       "      <td>0.000000</td>\n",
       "      <td>0.000000</td>\n",
       "      <td>0.000000</td>\n",
       "      <td>0.000000</td>\n",
       "      <td>0.000000</td>\n",
       "      <td>0.000000</td>\n",
       "      <td>0.000000</td>\n",
       "      <td>0.000000</td>\n",
       "      <td>0.000000</td>\n",
       "      <td>0.000000</td>\n",
       "      <td>0.000000</td>\n",
       "      <td>0.000000</td>\n",
       "      <td>0.000000</td>\n",
       "      <td>0.000000</td>\n",
       "      <td>0.000000</td>\n",
       "      <td>0.000000</td>\n",
       "    </tr>\n",
       "    <tr>\n",
       "      <th>25%</th>\n",
       "      <td>0.000000</td>\n",
       "      <td>0.000000</td>\n",
       "      <td>0.000000</td>\n",
       "      <td>0.000000</td>\n",
       "      <td>0.000000</td>\n",
       "      <td>0.000000</td>\n",
       "      <td>0.000000</td>\n",
       "      <td>0.000000</td>\n",
       "      <td>1.000000</td>\n",
       "      <td>0.000000</td>\n",
       "      <td>0.000000</td>\n",
       "      <td>0.000000</td>\n",
       "      <td>0.000000</td>\n",
       "      <td>0.000000</td>\n",
       "      <td>0.000000</td>\n",
       "      <td>0.000000</td>\n",
       "      <td>0.000000</td>\n",
       "      <td>0.000000</td>\n",
       "      <td>1.000000</td>\n",
       "      <td>0.000000</td>\n",
       "    </tr>\n",
       "    <tr>\n",
       "      <th>50%</th>\n",
       "      <td>0.000000</td>\n",
       "      <td>0.000000</td>\n",
       "      <td>0.000000</td>\n",
       "      <td>0.000000</td>\n",
       "      <td>1.000000</td>\n",
       "      <td>0.000000</td>\n",
       "      <td>1.000000</td>\n",
       "      <td>0.000000</td>\n",
       "      <td>1.000000</td>\n",
       "      <td>0.000000</td>\n",
       "      <td>0.000000</td>\n",
       "      <td>0.000000</td>\n",
       "      <td>0.000000</td>\n",
       "      <td>0.000000</td>\n",
       "      <td>1.000000</td>\n",
       "      <td>0.000000</td>\n",
       "      <td>1.000000</td>\n",
       "      <td>0.000000</td>\n",
       "      <td>1.000000</td>\n",
       "      <td>0.000000</td>\n",
       "    </tr>\n",
       "    <tr>\n",
       "      <th>75%</th>\n",
       "      <td>0.000000</td>\n",
       "      <td>1.000000</td>\n",
       "      <td>0.000000</td>\n",
       "      <td>1.000000</td>\n",
       "      <td>1.000000</td>\n",
       "      <td>1.000000</td>\n",
       "      <td>1.000000</td>\n",
       "      <td>1.000000</td>\n",
       "      <td>1.000000</td>\n",
       "      <td>0.000000</td>\n",
       "      <td>0.000000</td>\n",
       "      <td>1.000000</td>\n",
       "      <td>0.000000</td>\n",
       "      <td>1.000000</td>\n",
       "      <td>1.000000</td>\n",
       "      <td>1.000000</td>\n",
       "      <td>1.000000</td>\n",
       "      <td>1.000000</td>\n",
       "      <td>1.000000</td>\n",
       "      <td>0.000000</td>\n",
       "    </tr>\n",
       "    <tr>\n",
       "      <th>max</th>\n",
       "      <td>1.000000</td>\n",
       "      <td>1.000000</td>\n",
       "      <td>1.000000</td>\n",
       "      <td>1.000000</td>\n",
       "      <td>1.000000</td>\n",
       "      <td>1.000000</td>\n",
       "      <td>1.000000</td>\n",
       "      <td>1.000000</td>\n",
       "      <td>1.000000</td>\n",
       "      <td>1.000000</td>\n",
       "      <td>1.000000</td>\n",
       "      <td>1.000000</td>\n",
       "      <td>1.000000</td>\n",
       "      <td>1.000000</td>\n",
       "      <td>1.000000</td>\n",
       "      <td>1.000000</td>\n",
       "      <td>1.000000</td>\n",
       "      <td>1.000000</td>\n",
       "      <td>1.000000</td>\n",
       "      <td>1.000000</td>\n",
       "    </tr>\n",
       "  </tbody>\n",
       "</table>\n",
       "</div>"
      ],
      "text/plain": [
       "               d_cm        d_nutr        d_satt        d_educ        d_elct  \\\n",
       "count  37595.000000  36966.000000  37735.000000  37726.000000  37731.000000   \n",
       "mean       0.036042      0.379781      0.116815      0.282007      0.608889   \n",
       "std        0.186397      0.485339      0.321204      0.449983      0.488006   \n",
       "min        0.000000      0.000000      0.000000      0.000000      0.000000   \n",
       "25%        0.000000      0.000000      0.000000      0.000000      0.000000   \n",
       "50%        0.000000      0.000000      0.000000      0.000000      1.000000   \n",
       "75%        0.000000      1.000000      0.000000      1.000000      1.000000   \n",
       "max        1.000000      1.000000      1.000000      1.000000      1.000000   \n",
       "\n",
       "              d_wtr        d_sani         d_hsg        d_ckfl        d_asst  \\\n",
       "count  37731.000000  37735.000000  37735.000000  37735.000000  37735.000000   \n",
       "mean       0.449047      0.617199      0.381582      0.875288      0.170876   \n",
       "std        0.497404      0.486077      0.485781      0.330396      0.376405   \n",
       "min        0.000000      0.000000      0.000000      0.000000      0.000000   \n",
       "25%        0.000000      0.000000      0.000000      1.000000      0.000000   \n",
       "50%        0.000000      1.000000      0.000000      1.000000      0.000000   \n",
       "75%        1.000000      1.000000      1.000000      1.000000      0.000000   \n",
       "max        1.000000      1.000000      1.000000      1.000000      1.000000   \n",
       "\n",
       "            d_cm_01     d_nutr_01     d_satt_01     d_educ_01     d_elct_01  \\\n",
       "count  37595.000000  36966.000000  37735.000000  37726.000000  37731.000000   \n",
       "mean       0.036042      0.379781      0.116815      0.282007      0.608889   \n",
       "std        0.186397      0.485339      0.321204      0.449983      0.488006   \n",
       "min        0.000000      0.000000      0.000000      0.000000      0.000000   \n",
       "25%        0.000000      0.000000      0.000000      0.000000      0.000000   \n",
       "50%        0.000000      0.000000      0.000000      0.000000      1.000000   \n",
       "75%        0.000000      1.000000      0.000000      1.000000      1.000000   \n",
       "max        1.000000      1.000000      1.000000      1.000000      1.000000   \n",
       "\n",
       "           d_wtr_01     d_sani_01      d_hsg_01     d_ckfl_01     d_asst_01  \n",
       "count  37731.000000  37735.000000  37735.000000  37735.000000  37735.000000  \n",
       "mean       0.449047      0.617199      0.381582      0.875288      0.170876  \n",
       "std        0.497404      0.486077      0.485781      0.330396      0.376405  \n",
       "min        0.000000      0.000000      0.000000      0.000000      0.000000  \n",
       "25%        0.000000      0.000000      0.000000      1.000000      0.000000  \n",
       "50%        0.000000      1.000000      0.000000      1.000000      0.000000  \n",
       "75%        1.000000      1.000000      1.000000      1.000000      0.000000  \n",
       "max        1.000000      1.000000      1.000000      1.000000      1.000000  "
      ]
     },
     "execution_count": 18,
     "metadata": {},
     "output_type": "execute_result"
    }
   ],
   "source": [
    "df.loc[:, df.columns.str.startswith('d')].describe()  # indicators: 0/1"
   ]
  },
  {
   "cell_type": "markdown",
   "id": "f29ffbf5-3134-443d-abd2-b76486d440e4",
   "metadata": {
    "tags": []
   },
   "source": [
    "#### a single sample weight in each cluster?"
   ]
  },
  {
   "cell_type": "code",
   "execution_count": 6,
   "id": "91e785b6-92b2-40cd-9892-071e6f167695",
   "metadata": {},
   "outputs": [],
   "source": [
    "df = pd.read_stata(datafd_path / 'khm_dhs10' / 'khm_dhs10_clustno.dta')"
   ]
  },
  {
   "cell_type": "code",
   "execution_count": 19,
   "id": "84859ebc-5d98-4372-889a-ad45b13340d6",
   "metadata": {},
   "outputs": [
    {
     "data": {
      "text/plain": [
       "True"
      ]
     },
     "execution_count": 19,
     "metadata": {},
     "output_type": "execute_result"
    }
   ],
   "source": [
    "n_wgt_per_hh = df.groupby('hh_id')['weight'].nunique()\n",
    "all(n_wgt_per_hh == 1)"
   ]
  },
  {
   "cell_type": "markdown",
   "id": "0aa0b286-002e-45ba-91f3-d1748b12873e",
   "metadata": {},
   "source": [
    "### sanity check outputs from dropping of housing indicator"
   ]
  },
  {
   "cell_type": "markdown",
   "id": "21b3626e-d6bf-49bf-9f82-a2e7afad6a2e",
   "metadata": {},
   "source": [
    "#### read in microdata "
   ]
  },
  {
   "cell_type": "code",
   "execution_count": 2,
   "id": "a4a4d604-2892-411d-a021-ae4a7b2556f7",
   "metadata": {},
   "outputs": [],
   "source": [
    "YY = '10'"
   ]
  },
  {
   "cell_type": "markdown",
   "id": "4b77bbfc-a230-476d-85d9-84e47af6d40e",
   "metadata": {
    "tags": []
   },
   "source": [
    "##### harmonized with 05 and 14"
   ]
  },
  {
   "cell_type": "code",
   "execution_count": 3,
   "id": "54becbad-3914-4f12-bb09-9636f526769c",
   "metadata": {},
   "outputs": [],
   "source": [
    "df = pd.read_stata(datafd_path / f'khm_dhs{YY}_cot' / f'khm_dhs{YY}.dta')"
   ]
  },
  {
   "cell_type": "markdown",
   "id": "78a95536-9035-4129-97a8-24fbf2a66f92",
   "metadata": {},
   "source": [
    "##### harmonized with 05 and 14, wall material excluded "
   ]
  },
  {
   "cell_type": "code",
   "execution_count": 4,
   "id": "5fe62c61-733a-4b12-899c-e2f7e75fa687",
   "metadata": {},
   "outputs": [],
   "source": [
    "df_nowall = pd.read_stata(datafd_path / f'khm_dhs{YY}_cot_nowall' / f'khm_dhs{YY}.dta')"
   ]
  },
  {
   "cell_type": "markdown",
   "id": "3755f218-d21a-49cd-bb86-0a843600a438",
   "metadata": {},
   "source": [
    "#### compare"
   ]
  },
  {
   "cell_type": "markdown",
   "id": "e84feaad-e812-4f0d-9481-830c91c1add3",
   "metadata": {},
   "source": [
    "##### same except for housing indicator"
   ]
  },
  {
   "cell_type": "code",
   "execution_count": 5,
   "id": "2360871a-4b62-4226-90b3-c767d040d5a1",
   "metadata": {},
   "outputs": [
    {
     "data": {
      "text/plain": [
       "Index(['hh_id', 'ind_id', 'psu', 'strata', 'subsample', 'weight', 'area',\n",
       "       'region', 'region_01', 'agec4', 'agec2', 'd_cm', 'd_nutr', 'd_satt',\n",
       "       'd_educ', 'd_elct', 'd_wtr', 'd_sani', 'd_hsg', 'd_ckfl', 'd_asst',\n",
       "       'd_cm_01', 'd_nutr_01', 'd_satt_01', 'd_educ_01', 'd_elct_01',\n",
       "       'd_wtr_01', 'd_sani_01', 'd_hsg_01', 'd_ckfl_01', 'd_asst_01'],\n",
       "      dtype='object')"
      ]
     },
     "execution_count": 5,
     "metadata": {},
     "output_type": "execute_result"
    }
   ],
   "source": [
    "df.columns"
   ]
  },
  {
   "cell_type": "code",
   "execution_count": 6,
   "id": "bb55e27d-7fee-43e3-9383-2459b517b3f7",
   "metadata": {},
   "outputs": [
    {
     "data": {
      "text/plain": [
       "Index(['hh_id', 'ind_id', 'psu', 'strata', 'subsample', 'weight', 'area',\n",
       "       'region', 'region_01', 'agec4', 'agec2', 'd_cm', 'd_nutr', 'd_satt',\n",
       "       'd_educ', 'd_elct', 'd_wtr', 'd_sani', 'd_hsg', 'd_ckfl', 'd_asst',\n",
       "       'd_cm_01', 'd_nutr_01', 'd_satt_01', 'd_educ_01', 'd_elct_01',\n",
       "       'd_wtr_01', 'd_sani_01', 'd_hsg_01', 'd_ckfl_01', 'd_asst_01'],\n",
       "      dtype='object')"
      ]
     },
     "execution_count": 6,
     "metadata": {},
     "output_type": "execute_result"
    }
   ],
   "source": [
    "df_nowall.columns"
   ]
  },
  {
   "cell_type": "code",
   "execution_count": 7,
   "id": "50f628c8-2217-48c0-81ae-0fffb7d3f095",
   "metadata": {},
   "outputs": [],
   "source": [
    "df_bulk = df.drop(columns=['d_hsg', 'd_hsg_01'])\n",
    "df_nowall_bulk = df_nowall.drop(columns=['d_hsg', 'd_hsg_01'])"
   ]
  },
  {
   "cell_type": "code",
   "execution_count": 8,
   "id": "e57e9249-77ce-4227-b2d3-04e9f2934a83",
   "metadata": {},
   "outputs": [],
   "source": [
    "pd.testing.assert_frame_equal(df_bulk, df_nowall_bulk)"
   ]
  },
  {
   "cell_type": "markdown",
   "id": "5ec08fa8-0734-45d3-b573-eb6bab258b52",
   "metadata": {},
   "source": [
    "##### difference in housing indicator"
   ]
  },
  {
   "cell_type": "code",
   "execution_count": 9,
   "id": "474d2ad9-5e13-4e8c-b2c4-a10b4b109617",
   "metadata": {},
   "outputs": [
    {
     "data": {
      "text/plain": [
       "0.38330462435404794"
      ]
     },
     "execution_count": 9,
     "metadata": {},
     "output_type": "execute_result"
    }
   ],
   "source": [
    "df.d_hsg.mean()"
   ]
  },
  {
   "cell_type": "code",
   "execution_count": 10,
   "id": "f5e9312b-99e2-49ee-81f5-da6060a2e2fb",
   "metadata": {},
   "outputs": [
    {
     "data": {
      "text/plain": [
       "0.1763879687292964"
      ]
     },
     "execution_count": 10,
     "metadata": {},
     "output_type": "execute_result"
    }
   ],
   "source": [
    "df_nowall.d_hsg.mean()"
   ]
  },
  {
   "cell_type": "markdown",
   "id": "e7309d20-1813-4002-aacb-56478bd4ca00",
   "metadata": {},
   "source": [
    "## khm dhs14"
   ]
  },
  {
   "cell_type": "markdown",
   "id": "ffd2d866-8e34-4dc3-a717-646607c67592",
   "metadata": {},
   "source": [
    "### sanity check outputs from dropping of housing indicator"
   ]
  },
  {
   "cell_type": "markdown",
   "id": "c8df2f02-6014-4ae1-951c-f89d1631b2ca",
   "metadata": {},
   "source": [
    "#### read in microdata "
   ]
  },
  {
   "cell_type": "code",
   "execution_count": 11,
   "id": "9f6fe02d-ce7a-4989-b1da-1611eb0b020b",
   "metadata": {},
   "outputs": [],
   "source": [
    "YY = '14'"
   ]
  },
  {
   "cell_type": "markdown",
   "id": "d3ea7b13-1d8a-42c1-8e7e-e5240ebab82b",
   "metadata": {
    "tags": []
   },
   "source": [
    "##### harmonized with 10 and 05"
   ]
  },
  {
   "cell_type": "code",
   "execution_count": 12,
   "id": "48650751-ac2b-4f81-9c5b-04e98ab495f7",
   "metadata": {},
   "outputs": [],
   "source": [
    "df = pd.read_stata(datafd_path / f'khm_dhs{YY}_cot' / f'khm_dhs{YY}.dta')"
   ]
  },
  {
   "cell_type": "markdown",
   "id": "38658c7e-90fb-4221-b6d1-047949abd20e",
   "metadata": {},
   "source": [
    "##### harmonized with 10 and 05, wall material excluded "
   ]
  },
  {
   "cell_type": "code",
   "execution_count": 13,
   "id": "82b8e4c7-a3a2-4fd9-8809-1c68ac3ab51e",
   "metadata": {},
   "outputs": [],
   "source": [
    "df_nowall = pd.read_stata(datafd_path / f'khm_dhs{YY}_cot_nowall' / f'khm_dhs{YY}.dta')"
   ]
  },
  {
   "cell_type": "markdown",
   "id": "0316b697-dde5-4f8c-b184-b2834ca569bb",
   "metadata": {},
   "source": [
    "#### compare"
   ]
  },
  {
   "cell_type": "markdown",
   "id": "103923c8-37e0-4538-8076-357c1c32b8cc",
   "metadata": {},
   "source": [
    "##### same except for housing indicator"
   ]
  },
  {
   "cell_type": "code",
   "execution_count": 14,
   "id": "0b6d0bac-4461-4d76-9295-162e7bd4b728",
   "metadata": {},
   "outputs": [
    {
     "data": {
      "text/plain": [
       "Index(['hh_id', 'ind_id', 'psu', 'strata', 'subsample', 'weight', 'area',\n",
       "       'region', 'region_01', 'agec4', 'agec2', 'd_cm', 'd_nutr', 'd_satt',\n",
       "       'd_educ', 'd_elct', 'd_wtr', 'd_sani', 'd_hsg', 'd_ckfl', 'd_asst',\n",
       "       'd_cm_01', 'd_nutr_01', 'd_satt_01', 'd_educ_01', 'd_elct_01',\n",
       "       'd_wtr_01', 'd_sani_01', 'd_hsg_01', 'd_ckfl_01', 'd_asst_01'],\n",
       "      dtype='object')"
      ]
     },
     "execution_count": 14,
     "metadata": {},
     "output_type": "execute_result"
    }
   ],
   "source": [
    "df.columns"
   ]
  },
  {
   "cell_type": "code",
   "execution_count": 15,
   "id": "4b56afa2-e201-4626-ae54-c0389de43a84",
   "metadata": {},
   "outputs": [
    {
     "data": {
      "text/plain": [
       "Index(['hh_id', 'ind_id', 'psu', 'strata', 'subsample', 'weight', 'area',\n",
       "       'region', 'region_01', 'agec4', 'agec2', 'd_cm', 'd_nutr', 'd_satt',\n",
       "       'd_educ', 'd_elct', 'd_wtr', 'd_sani', 'd_hsg', 'd_ckfl', 'd_asst',\n",
       "       'd_cm_01', 'd_nutr_01', 'd_satt_01', 'd_educ_01', 'd_elct_01',\n",
       "       'd_wtr_01', 'd_sani_01', 'd_hsg_01', 'd_ckfl_01', 'd_asst_01'],\n",
       "      dtype='object')"
      ]
     },
     "execution_count": 15,
     "metadata": {},
     "output_type": "execute_result"
    }
   ],
   "source": [
    "df_nowall.columns"
   ]
  },
  {
   "cell_type": "code",
   "execution_count": 16,
   "id": "9ccefcb1-8f9b-4305-879d-6599d760f279",
   "metadata": {},
   "outputs": [],
   "source": [
    "df_bulk = df.drop(columns=['d_hsg', 'd_hsg_01'])\n",
    "df_nowall_bulk = df_nowall.drop(columns=['d_hsg', 'd_hsg_01'])"
   ]
  },
  {
   "cell_type": "code",
   "execution_count": 17,
   "id": "fd007f1b-a4fb-46ff-8ba0-7068100cb8fe",
   "metadata": {},
   "outputs": [],
   "source": [
    "pd.testing.assert_frame_equal(df_bulk, df_nowall_bulk)"
   ]
  },
  {
   "cell_type": "markdown",
   "id": "c27c2206-6595-46c2-aa8f-daeecf1bfeb9",
   "metadata": {},
   "source": [
    "##### difference in housing indicator"
   ]
  },
  {
   "cell_type": "code",
   "execution_count": 18,
   "id": "e25396dc-8b5c-49ed-87cc-f56fb6b2e92e",
   "metadata": {},
   "outputs": [
    {
     "data": {
      "text/plain": [
       "0.3243733956633345"
      ]
     },
     "execution_count": 18,
     "metadata": {},
     "output_type": "execute_result"
    }
   ],
   "source": [
    "df.d_hsg.mean()"
   ]
  },
  {
   "cell_type": "code",
   "execution_count": 19,
   "id": "13620550-dc17-41f0-835d-70971e514b6d",
   "metadata": {},
   "outputs": [
    {
     "data": {
      "text/plain": [
       "0.12132406653726546"
      ]
     },
     "execution_count": 19,
     "metadata": {},
     "output_type": "execute_result"
    }
   ],
   "source": [
    "df_nowall.d_hsg.mean()"
   ]
  }
 ],
 "metadata": {
  "kernelspec": {
   "display_name": "Python 3 (ipykernel)",
   "language": "python",
   "name": "python3"
  },
  "language_info": {
   "codemirror_mode": {
    "name": "ipython",
    "version": 3
   },
   "file_extension": ".py",
   "mimetype": "text/x-python",
   "name": "python",
   "nbconvert_exporter": "python",
   "pygments_lexer": "ipython3",
   "version": "3.10.11"
  }
 },
 "nbformat": 4,
 "nbformat_minor": 5
}
