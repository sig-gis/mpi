{
 "cells": [
  {
   "cell_type": "markdown",
   "metadata": {},
   "source": [
    "This notebooks checks the microdata harmonized across 2000 2005 2010 2014 and 2021-22 (generated from `khm_dhsYY_microdata_hmn.do`). Specifically, it confirms that, for 2005 2010 and 2014, only the drinking water indicator differs from a previous version that is harmonized only across the three years."
   ]
  },
  {
   "cell_type": "code",
   "execution_count": 1,
   "metadata": {},
   "outputs": [],
   "source": [
    "from pathlib import Path\n",
    "import pandas as pd\n",
    "import numpy as np\n",
    "\n",
    "code_path = Path(r'C:\\Users\\tianc\\OneDrive\\Documents\\SIG\\DISES\\code\\MPI')\n",
    "datafd_path = code_path.parent.parent / 'data' / 'MPI'"
   ]
  },
  {
   "cell_type": "code",
   "execution_count": 2,
   "metadata": {},
   "outputs": [
    {
     "name": "stdout",
     "output_type": "stream",
     "text": [
      "05\n",
      "Before harmonization: 0.5159689313854695\n",
      "After harmonization: 0.5204834141827664\n",
      "\n",
      "10\n",
      "Before harmonization: 0.44904720256552966\n",
      "After harmonization: 0.45180355675704326\n",
      "\n",
      "14\n",
      "Before harmonization: 0.3581239041496201\n",
      "After harmonization: 0.361901978792686\n",
      "\n"
     ]
    }
   ],
   "source": [
    "for year in ['05', '10', '14']:\n",
    "    print(year)\n",
    "    # Read in two versions of microdata \n",
    "    ## harmonized with 10 and 14\n",
    "    df = pd.read_stata(datafd_path / f'khm_dhs{year}_cot_nowall' / f'khm_dhs{year}.dta')\n",
    "    ## harmonized with all years\n",
    "    df_hmn = pd.read_stata(datafd_path / 'khm_hmn' / f'khm_dhs{year}.dta')\n",
    "    \n",
    "    # Microdata without drinking water indicator\n",
    "    df_bulk = df.drop(columns=['d_wtr', 'd_wtr_01'])\n",
    "    df_hmn_bulk = df_hmn.drop(columns=['d_wtr', 'd_wtr_01'])\n",
    "    # Are the same across two versions\n",
    "    pd.testing.assert_frame_equal(df_bulk, df_hmn_bulk)\n",
    "\n",
    "    # Difference in drinking water indicator\n",
    "    print(\n",
    "        f'Before harmonization: {df.d_wtr.mean()}\\n'\n",
    "        f'After harmonization: {df_hmn.d_wtr.mean()}'  # a bit more deprived as expected since protected spring is recategorized as non-improved for harmonization purposes\n",
    "    )\n",
    "    print()"
   ]
  },
  {
   "cell_type": "code",
   "execution_count": null,
   "metadata": {},
   "outputs": [],
   "source": []
  }
 ],
 "metadata": {
  "kernelspec": {
   "display_name": "DISES",
   "language": "python",
   "name": "python3"
  },
  "language_info": {
   "codemirror_mode": {
    "name": "ipython",
    "version": 3
   },
   "file_extension": ".py",
   "mimetype": "text/x-python",
   "name": "python",
   "nbconvert_exporter": "python",
   "pygments_lexer": "ipython3",
   "version": "3.10.11"
  }
 },
 "nbformat": 4,
 "nbformat_minor": 2
}
